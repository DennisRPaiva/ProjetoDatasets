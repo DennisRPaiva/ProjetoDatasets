{
 "cells": [
  {
   "cell_type": "markdown",
   "id": "1721762f-fd34-4d1d-93a4-826fc685408e",
   "metadata": {},
   "source": [
    "# Nuclear States Study\n",
    "By Ricardo Rocha"
   ]
  },
  {
   "cell_type": "code",
   "execution_count": 17,
   "id": "d1f6a992-50a0-49a5-96bf-93e42ce74542",
   "metadata": {},
   "outputs": [],
   "source": [
    "import pandas as pd\n",
    "import numpy as np\n",
    "import matplotlib.pyplot as plt\n",
    "import seaborn as sns"
   ]
  },
  {
   "cell_type": "code",
   "execution_count": 2,
   "id": "02dee4ec-303d-4d58-aff9-27e61673e024",
   "metadata": {},
   "outputs": [
    {
     "data": {
      "text/html": [
       "<div>\n",
       "<style scoped>\n",
       "    .dataframe tbody tr th:only-of-type {\n",
       "        vertical-align: middle;\n",
       "    }\n",
       "\n",
       "    .dataframe tbody tr th {\n",
       "        vertical-align: top;\n",
       "    }\n",
       "\n",
       "    .dataframe thead th {\n",
       "        text-align: right;\n",
       "    }\n",
       "</style>\n",
       "<table border=\"1\" class=\"dataframe\">\n",
       "  <thead>\n",
       "    <tr style=\"text-align: right;\">\n",
       "      <th></th>\n",
       "      <th>Date</th>\n",
       "      <th>Headline</th>\n",
       "      <th>Conflict Type</th>\n",
       "      <th>Country</th>\n",
       "      <th>Region</th>\n",
       "      <th>Description</th>\n",
       "      <th>Sources</th>\n",
       "    </tr>\n",
       "  </thead>\n",
       "  <tbody>\n",
       "    <tr>\n",
       "      <th>922</th>\n",
       "      <td>2019</td>\n",
       "      <td>One Israeli killed and two others injured at a...</td>\n",
       "      <td>Trigger</td>\n",
       "      <td>Palestine</td>\n",
       "      <td>Western Asia</td>\n",
       "      <td>A homemade bomb explodes at a spring, killing ...</td>\n",
       "      <td>Chronicle News Service 2019</td>\n",
       "    </tr>\n",
       "    <tr>\n",
       "      <th>923</th>\n",
       "      <td>2019</td>\n",
       "      <td>50,000 people flee their homes in central Mali...</td>\n",
       "      <td>Trigger</td>\n",
       "      <td>Mali</td>\n",
       "      <td>Sub-Saharan Africa</td>\n",
       "      <td>A series of massacres in central Mali, fueled ...</td>\n",
       "      <td>Webb 2019</td>\n",
       "    </tr>\n",
       "    <tr>\n",
       "      <th>924</th>\n",
       "      <td>2019</td>\n",
       "      <td>Violence in northwest Syria damages civilian i...</td>\n",
       "      <td>Casualty</td>\n",
       "      <td>Syria</td>\n",
       "      <td>Western Asia</td>\n",
       "      <td>From January through July 2019 violence in nor...</td>\n",
       "      <td>US Agency for International Development 2019</td>\n",
       "    </tr>\n",
       "    <tr>\n",
       "      <th>925</th>\n",
       "      <td>2019</td>\n",
       "      <td>Shrapnel damages a water pipeline, leaving mor...</td>\n",
       "      <td>Casualty</td>\n",
       "      <td>Ukraine</td>\n",
       "      <td>Eastern Europe</td>\n",
       "      <td>Shrapnel from an exploding shells damages a pi...</td>\n",
       "      <td>UNICEF 2019</td>\n",
       "    </tr>\n",
       "    <tr>\n",
       "      <th>926</th>\n",
       "      <td>2022</td>\n",
       "      <td>Conflict in Ukraine</td>\n",
       "      <td>Weapon</td>\n",
       "      <td>Keiv,Ukraine</td>\n",
       "      <td>Eastern Europe</td>\n",
       "      <td>The Russo-Ukrainian War is an ongoing war prim...</td>\n",
       "      <td>UNICEF 2020</td>\n",
       "    </tr>\n",
       "  </tbody>\n",
       "</table>\n",
       "</div>"
      ],
      "text/plain": [
       "     Date                                           Headline Conflict Type  \\\n",
       "922  2019  One Israeli killed and two others injured at a...       Trigger   \n",
       "923  2019  50,000 people flee their homes in central Mali...       Trigger   \n",
       "924  2019  Violence in northwest Syria damages civilian i...      Casualty   \n",
       "925  2019  Shrapnel damages a water pipeline, leaving mor...      Casualty   \n",
       "926  2022                                Conflict in Ukraine        Weapon   \n",
       "\n",
       "          Country              Region  \\\n",
       "922     Palestine        Western Asia   \n",
       "923          Mali  Sub-Saharan Africa   \n",
       "924         Syria        Western Asia   \n",
       "925       Ukraine      Eastern Europe   \n",
       "926  Keiv,Ukraine      Eastern Europe   \n",
       "\n",
       "                                           Description  \\\n",
       "922  A homemade bomb explodes at a spring, killing ...   \n",
       "923  A series of massacres in central Mali, fueled ...   \n",
       "924  From January through July 2019 violence in nor...   \n",
       "925  Shrapnel from an exploding shells damages a pi...   \n",
       "926  The Russo-Ukrainian War is an ongoing war prim...   \n",
       "\n",
       "                                          Sources  \n",
       "922                   Chronicle News Service 2019  \n",
       "923                                     Webb 2019  \n",
       "924  US Agency for International Development 2019  \n",
       "925                                   UNICEF 2019  \n",
       "926                                   UNICEF 2020  "
      ]
     },
     "metadata": {},
     "output_type": "display_data"
    },
    {
     "data": {
      "text/html": [
       "<div>\n",
       "<style scoped>\n",
       "    .dataframe tbody tr th:only-of-type {\n",
       "        vertical-align: middle;\n",
       "    }\n",
       "\n",
       "    .dataframe tbody tr th {\n",
       "        vertical-align: top;\n",
       "    }\n",
       "\n",
       "    .dataframe thead th {\n",
       "        text-align: right;\n",
       "    }\n",
       "</style>\n",
       "<table border=\"1\" class=\"dataframe\">\n",
       "  <thead>\n",
       "    <tr style=\"text-align: right;\">\n",
       "      <th></th>\n",
       "      <th>country_name</th>\n",
       "      <th>year</th>\n",
       "      <th>nuclear_weapons_stockpile</th>\n",
       "    </tr>\n",
       "  </thead>\n",
       "  <tbody>\n",
       "    <tr>\n",
       "      <th>775</th>\n",
       "      <td>United States</td>\n",
       "      <td>2018</td>\n",
       "      <td>3785</td>\n",
       "    </tr>\n",
       "    <tr>\n",
       "      <th>776</th>\n",
       "      <td>United States</td>\n",
       "      <td>2019</td>\n",
       "      <td>3805</td>\n",
       "    </tr>\n",
       "    <tr>\n",
       "      <th>777</th>\n",
       "      <td>United States</td>\n",
       "      <td>2020</td>\n",
       "      <td>3750</td>\n",
       "    </tr>\n",
       "    <tr>\n",
       "      <th>778</th>\n",
       "      <td>United States</td>\n",
       "      <td>2021</td>\n",
       "      <td>3708</td>\n",
       "    </tr>\n",
       "    <tr>\n",
       "      <th>779</th>\n",
       "      <td>United States</td>\n",
       "      <td>2022</td>\n",
       "      <td>3708</td>\n",
       "    </tr>\n",
       "  </tbody>\n",
       "</table>\n",
       "</div>"
      ],
      "text/plain": [
       "      country_name  year  nuclear_weapons_stockpile\n",
       "775  United States  2018                       3785\n",
       "776  United States  2019                       3805\n",
       "777  United States  2020                       3750\n",
       "778  United States  2021                       3708\n",
       "779  United States  2022                       3708"
      ]
     },
     "metadata": {},
     "output_type": "display_data"
    }
   ],
   "source": [
    "conflicts = pd.read_csv('conflicts_and_wars_202403110030.csv', delimiter=',')\n",
    "nuclear_stockpiles = pd.read_csv('nuclear_weapon/nuclear_weapons_stockpiles.csv', delimiter=',')\n",
    "display(conflicts.tail(),nuclear_stockpiles.tail())"
   ]
  },
  {
   "cell_type": "markdown",
   "id": "b61b7e4a-3ee1-435d-9525-514cab0db7d2",
   "metadata": {},
   "source": [
    "## Are regions that have historicaly been more violent  more likely to have nuclear powers?"
   ]
  },
  {
   "cell_type": "markdown",
   "id": "09d7e3cf-cb29-404a-ac9e-09e8fe4de849",
   "metadata": {},
   "source": [
    "To understand violence by region, it is necessary for the nuclear_stockpiles DataFrame to have a region indicating what region each country belongs to so it's possible to correlate with the already defined region in the conflicts DataFrame."
   ]
  },
  {
   "cell_type": "code",
   "execution_count": 3,
   "id": "441c7c92-518d-4879-af4e-65807afbafd7",
   "metadata": {},
   "outputs": [
    {
     "data": {
      "text/html": [
       "<div>\n",
       "<style scoped>\n",
       "    .dataframe tbody tr th:only-of-type {\n",
       "        vertical-align: middle;\n",
       "    }\n",
       "\n",
       "    .dataframe tbody tr th {\n",
       "        vertical-align: top;\n",
       "    }\n",
       "\n",
       "    .dataframe thead th {\n",
       "        text-align: right;\n",
       "    }\n",
       "</style>\n",
       "<table border=\"1\" class=\"dataframe\">\n",
       "  <thead>\n",
       "    <tr style=\"text-align: right;\">\n",
       "      <th></th>\n",
       "      <th>country_name</th>\n",
       "      <th>year</th>\n",
       "      <th>nuclear_weapons_stockpile</th>\n",
       "      <th>Region</th>\n",
       "    </tr>\n",
       "  </thead>\n",
       "  <tbody>\n",
       "    <tr>\n",
       "      <th>775</th>\n",
       "      <td>United States</td>\n",
       "      <td>2018</td>\n",
       "      <td>3785</td>\n",
       "      <td>North America</td>\n",
       "    </tr>\n",
       "    <tr>\n",
       "      <th>776</th>\n",
       "      <td>United States</td>\n",
       "      <td>2019</td>\n",
       "      <td>3805</td>\n",
       "      <td>North America</td>\n",
       "    </tr>\n",
       "    <tr>\n",
       "      <th>777</th>\n",
       "      <td>United States</td>\n",
       "      <td>2020</td>\n",
       "      <td>3750</td>\n",
       "      <td>North America</td>\n",
       "    </tr>\n",
       "    <tr>\n",
       "      <th>778</th>\n",
       "      <td>United States</td>\n",
       "      <td>2021</td>\n",
       "      <td>3708</td>\n",
       "      <td>North America</td>\n",
       "    </tr>\n",
       "    <tr>\n",
       "      <th>779</th>\n",
       "      <td>United States</td>\n",
       "      <td>2022</td>\n",
       "      <td>3708</td>\n",
       "      <td>North America</td>\n",
       "    </tr>\n",
       "  </tbody>\n",
       "</table>\n",
       "</div>"
      ],
      "text/plain": [
       "      country_name  year  nuclear_weapons_stockpile         Region\n",
       "775  United States  2018                       3785  North America\n",
       "776  United States  2019                       3805  North America\n",
       "777  United States  2020                       3750  North America\n",
       "778  United States  2021                       3708  North America\n",
       "779  United States  2022                       3708  North America"
      ]
     },
     "execution_count": 3,
     "metadata": {},
     "output_type": "execute_result"
    }
   ],
   "source": [
    "country_to_region = dict(zip(conflicts['Country'], conflicts['Region']))\n",
    "\n",
    "nuclear_stockpiles['Region'] = nuclear_stockpiles['country_name'].map(country_to_region)\n",
    "nuclear_stockpiles.tail()"
   ]
  },
  {
   "cell_type": "code",
   "execution_count": 4,
   "id": "9a914353-9199-4f8d-9849-45c6b23d7223",
   "metadata": {
    "scrolled": true
   },
   "outputs": [
    {
     "data": {
      "text/plain": [
       "Region\n",
       "*Western Asia                                                                                                        1\n",
       "Australia and New Zealand                                                                                            2\n",
       "Central Asia                                                                                                        15\n",
       "Eastern Asia                                                                                                        27\n",
       "Eastern China                                                                                                        1\n",
       "Eastern Europe                                                                                                      28\n",
       "Hundreds of residents and municipal union members protest the lack of free water in their town in South Africa.      1\n",
       "Latin America & the Caribbean                                                                                        2\n",
       "Latin America and the Ca                                                                                            36\n",
       "Latin America and the Caribbean                                                                                     27\n",
       "Melanesia                                                                                                            1\n",
       "North America                                                                                                       53\n",
       "Northern Africa                                                                                                     60\n",
       "Northern Asia                                                                                                        1\n",
       "Northern Europe                                                                                                      3\n",
       "South-eastern Asia                                                                                                   5\n",
       "Southeast Asia                                                                                                      15\n",
       "Southern Asia                                                                                                      124\n",
       "Southern Europe                                                                                                     27\n",
       "Sub-Saharan Africa                                                                                                 174\n",
       "Western Asia                                                                                                       305\n",
       "Western Europe                                                                                                      19\n",
       "Name: Region, dtype: int64"
      ]
     },
     "execution_count": 4,
     "metadata": {},
     "output_type": "execute_result"
    }
   ],
   "source": [
    "violence_region_series = conflicts.groupby('Region')['Region'].count()\n",
    "violence_region_series"
   ]
  },
  {
   "cell_type": "code",
   "execution_count": 5,
   "id": "e000603e-28ba-403d-a096-2360076ec124",
   "metadata": {},
   "outputs": [],
   "source": [
    "nuclear_states_dict = dict(nuclear_stockpiles.groupby('Region')['country_name'].nunique())"
   ]
  },
  {
   "cell_type": "code",
   "execution_count": 6,
   "id": "f370f75b-6c2f-41ed-bd4f-e20262a7abd3",
   "metadata": {},
   "outputs": [],
   "source": [
    "del violence_region_series['*Western Asia']\n",
    "del violence_region_series['Latin America and the Ca']\n",
    "violence_region_series['Latin American and the Caribbean'] = np.sum(27+36)\n",
    "del nuclear_states_dict['Sub-Saharan Africa']\n",
    "nuclear_states_dict['Western Europe'] = 2\n",
    "nuclear_states_series = pd.Series(nuclear_states_dict)"
   ]
  },
  {
   "cell_type": "code",
   "execution_count": 7,
   "id": "eae344f6-a795-462f-925d-5111017fa57b",
   "metadata": {
    "scrolled": true
   },
   "outputs": [
    {
     "data": {
      "text/plain": [
       "Eastern Asia                                                                                                       2\n",
       "Eastern Europe                                                                                                     1\n",
       "North America                                                                                                      1\n",
       "Southern Asia                                                                                                      2\n",
       "Western Asia                                                                                                       1\n",
       "Western Europe                                                                                                     2\n",
       "Australia and New Zealand                                                                                          0\n",
       "Central Asia                                                                                                       0\n",
       "Eastern China                                                                                                      0\n",
       "Hundreds of residents and municipal union members protest the lack of free water in their town in South Africa.    0\n",
       "Latin America & the Caribbean                                                                                      0\n",
       "Latin America and the Caribbean                                                                                    0\n",
       "Melanesia                                                                                                          0\n",
       "Northern Africa                                                                                                    0\n",
       "Northern Asia                                                                                                      0\n",
       "Northern Europe                                                                                                    0\n",
       "South-eastern Asia                                                                                                 0\n",
       "Southeast Asia                                                                                                     0\n",
       "Sub-Saharan Africa                                                                                                 0\n",
       "Southwest Asia                                                                                                     0\n",
       "dtype: int64"
      ]
     },
     "metadata": {},
     "output_type": "display_data"
    },
    {
     "data": {
      "text/plain": [
       "Region\n",
       "Australia and New Zealand                                                                                            2\n",
       "Central Asia                                                                                                        15\n",
       "Eastern Asia                                                                                                        27\n",
       "Eastern China                                                                                                        1\n",
       "Eastern Europe                                                                                                      28\n",
       "Hundreds of residents and municipal union members protest the lack of free water in their town in South Africa.      1\n",
       "Latin America & the Caribbean                                                                                        2\n",
       "Latin America and the Caribbean                                                                                     27\n",
       "Melanesia                                                                                                            1\n",
       "North America                                                                                                       53\n",
       "Northern Africa                                                                                                     60\n",
       "Northern Asia                                                                                                        1\n",
       "Northern Europe                                                                                                      3\n",
       "South-eastern Asia                                                                                                   5\n",
       "Southeast Asia                                                                                                      15\n",
       "Southern Asia                                                                                                      124\n",
       "Southern Europe                                                                                                     27\n",
       "Sub-Saharan Africa                                                                                                 174\n",
       "Western Asia                                                                                                       305\n",
       "Western Europe                                                                                                      19\n",
       "Latin American and the Caribbean                                                                                    63\n",
       "Name: Region, dtype: int64"
      ]
     },
     "metadata": {},
     "output_type": "display_data"
    }
   ],
   "source": [
    "extra_region_list = ['Australia and New Zealand','Central Asia','Eastern China','Hundreds of residents and municipal union members protest the lack of free water in their town in South Africa.','Latin America & the Caribbean','Latin America and the Caribbean','Melanesia','Northern Africa','Northern Asia','Northern Europe','South-eastern Asia','Southeast Asia','Sub-Saharan Africa','Western Asia','Southwest Asia']\n",
    "for region in extra_region_list:\n",
    "    if region not in nuclear_states_series:\n",
    "        nuclear_states_series[region] = 0\n",
    "display(nuclear_states_series, violence_region_series)"
   ]
  },
  {
   "cell_type": "code",
   "execution_count": 8,
   "id": "89d43116-a63e-46de-833b-194e4e39af71",
   "metadata": {},
   "outputs": [
    {
     "data": {
      "text/plain": [
       "[]"
      ]
     },
     "execution_count": 8,
     "metadata": {},
     "output_type": "execute_result"
    },
    {
     "data": {
      "image/png": "[encoded data removed]",
      "text/plain": [
       "<Figure size 640x480 with 1 Axes>"
      ]
     },
     "metadata": {},
     "output_type": "display_data"
    }
   ],
   "source": [
    "violence_region_list = list(violence_region_series)\n",
    "violence_region_list = list(nuclear_states_series)\n",
    "\n",
    "sns.scatterplot(x=violence_region_series, y=nuclear_states_series)\n",
    "plt.title('Number of nuclear States per amount of conflicts in region')\n",
    "plt.xlabel('Number of conflicts')\n",
    "plt.ylabel('Number of nuclear States')\n",
    "plt.plot()"
   ]
  },
  {
   "cell_type": "markdown",
   "id": "56839487-5728-42d1-8762-f59e43d16d81",
   "metadata": {},
   "source": [
    "Question: Are regions that have historicaly been more violent  more likely to have nuclear powers?\n",
    "\n",
    "Apparent answer: It appears regions with more violence have a slight tendency to develop more nuclear powers. This can possibly be explained by ongoing conflicts some countries in those regions may have. The best example of this is Southern Asia, which have 2 nuclear powers at odds with each other, India and Pakistan. The nuclear development of those nations are intrinsecally connected due to a great sense of animosity between them."
   ]
  },
  {
   "cell_type": "markdown",
   "id": "cebd29f7-f77e-4262-bef8-6706ed1a9f7b",
   "metadata": {},
   "source": [
    "## Are nuclear States more likely to go to war with non-nuclear States?"
   ]
  },
  {
   "cell_type": "code",
   "execution_count": 9,
   "id": "374e8877-01ba-405c-9b95-cd504c91f35a",
   "metadata": {},
   "outputs": [
    {
     "data": {
      "text/plain": [
       "['China',\n",
       " 'France',\n",
       " 'India',\n",
       " 'Israel',\n",
       " 'North Korea',\n",
       " 'Pakistan',\n",
       " 'Russia',\n",
       " 'United Kingdom',\n",
       " 'United States']"
      ]
     },
     "execution_count": 9,
     "metadata": {},
     "output_type": "execute_result"
    }
   ],
   "source": [
    "nuclear_nations = [nation for nation in nuclear_stockpiles.country_name.unique() if 'South Africa' not in nation]\n",
    "nuclear_nations"
   ]
  },
  {
   "cell_type": "code",
   "execution_count": 10,
   "id": "31e385f8-9703-4760-adf5-1ea2c86b20ff",
   "metadata": {
    "scrolled": true
   },
   "outputs": [
    {
     "data": {
      "text/html": [
       "<div>\n",
       "<style scoped>\n",
       "    .dataframe tbody tr th:only-of-type {\n",
       "        vertical-align: middle;\n",
       "    }\n",
       "\n",
       "    .dataframe tbody tr th {\n",
       "        vertical-align: top;\n",
       "    }\n",
       "\n",
       "    .dataframe thead th {\n",
       "        text-align: right;\n",
       "    }\n",
       "</style>\n",
       "<table border=\"1\" class=\"dataframe\">\n",
       "  <thead>\n",
       "    <tr style=\"text-align: right;\">\n",
       "      <th></th>\n",
       "      <th>Date</th>\n",
       "      <th>Headline</th>\n",
       "      <th>Conflict Type</th>\n",
       "      <th>Country</th>\n",
       "      <th>Region</th>\n",
       "      <th>Description</th>\n",
       "      <th>Sources</th>\n",
       "    </tr>\n",
       "  </thead>\n",
       "  <tbody>\n",
       "    <tr>\n",
       "      <th>22</th>\n",
       "      <td>204 BC</td>\n",
       "      <td>Wei River dams in China are breached in 204 BC</td>\n",
       "      <td>Weapon</td>\n",
       "      <td>China</td>\n",
       "      <td>Eastern Asia</td>\n",
       "      <td>An intentional rupturing of the Wei River dams...</td>\n",
       "      <td>Janku 2016</td>\n",
       "    </tr>\n",
       "    <tr>\n",
       "      <th>24</th>\n",
       "      <td>101 BC</td>\n",
       "      <td>Water is used as a weapon in 101 BC China</td>\n",
       "      <td>Weapon</td>\n",
       "      <td>China, Japan</td>\n",
       "      <td>Eastern Asia</td>\n",
       "      <td>Fergana (Yuan), the capital of China, surrende...</td>\n",
       "      <td>Hirth 1917</td>\n",
       "    </tr>\n",
       "    <tr>\n",
       "      <th>31</th>\n",
       "      <td>1260</td>\n",
       "      <td>Intentional Drying Up of Canals in Mughal, India</td>\n",
       "      <td>Weapon</td>\n",
       "      <td>India</td>\n",
       "      <td>Southern Asia</td>\n",
       "      <td>Historian M. Athar Ali writes that in Mughal I...</td>\n",
       "      <td>Sethi 2016</td>\n",
       "    </tr>\n",
       "    <tr>\n",
       "      <th>35</th>\n",
       "      <td>1642</td>\n",
       "      <td>China floods rebel peasants</td>\n",
       "      <td>Weapon</td>\n",
       "      <td>China</td>\n",
       "      <td>Eastern Asia</td>\n",
       "      <td>The Huang He's dikes are breached for military...</td>\n",
       "      <td>Hillel 1991</td>\n",
       "    </tr>\n",
       "    <tr>\n",
       "      <th>36</th>\n",
       "      <td>1642</td>\n",
       "      <td>300,000 deaths when Yellow River dikes are bre...</td>\n",
       "      <td>Weapon</td>\n",
       "      <td>China</td>\n",
       "      <td>Eastern Asia</td>\n",
       "      <td>In 1642, in a battle between the incoming Manc...</td>\n",
       "      <td>Janku 2016</td>\n",
       "    </tr>\n",
       "    <tr>\n",
       "      <th>...</th>\n",
       "      <td>...</td>\n",
       "      <td>...</td>\n",
       "      <td>...</td>\n",
       "      <td>...</td>\n",
       "      <td>...</td>\n",
       "      <td>...</td>\n",
       "      <td>...</td>\n",
       "    </tr>\n",
       "    <tr>\n",
       "      <th>908</th>\n",
       "      <td>2019</td>\n",
       "      <td>A grandmother and her grandson are beaten when...</td>\n",
       "      <td>Trigger</td>\n",
       "      <td>India</td>\n",
       "      <td>Southern Asia</td>\n",
       "      <td>A grandmother and her grandson in a small vill...</td>\n",
       "      <td>Indo-Asian News Service 2019</td>\n",
       "    </tr>\n",
       "    <tr>\n",
       "      <th>911</th>\n",
       "      <td>2019</td>\n",
       "      <td>Eco-vandalism disrupts water diversions</td>\n",
       "      <td>Trigger, Casualty</td>\n",
       "      <td>United States</td>\n",
       "      <td>North America</td>\n",
       "      <td>A water diversion system in the Colorado Rocky...</td>\n",
       "      <td>Smith 2019</td>\n",
       "    </tr>\n",
       "    <tr>\n",
       "      <th>913</th>\n",
       "      <td>2019</td>\n",
       "      <td>Numerous fights, including attacks on water ta...</td>\n",
       "      <td>Trigger</td>\n",
       "      <td>India</td>\n",
       "      <td>Southern Asia</td>\n",
       "      <td>Water shortages in Madhya Pradesh, India inten...</td>\n",
       "      <td>Times of India 2019</td>\n",
       "    </tr>\n",
       "    <tr>\n",
       "      <th>914</th>\n",
       "      <td>2019</td>\n",
       "      <td>Two men are seriously injured in clash over ac...</td>\n",
       "      <td>Trigger</td>\n",
       "      <td>India</td>\n",
       "      <td>Southern Asia</td>\n",
       "      <td>Two men are seriously injured in a clash over ...</td>\n",
       "      <td>Times of India 2019</td>\n",
       "    </tr>\n",
       "    <tr>\n",
       "      <th>921</th>\n",
       "      <td>2019</td>\n",
       "      <td>Pakistan claims India's unexpected release of ...</td>\n",
       "      <td>Weapon</td>\n",
       "      <td>Pakistan</td>\n",
       "      <td>Southern Asia</td>\n",
       "      <td>India releases water from a dam on the River S...</td>\n",
       "      <td>Reuters 2019</td>\n",
       "    </tr>\n",
       "  </tbody>\n",
       "</table>\n",
       "<p>185 rows × 7 columns</p>\n",
       "</div>"
      ],
      "text/plain": [
       "       Date                                           Headline  \\\n",
       "22   204 BC     Wei River dams in China are breached in 204 BC   \n",
       "24   101 BC          Water is used as a weapon in 101 BC China   \n",
       "31     1260   Intentional Drying Up of Canals in Mughal, India   \n",
       "35     1642                        China floods rebel peasants   \n",
       "36     1642  300,000 deaths when Yellow River dikes are bre...   \n",
       "..      ...                                                ...   \n",
       "908    2019  A grandmother and her grandson are beaten when...   \n",
       "911    2019            Eco-vandalism disrupts water diversions   \n",
       "913    2019  Numerous fights, including attacks on water ta...   \n",
       "914    2019  Two men are seriously injured in clash over ac...   \n",
       "921    2019  Pakistan claims India's unexpected release of ...   \n",
       "\n",
       "         Conflict Type        Country         Region  \\\n",
       "22              Weapon          China   Eastern Asia   \n",
       "24              Weapon   China, Japan   Eastern Asia   \n",
       "31              Weapon          India  Southern Asia   \n",
       "35              Weapon          China   Eastern Asia   \n",
       "36              Weapon          China   Eastern Asia   \n",
       "..                 ...            ...            ...   \n",
       "908            Trigger          India  Southern Asia   \n",
       "911  Trigger, Casualty  United States  North America   \n",
       "913            Trigger          India  Southern Asia   \n",
       "914            Trigger          India  Southern Asia   \n",
       "921             Weapon       Pakistan  Southern Asia   \n",
       "\n",
       "                                           Description  \\\n",
       "22   An intentional rupturing of the Wei River dams...   \n",
       "24   Fergana (Yuan), the capital of China, surrende...   \n",
       "31   Historian M. Athar Ali writes that in Mughal I...   \n",
       "35   The Huang He's dikes are breached for military...   \n",
       "36   In 1642, in a battle between the incoming Manc...   \n",
       "..                                                 ...   \n",
       "908  A grandmother and her grandson in a small vill...   \n",
       "911  A water diversion system in the Colorado Rocky...   \n",
       "913  Water shortages in Madhya Pradesh, India inten...   \n",
       "914  Two men are seriously injured in a clash over ...   \n",
       "921  India releases water from a dam on the River S...   \n",
       "\n",
       "                          Sources  \n",
       "22                     Janku 2016  \n",
       "24                     Hirth 1917  \n",
       "31                     Sethi 2016  \n",
       "35                    Hillel 1991  \n",
       "36                     Janku 2016  \n",
       "..                            ...  \n",
       "908  Indo-Asian News Service 2019  \n",
       "911                    Smith 2019  \n",
       "913           Times of India 2019  \n",
       "914           Times of India 2019  \n",
       "921                  Reuters 2019  \n",
       "\n",
       "[185 rows x 7 columns]"
      ]
     },
     "execution_count": 10,
     "metadata": {},
     "output_type": "execute_result"
    }
   ],
   "source": [
    "conflicts_with_nuclear_nations = conflicts[conflicts[\"Country\"].str.contains('China|France|India|Israel|North Korea|Pakistan|Russia|United Kingdom|United States')]\n",
    "conflicts_with_nuclear_nations"
   ]
  },
  {
   "cell_type": "markdown",
   "id": "dd4d6274-74ff-4de6-9753-9acc79c954b7",
   "metadata": {},
   "source": [
    "Question: Are nuclear States more likely to go to war with non-nuclear States?\n",
    "\n",
    "Apparent answer: All wars that involved nuclear nations were with non-nuclear countries, with the only exceptions being conflicts between India and Pakistan. This can be easily understood as nuclear powers since WW2 have adopted a policy of MAD (Mutual Assured Destruction) and have therefore chosen to deescalate to avoid devastation."
   ]
  },
  {
   "cell_type": "markdown",
   "id": "d032bd30-51a8-420d-9653-69bde6aab0f0",
   "metadata": {},
   "source": [
    "## Are countries with nuclear weapons involved in more or less conflicts? "
   ]
  },
  {
   "cell_type": "code",
   "execution_count": 11,
   "id": "03acf7a5-7adc-4ea0-b486-7217cb8f3570",
   "metadata": {},
   "outputs": [
    {
     "data": {
      "text/plain": [
       "Country\n",
       "Afghanistan         21\n",
       "Albania              3\n",
       "Algeria             18\n",
       "Angola               4\n",
       "Angola, Namibia      1\n",
       "                  ... \n",
       "Venezuela            3\n",
       "Vietnam              2\n",
       "Yemen              136\n",
       "Yugoslavia           6\n",
       "Zambia               5\n",
       "Name: Country, Length: 159, dtype: int64"
      ]
     },
     "metadata": {},
     "output_type": "display_data"
    },
    {
     "data": {
      "text/plain": [
       "['China',\n",
       " 'France',\n",
       " 'India',\n",
       " 'Israel',\n",
       " 'North Korea',\n",
       " 'Pakistan',\n",
       " 'Russia',\n",
       " 'United Kingdom',\n",
       " 'United States']"
      ]
     },
     "metadata": {},
     "output_type": "display_data"
    }
   ],
   "source": [
    "violence_country_series = conflicts.groupby('Country')['Country'].count()\n",
    "display(violence_country_series, nuclear_nations)"
   ]
  },
  {
   "cell_type": "code",
   "execution_count": 12,
   "id": "cc4f8e0e-e2d4-4a08-98d1-d9a94d199aad",
   "metadata": {},
   "outputs": [
    {
     "data": {
      "text/plain": [
       "Text(0.5, 1.0, 'Number of conflicts per country')"
      ]
     },
     "execution_count": 12,
     "metadata": {},
     "output_type": "execute_result"
    },
    {
     "data": {
      "image/png": "[encoded data removed]",
      "text/plain": [
       "<Figure size 640x480 with 1 Axes>"
      ]
     },
     "metadata": {},
     "output_type": "display_data"
    }
   ],
   "source": [
    "sns.histplot(data=violence_country_series, stat='count')\n",
    "plt.ylabel('Number of countries')\n",
    "plt.xlabel('Conflict Count')\n",
    "plt.title('Number of conflicts per country')"
   ]
  },
  {
   "cell_type": "code",
   "execution_count": 13,
   "id": "2eec1e78-566d-4c8a-973b-3294a6e4e6db",
   "metadata": {},
   "outputs": [
    {
     "name": "stdout",
     "output_type": "stream",
     "text": [
      "Average number of conflicts: \n",
      "5.83\n",
      "\n",
      "Median number of conflicts:\n",
      "2.0\n"
     ]
    }
   ],
   "source": [
    "avg_conflict = round(np.mean(violence_country_series), 2)\n",
    "median_conflict = round(np.median(violence_country_series), 2)\n",
    "\n",
    "print(f'Average number of conflicts: \\n{avg_conflict}\\n\\nMedian number of conflicts:\\n{median_conflict}')"
   ]
  },
  {
   "cell_type": "code",
   "execution_count": 14,
   "id": "53d8eb0f-7ba7-4c76-a8e2-60246228650e",
   "metadata": {},
   "outputs": [],
   "source": [
    "conflicts_nuclear_dict = {'China': conflicts_with_nuclear_nations['Country'].str.contains('China').sum(),\n",
    "'France': conflicts_with_nuclear_nations['Country'].str.contains('France').sum(),\n",
    "'India': conflicts_with_nuclear_nations['Country'].str.contains('India').sum(),\n",
    "'Israel': conflicts_with_nuclear_nations['Country'].str.contains('Israel').sum(),\n",
    "'North Korea': conflicts_with_nuclear_nations['Country'].str.contains('North Korea').sum(),\n",
    "'Pakistan': conflicts_with_nuclear_nations['Country'].str.contains('Pakistan').sum(),\n",
    "'Russia': conflicts_with_nuclear_nations['Country'].str.contains('Russia').sum(),\n",
    "'United Kingdom': conflicts_with_nuclear_nations['Country'].str.contains('United Kingdom').sum(),\n",
    "'United States': conflicts_with_nuclear_nations['Country'].str.contains('United States').sum()}"
   ]
  },
  {
   "cell_type": "code",
   "execution_count": 15,
   "id": "44503e03-0d31-49fd-85ec-afc7c1535d0d",
   "metadata": {},
   "outputs": [
    {
     "data": {
      "text/plain": [
       "{'China': True,\n",
       " 'France': True,\n",
       " 'India': True,\n",
       " 'Israel': True,\n",
       " 'North Korea': False,\n",
       " 'Pakistan': True,\n",
       " 'Russia': False,\n",
       " 'United Kingdom': False,\n",
       " 'United States': True}"
      ]
     },
     "execution_count": 15,
     "metadata": {},
     "output_type": "execute_result"
    }
   ],
   "source": [
    "comparison_nuclear_average_dict = {country:conflict>avg_conflict for (country,conflict) in conflicts_nuclear_dict.items()}\n",
    "comparison_nuclear_average_dict"
   ]
  },
  {
   "cell_type": "code",
   "execution_count": 16,
   "id": "7cc38393-9456-4df0-aef9-9baf63e4a0da",
   "metadata": {},
   "outputs": [
    {
     "data": {
      "text/plain": [
       "{'China': True,\n",
       " 'France': True,\n",
       " 'India': True,\n",
       " 'Israel': True,\n",
       " 'North Korea': True,\n",
       " 'Pakistan': True,\n",
       " 'Russia': True,\n",
       " 'United Kingdom': False,\n",
       " 'United States': True}"
      ]
     },
     "execution_count": 16,
     "metadata": {},
     "output_type": "execute_result"
    }
   ],
   "source": [
    "comparison_nuclear_median_dict = {country:conflict>median_conflict for (country,conflict) in conflicts_nuclear_dict.items()}\n",
    "comparison_nuclear_median_dict"
   ]
  },
  {
   "cell_type": "markdown",
   "id": "dab24f28-ef5e-48f8-8446-6e5698168d9f",
   "metadata": {},
   "source": [
    "Question: Are countries with nuclear weapons involved in more or less conflicts? \n",
    "\n",
    "Apparent answer: All nuclear nations have been involved in more geopolitical disputes and conflicts around the world, with the exception of the United Kingdom, North Korea and Russia. It is however important take note of a few facts:\n",
    "\n",
    "1) The USSR (Russia), the USA, the UK and France have been involved in many proxy wars during the Cold War, which may end up not counting to their score of conflicts.\n",
    "2) Russia, especially, has been involved in many conflicts utilizing the Wagner Group or army battalions under the black flag to attack enemy States, mostly in the Middle East.\n",
    "3) After WW2, many regions in the world have experienced a relative peace and that greatly reduced the average and median conflicts per country.\n",
    "4) North Korea has been involved in fewer conflicts due to their geographical position, with both of it's northern neighbors being their allies and their southern enemy being assured by the USA."
   ]
  }
 ],
 "metadata": {
  "kernelspec": {
   "display_name": "Python 3 (ipykernel)",
   "language": "python",
   "name": "python3"
  },
  "language_info": {
   "codemirror_mode": {
    "name": "ipython",
    "version": 3
   },
   "file_extension": ".py",
   "mimetype": "text/x-python",
   "name": "python",
   "nbconvert_exporter": "python",
   "pygments_lexer": "ipython3",
   "version": "3.11.5"
  }
 },
 "nbformat": 4,
 "nbformat_minor": 5
}
