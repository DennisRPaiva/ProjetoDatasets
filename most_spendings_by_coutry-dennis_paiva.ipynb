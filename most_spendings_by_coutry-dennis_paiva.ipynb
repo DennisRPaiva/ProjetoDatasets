{
 "cells": [
  {
   "cell_type": "markdown",
   "metadata": {},
   "source": [
    "# Pergunta: Dos países que mais gastam em militar, quanto por cento do pib é?"
   ]
  },
  {
   "cell_type": "code",
   "execution_count": 2,
   "metadata": {},
   "outputs": [],
   "source": [
    "import pandas as pd\n",
    "\n",
    "#import basedosdados as bd"
   ]
  },
  {
   "cell_type": "code",
   "execution_count": null,
   "metadata": {},
   "outputs": [],
   "source": [
    "# !pip install basedosdados\n",
    "# !pip install matplotlib\n",
    "# !pip install pandas"
   ]
  },
  {
   "cell_type": "code",
   "execution_count": 3,
   "metadata": {},
   "outputs": [],
   "source": [
    "militaryDf = pd.read_csv(\"military_expenditure/militaryexpenditure.csv\", sep = \";\")"
   ]
  },
  {
   "cell_type": "code",
   "execution_count": 3,
   "metadata": {},
   "outputs": [],
   "source": [
    "economyDf = pd.read_csv(\"global_economy_indicators.csv\")"
   ]
  },
  {
   "cell_type": "code",
   "execution_count": 5,
   "metadata": {},
   "outputs": [
    {
     "data": {
      "text/html": [
       "<div>\n",
       "<style scoped>\n",
       "    .dataframe tbody tr th:only-of-type {\n",
       "        vertical-align: middle;\n",
       "    }\n",
       "\n",
       "    .dataframe tbody tr th {\n",
       "        vertical-align: top;\n",
       "    }\n",
       "\n",
       "    .dataframe thead th {\n",
       "        text-align: right;\n",
       "    }\n",
       "</style>\n",
       "<table border=\"1\" class=\"dataframe\">\n",
       "  <thead>\n",
       "    <tr style=\"text-align: right;\">\n",
       "      <th></th>\n",
       "      <th>Name</th>\n",
       "      <th>Code</th>\n",
       "      <th>Type</th>\n",
       "      <th>Indicator Name</th>\n",
       "      <th>year</th>\n",
       "      <th>Valor</th>\n",
       "    </tr>\n",
       "  </thead>\n",
       "  <tbody>\n",
       "    <tr>\n",
       "      <th>88</th>\n",
       "      <td>United States</td>\n",
       "      <td>USA</td>\n",
       "      <td>Country</td>\n",
       "      <td>Military expenditure (current USD)</td>\n",
       "      <td>2018</td>\n",
       "      <td>64900000000000</td>\n",
       "    </tr>\n",
       "    <tr>\n",
       "      <th>337</th>\n",
       "      <td>China</td>\n",
       "      <td>CHN</td>\n",
       "      <td>Country</td>\n",
       "      <td>Military expenditure (current USD)</td>\n",
       "      <td>2018</td>\n",
       "      <td>25000000000000</td>\n",
       "    </tr>\n",
       "    <tr>\n",
       "      <th>789</th>\n",
       "      <td>Saudi Arabia</td>\n",
       "      <td>SAU</td>\n",
       "      <td>Country</td>\n",
       "      <td>Military expenditure (current USD)</td>\n",
       "      <td>2018</td>\n",
       "      <td>67554666667</td>\n",
       "    </tr>\n",
       "    <tr>\n",
       "      <th>797</th>\n",
       "      <td>India</td>\n",
       "      <td>IND</td>\n",
       "      <td>Country</td>\n",
       "      <td>Military expenditure (current USD)</td>\n",
       "      <td>2018</td>\n",
       "      <td>66510289108</td>\n",
       "    </tr>\n",
       "    <tr>\n",
       "      <th>821</th>\n",
       "      <td>France</td>\n",
       "      <td>FRA</td>\n",
       "      <td>Country</td>\n",
       "      <td>Military expenditure (current USD)</td>\n",
       "      <td>2018</td>\n",
       "      <td>63799676593</td>\n",
       "    </tr>\n",
       "    <tr>\n",
       "      <th>...</th>\n",
       "      <td>...</td>\n",
       "      <td>...</td>\n",
       "      <td>...</td>\n",
       "      <td>...</td>\n",
       "      <td>...</td>\n",
       "      <td>...</td>\n",
       "    </tr>\n",
       "    <tr>\n",
       "      <th>8988</th>\n",
       "      <td>Timor-Leste</td>\n",
       "      <td>TLS</td>\n",
       "      <td>Country</td>\n",
       "      <td>Military expenditure (current USD)</td>\n",
       "      <td>2018</td>\n",
       "      <td>20610000</td>\n",
       "    </tr>\n",
       "    <tr>\n",
       "      <th>9009</th>\n",
       "      <td>Liberia</td>\n",
       "      <td>LBR</td>\n",
       "      <td>Country</td>\n",
       "      <td>Military expenditure (current USD)</td>\n",
       "      <td>2018</td>\n",
       "      <td>15786500</td>\n",
       "    </tr>\n",
       "    <tr>\n",
       "      <th>9162</th>\n",
       "      <td>Costa Rica</td>\n",
       "      <td>CRI</td>\n",
       "      <td>Country</td>\n",
       "      <td>Military expenditure (current USD)</td>\n",
       "      <td>2018</td>\n",
       "      <td>0</td>\n",
       "    </tr>\n",
       "    <tr>\n",
       "      <th>9221</th>\n",
       "      <td>Iceland</td>\n",
       "      <td>ISL</td>\n",
       "      <td>Country</td>\n",
       "      <td>Military expenditure (current USD)</td>\n",
       "      <td>2018</td>\n",
       "      <td>0</td>\n",
       "    </tr>\n",
       "    <tr>\n",
       "      <th>9240</th>\n",
       "      <td>Panama</td>\n",
       "      <td>PAN</td>\n",
       "      <td>Country</td>\n",
       "      <td>Military expenditure (current USD)</td>\n",
       "      <td>2018</td>\n",
       "      <td>0</td>\n",
       "    </tr>\n",
       "  </tbody>\n",
       "</table>\n",
       "<p>151 rows × 6 columns</p>\n",
       "</div>"
      ],
      "text/plain": [
       "               Name Code     Type                      Indicator Name  year  \\\n",
       "88    United States  USA  Country  Military expenditure (current USD)  2018   \n",
       "337           China  CHN  Country  Military expenditure (current USD)  2018   \n",
       "789    Saudi Arabia  SAU  Country  Military expenditure (current USD)  2018   \n",
       "797           India  IND  Country  Military expenditure (current USD)  2018   \n",
       "821          France  FRA  Country  Military expenditure (current USD)  2018   \n",
       "...             ...  ...      ...                                 ...   ...   \n",
       "8988    Timor-Leste  TLS  Country  Military expenditure (current USD)  2018   \n",
       "9009        Liberia  LBR  Country  Military expenditure (current USD)  2018   \n",
       "9162     Costa Rica  CRI  Country  Military expenditure (current USD)  2018   \n",
       "9221        Iceland  ISL  Country  Military expenditure (current USD)  2018   \n",
       "9240         Panama  PAN  Country  Military expenditure (current USD)  2018   \n",
       "\n",
       "               Valor  \n",
       "88    64900000000000  \n",
       "337   25000000000000  \n",
       "789      67554666667  \n",
       "797      66510289108  \n",
       "821      63799676593  \n",
       "...              ...  \n",
       "8988        20610000  \n",
       "9009        15786500  \n",
       "9162               0  \n",
       "9221               0  \n",
       "9240               0  \n",
       "\n",
       "[151 rows x 6 columns]"
      ]
     },
     "execution_count": 5,
     "metadata": {},
     "output_type": "execute_result"
    }
   ],
   "source": [
    "militaryDf[(militaryDf[\"Type\"] == \"Country\") & (militaryDf[\"year\"] == 2018)]"
   ]
  },
  {
   "cell_type": "code",
   "execution_count": 6,
   "metadata": {},
   "outputs": [
    {
     "data": {
      "text/html": [
       "<div>\n",
       "<style scoped>\n",
       "    .dataframe tbody tr th:only-of-type {\n",
       "        vertical-align: middle;\n",
       "    }\n",
       "\n",
       "    .dataframe tbody tr th {\n",
       "        vertical-align: top;\n",
       "    }\n",
       "\n",
       "    .dataframe thead th {\n",
       "        text-align: right;\n",
       "    }\n",
       "</style>\n",
       "<table border=\"1\" class=\"dataframe\">\n",
       "  <thead>\n",
       "    <tr style=\"text-align: right;\">\n",
       "      <th></th>\n",
       "      <th>Name</th>\n",
       "      <th>Valor</th>\n",
       "    </tr>\n",
       "  </thead>\n",
       "  <tbody>\n",
       "    <tr>\n",
       "      <th>88</th>\n",
       "      <td>United States</td>\n",
       "      <td>64900000000000</td>\n",
       "    </tr>\n",
       "    <tr>\n",
       "      <th>337</th>\n",
       "      <td>China</td>\n",
       "      <td>25000000000000</td>\n",
       "    </tr>\n",
       "    <tr>\n",
       "      <th>789</th>\n",
       "      <td>Saudi Arabia</td>\n",
       "      <td>67554666667</td>\n",
       "    </tr>\n",
       "    <tr>\n",
       "      <th>797</th>\n",
       "      <td>India</td>\n",
       "      <td>66510289108</td>\n",
       "    </tr>\n",
       "    <tr>\n",
       "      <th>821</th>\n",
       "      <td>France</td>\n",
       "      <td>63799676593</td>\n",
       "    </tr>\n",
       "    <tr>\n",
       "      <th>...</th>\n",
       "      <td>...</td>\n",
       "      <td>...</td>\n",
       "    </tr>\n",
       "    <tr>\n",
       "      <th>8988</th>\n",
       "      <td>Timor-Leste</td>\n",
       "      <td>20610000</td>\n",
       "    </tr>\n",
       "    <tr>\n",
       "      <th>9009</th>\n",
       "      <td>Liberia</td>\n",
       "      <td>15786500</td>\n",
       "    </tr>\n",
       "    <tr>\n",
       "      <th>9162</th>\n",
       "      <td>Costa Rica</td>\n",
       "      <td>0</td>\n",
       "    </tr>\n",
       "    <tr>\n",
       "      <th>9221</th>\n",
       "      <td>Iceland</td>\n",
       "      <td>0</td>\n",
       "    </tr>\n",
       "    <tr>\n",
       "      <th>9240</th>\n",
       "      <td>Panama</td>\n",
       "      <td>0</td>\n",
       "    </tr>\n",
       "  </tbody>\n",
       "</table>\n",
       "<p>151 rows × 2 columns</p>\n",
       "</div>"
      ],
      "text/plain": [
       "               Name           Valor\n",
       "88    United States  64900000000000\n",
       "337           China  25000000000000\n",
       "789    Saudi Arabia     67554666667\n",
       "797           India     66510289108\n",
       "821          France     63799676593\n",
       "...             ...             ...\n",
       "8988    Timor-Leste        20610000\n",
       "9009        Liberia        15786500\n",
       "9162     Costa Rica               0\n",
       "9221        Iceland               0\n",
       "9240         Panama               0\n",
       "\n",
       "[151 rows x 2 columns]"
      ]
     },
     "execution_count": 6,
     "metadata": {},
     "output_type": "execute_result"
    }
   ],
   "source": [
    "militaryDf_2018 = militaryDf[(militaryDf[\"Type\"] == \"Country\") & (militaryDf[\"year\"] == 2018)]\n",
    "militaryDf_2018[[\"Name\", \"Valor\"]].sort_values(by='Valor',  ascending=False)"
   ]
  },
  {
   "cell_type": "code",
   "execution_count": 7,
   "metadata": {},
   "outputs": [
    {
     "data": {
      "text/html": [
       "<div>\n",
       "<style scoped>\n",
       "    .dataframe tbody tr th:only-of-type {\n",
       "        vertical-align: middle;\n",
       "    }\n",
       "\n",
       "    .dataframe tbody tr th {\n",
       "        vertical-align: top;\n",
       "    }\n",
       "\n",
       "    .dataframe thead th {\n",
       "        text-align: right;\n",
       "    }\n",
       "</style>\n",
       "<table border=\"1\" class=\"dataframe\">\n",
       "  <thead>\n",
       "    <tr style=\"text-align: right;\">\n",
       "      <th></th>\n",
       "      <th>Country</th>\n",
       "      <th>Gross Domestic Product (GDP)</th>\n",
       "    </tr>\n",
       "  </thead>\n",
       "  <tbody>\n",
       "    <tr>\n",
       "      <th>10141</th>\n",
       "      <td>United States</td>\n",
       "      <td>2.050000e+13</td>\n",
       "    </tr>\n",
       "    <tr>\n",
       "      <th>2004</th>\n",
       "      <td>China</td>\n",
       "      <td>1.390000e+13</td>\n",
       "    </tr>\n",
       "    <tr>\n",
       "      <th>4682</th>\n",
       "      <td>Japan</td>\n",
       "      <td>5.040000e+12</td>\n",
       "    </tr>\n",
       "    <tr>\n",
       "      <th>3484</th>\n",
       "      <td>Germany</td>\n",
       "      <td>3.970000e+12</td>\n",
       "    </tr>\n",
       "    <tr>\n",
       "      <th>10005</th>\n",
       "      <td>United Kingdom</td>\n",
       "      <td>2.880000e+12</td>\n",
       "    </tr>\n",
       "    <tr>\n",
       "      <th>...</th>\n",
       "      <td>...</td>\n",
       "      <td>...</td>\n",
       "    </tr>\n",
       "    <tr>\n",
       "      <th>7173</th>\n",
       "      <td>Marshall Islands</td>\n",
       "      <td>2.217942e+08</td>\n",
       "    </tr>\n",
       "    <tr>\n",
       "      <th>3589</th>\n",
       "      <td>Kiribati</td>\n",
       "      <td>1.962324e+08</td>\n",
       "    </tr>\n",
       "    <tr>\n",
       "      <th>6470</th>\n",
       "      <td>Nauru</td>\n",
       "      <td>1.382036e+08</td>\n",
       "    </tr>\n",
       "    <tr>\n",
       "      <th>6210</th>\n",
       "      <td>Montserrat</td>\n",
       "      <td>6.285556e+07</td>\n",
       "    </tr>\n",
       "    <tr>\n",
       "      <th>9764</th>\n",
       "      <td>Tuvalu</td>\n",
       "      <td>4.804200e+07</td>\n",
       "    </tr>\n",
       "  </tbody>\n",
       "</table>\n",
       "<p>212 rows × 2 columns</p>\n",
       "</div>"
      ],
      "text/plain": [
       "                  Country  Gross Domestic Product (GDP)\n",
       "10141      United States                   2.050000e+13\n",
       "2004               China                   1.390000e+13\n",
       "4682               Japan                   5.040000e+12\n",
       "3484             Germany                   3.970000e+12\n",
       "10005     United Kingdom                   2.880000e+12\n",
       "...                   ...                           ...\n",
       "7173    Marshall Islands                   2.217942e+08\n",
       "3589            Kiribati                   1.962324e+08\n",
       "6470               Nauru                   1.382036e+08\n",
       "6210          Montserrat                   6.285556e+07\n",
       "9764              Tuvalu                   4.804200e+07\n",
       "\n",
       "[212 rows x 2 columns]"
      ]
     },
     "execution_count": 7,
     "metadata": {},
     "output_type": "execute_result"
    }
   ],
   "source": [
    "economyDf_2018 = economyDf[economyDf[\"Year\"] == 2018]\n",
    "economyDf_2018[[\"Country\", \"Gross Domestic Product (GDP)\"]].sort_values(by='Gross Domestic Product (GDP)',  ascending=False)"
   ]
  },
  {
   "cell_type": "code",
   "execution_count": 8,
   "metadata": {},
   "outputs": [],
   "source": [
    "economyDf_2018_2 = economyDf_2018[[\"Country\", \"Gross Domestic Product (GDP)\"]].sort_values(by='Gross Domestic Product (GDP)',  ascending=False)"
   ]
  },
  {
   "cell_type": "code",
   "execution_count": 9,
   "metadata": {},
   "outputs": [
    {
     "data": {
      "text/html": [
       "<div>\n",
       "<style scoped>\n",
       "    .dataframe tbody tr th:only-of-type {\n",
       "        vertical-align: middle;\n",
       "    }\n",
       "\n",
       "    .dataframe tbody tr th {\n",
       "        vertical-align: top;\n",
       "    }\n",
       "\n",
       "    .dataframe thead th {\n",
       "        text-align: right;\n",
       "    }\n",
       "</style>\n",
       "<table border=\"1\" class=\"dataframe\">\n",
       "  <thead>\n",
       "    <tr style=\"text-align: right;\">\n",
       "      <th></th>\n",
       "      <th>Country</th>\n",
       "      <th>Gross Domestic Product (GDP)</th>\n",
       "    </tr>\n",
       "  </thead>\n",
       "  <tbody>\n",
       "    <tr>\n",
       "      <th>10141</th>\n",
       "      <td>United States</td>\n",
       "      <td>2.050000e+13</td>\n",
       "    </tr>\n",
       "    <tr>\n",
       "      <th>2004</th>\n",
       "      <td>China</td>\n",
       "      <td>1.390000e+13</td>\n",
       "    </tr>\n",
       "    <tr>\n",
       "      <th>4682</th>\n",
       "      <td>Japan</td>\n",
       "      <td>5.040000e+12</td>\n",
       "    </tr>\n",
       "    <tr>\n",
       "      <th>3484</th>\n",
       "      <td>Germany</td>\n",
       "      <td>3.970000e+12</td>\n",
       "    </tr>\n",
       "    <tr>\n",
       "      <th>10005</th>\n",
       "      <td>United Kingdom</td>\n",
       "      <td>2.880000e+12</td>\n",
       "    </tr>\n",
       "    <tr>\n",
       "      <th>...</th>\n",
       "      <td>...</td>\n",
       "      <td>...</td>\n",
       "    </tr>\n",
       "    <tr>\n",
       "      <th>7173</th>\n",
       "      <td>Marshall Islands</td>\n",
       "      <td>2.217942e+08</td>\n",
       "    </tr>\n",
       "    <tr>\n",
       "      <th>3589</th>\n",
       "      <td>Kiribati</td>\n",
       "      <td>1.962324e+08</td>\n",
       "    </tr>\n",
       "    <tr>\n",
       "      <th>6470</th>\n",
       "      <td>Nauru</td>\n",
       "      <td>1.382036e+08</td>\n",
       "    </tr>\n",
       "    <tr>\n",
       "      <th>6210</th>\n",
       "      <td>Montserrat</td>\n",
       "      <td>6.285556e+07</td>\n",
       "    </tr>\n",
       "    <tr>\n",
       "      <th>9764</th>\n",
       "      <td>Tuvalu</td>\n",
       "      <td>4.804200e+07</td>\n",
       "    </tr>\n",
       "  </tbody>\n",
       "</table>\n",
       "<p>212 rows × 2 columns</p>\n",
       "</div>"
      ],
      "text/plain": [
       "                Country  Gross Domestic Product (GDP)\n",
       "10141     United States                  2.050000e+13\n",
       "2004              China                  1.390000e+13\n",
       "4682              Japan                  5.040000e+12\n",
       "3484            Germany                  3.970000e+12\n",
       "10005    United Kingdom                  2.880000e+12\n",
       "...                 ...                           ...\n",
       "7173   Marshall Islands                  2.217942e+08\n",
       "3589           Kiribati                  1.962324e+08\n",
       "6470              Nauru                  1.382036e+08\n",
       "6210         Montserrat                  6.285556e+07\n",
       "9764             Tuvalu                  4.804200e+07\n",
       "\n",
       "[212 rows x 2 columns]"
      ]
     },
     "execution_count": 9,
     "metadata": {},
     "output_type": "execute_result"
    }
   ],
   "source": [
    "economyDf_2018_2[\"Country\"] = economyDf_2018_2[\"Country\"].str.strip()\n",
    "economyDf_2018_2"
   ]
  },
  {
   "cell_type": "code",
   "execution_count": 14,
   "metadata": {},
   "outputs": [
    {
     "data": {
      "text/plain": [
       "25000000000000"
      ]
     },
     "execution_count": 14,
     "metadata": {},
     "output_type": "execute_result"
    }
   ],
   "source": [
    "paises_com_maior_gasto_militar = []\n",
    "militaryDf_2018[militaryDf_2018['Name'] == \"China\"][\"Valor\"].astype(\"Int64\").values[0]"
   ]
  },
  {
   "cell_type": "code",
   "execution_count": 23,
   "metadata": {},
   "outputs": [],
   "source": [
    "gastoPais = militaryDf_2018[militaryDf_2018['Name'] == \"France\"][\"Valor\"].astype(\"Int64\").values[0]\n",
    "paises_com_maior_gasto_militar.append({'nome': \"France\", 'gasto': gastoPais})"
   ]
  },
  {
   "cell_type": "code",
   "execution_count": 24,
   "metadata": {},
   "outputs": [
    {
     "data": {
      "text/plain": [
       "[{'nome': 'United States', 'gasto': 64900000000000},\n",
       " {'nome': 'China', 'gasto': 25000000000000},\n",
       " {'nome': 'Saudi Arabia', 'gasto': 67554666667},\n",
       " {'nome': 'India', 'gasto': 66510289108},\n",
       " {'nome': 'France', 'gasto': 63799676593}]"
      ]
     },
     "execution_count": 24,
     "metadata": {},
     "output_type": "execute_result"
    }
   ],
   "source": [
    "paises_com_maior_gasto_militar"
   ]
  },
  {
   "cell_type": "code",
   "execution_count": 28,
   "metadata": {},
   "outputs": [
    {
     "data": {
      "text/plain": [
       "20500000000000"
      ]
     },
     "execution_count": 28,
     "metadata": {},
     "output_type": "execute_result"
    }
   ],
   "source": [
    "paises_correlacionados = []\n",
    "economyDf_2018_2[economyDf_2018_2['Country'] == \"United States\"][\"Gross Domestic Product (GDP)\"].astype(\"Int64\").values[0]"
   ]
  },
  {
   "cell_type": "code",
   "execution_count": 37,
   "metadata": {},
   "outputs": [],
   "source": [
    "gdpPais = economyDf_2018_2[economyDf_2018_2['Country'] == \"France\"][\"Gross Domestic Product (GDP)\"].astype(\"Int64\").values[0]\n",
    "paises_correlacionados.append({'nome': \"France\", 'GDP': gdpPais})"
   ]
  },
  {
   "cell_type": "code",
   "execution_count": 38,
   "metadata": {},
   "outputs": [
    {
     "data": {
      "text/plain": [
       "[{'nome': 'United States', 'GDP': 20500000000000},\n",
       " {'nome': 'China', 'GDP': 13900000000000},\n",
       " {'nome': 'Saudi Arabia', 'GDP': 817000000000},\n",
       " {'nome': 'India', 'GDP': 2760000000000},\n",
       " {'nome': 'France', 'GDP': 2790000000000}]"
      ]
     },
     "execution_count": 38,
     "metadata": {},
     "output_type": "execute_result"
    }
   ],
   "source": [
    "paises_correlacionados"
   ]
  },
  {
   "cell_type": "code",
   "execution_count": 39,
   "metadata": {},
   "outputs": [],
   "source": [
    "porcentagem_do_GDP_gasto = []"
   ]
  },
  {
   "cell_type": "code",
   "execution_count": 40,
   "metadata": {},
   "outputs": [
    {
     "name": "stdout",
     "output_type": "stream",
     "text": [
      "[{'nome': 'United States', 'gasto_em porcentagem': 0.031658536585365854}, {'nome': 'China', 'gasto_em porcentagem': 0.017985611510791366}, {'nome': 'Saudi Arabia', 'gasto_em porcentagem': 0.08268625051040392}, {'nome': 'India', 'gasto_em porcentagem': 0.024097930836231882}, {'nome': 'France', 'gasto_em porcentagem': 0.022867267596057346}]\n"
     ]
    }
   ],
   "source": [
    "\n",
    "def fazDivisao():\n",
    "    for i in range(5):\n",
    "        gastoMilitar = 0\n",
    "        gastoMilitar = paises_com_maior_gasto_militar[i]['gasto']\n",
    "        if i == 0 or i == 1:\n",
    "            gastoMilitar = paises_com_maior_gasto_militar[i]['gasto']/100\n",
    "        porcentagem_do_GDP_gasto.append({'nome': paises_com_maior_gasto_militar[i]['nome'], 'gasto_em porcentagem': gastoMilitar/paises_correlacionados[i]['GDP']})\n",
    "fazDivisao()\n",
    "print(porcentagem_do_GDP_gasto)"
   ]
  },
  {
   "cell_type": "code",
   "execution_count": 41,
   "metadata": {},
   "outputs": [
    {
     "data": {
      "text/plain": [
       "[{'nome': 'United States', 'gasto_em porcentagem': 0.031658536585365854},\n",
       " {'nome': 'China', 'gasto_em porcentagem': 0.017985611510791366},\n",
       " {'nome': 'Saudi Arabia', 'gasto_em porcentagem': 0.08268625051040392},\n",
       " {'nome': 'India', 'gasto_em porcentagem': 0.024097930836231882},\n",
       " {'nome': 'France', 'gasto_em porcentagem': 0.022867267596057346}]"
      ]
     },
     "execution_count": 41,
     "metadata": {},
     "output_type": "execute_result"
    }
   ],
   "source": [
    "porcentagem_do_GDP_gasto "
   ]
  },
  {
   "cell_type": "markdown",
   "metadata": {},
   "source": [
    "Dos países que mais gastam em militar, quanto por cento do pib é?\n",
    "\n",
    "VALORES TRUNCADOS!\n",
    "\n",
    "\n",
    "\n",
    "[{'nome': 'United States', 'gasto_em porcentagem': 0.031/3,1%},\n",
    "\n",
    " {'nome': 'China', 'gasto_em porcentagem': 0.017/1,7%},\n",
    "\n",
    " {'nome': 'Saudi Arabia', 'gasto_em porcentagem': 0.082/0,82%},\n",
    "\n",
    " {'nome': 'India', 'gasto_em porcentagem': 0.024/0,24%},\n",
    " \n",
    " {'nome': 'France', 'gasto_em porcentagem': 0.022/0,22%}]"
   ]
  },
  {
   "cell_type": "code",
   "execution_count": null,
   "metadata": {},
   "outputs": [],
   "source": []
  }
 ],
 "metadata": {
  "kernelspec": {
   "display_name": "Python 3 (ipykernel)",
   "language": "python",
   "name": "python3"
  },
  "language_info": {
   "codemirror_mode": {
    "name": "ipython",
    "version": 3
   },
   "file_extension": ".py",
   "mimetype": "text/x-python",
   "name": "python",
   "nbconvert_exporter": "python",
   "pygments_lexer": "ipython3",
   "version": "3.10.10"
  }
 },
 "nbformat": 4,
 "nbformat_minor": 4
}
