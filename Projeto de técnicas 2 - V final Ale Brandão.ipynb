{
 "cells": [
  {
   "cell_type": "code",
   "execution_count": 23,
   "metadata": {},
   "outputs": [],
   "source": [
    "import pandas as pd\n",
    "import numpy as np\n",
    "import matplotlib.pyplot as plt\n",
    "import seaborn as sns"
   ]
  },
  {
   "cell_type": "code",
   "execution_count": 55,
   "metadata": {},
   "outputs": [],
   "source": [
    "gastos = pd.read_csv('C:\\\\Data Engineer\\\\military_expenditure_202403110030.csv', delimiter=',', header=0)"
   ]
  },
  {
   "cell_type": "code",
   "execution_count": 56,
   "metadata": {},
   "outputs": [
    {
     "data": {
      "text/html": [
       "<div>\n",
       "<style scoped>\n",
       "    .dataframe tbody tr th:only-of-type {\n",
       "        vertical-align: middle;\n",
       "    }\n",
       "\n",
       "    .dataframe tbody tr th {\n",
       "        vertical-align: top;\n",
       "    }\n",
       "\n",
       "    .dataframe thead th {\n",
       "        text-align: right;\n",
       "    }\n",
       "</style>\n",
       "<table border=\"1\" class=\"dataframe\">\n",
       "  <thead>\n",
       "    <tr style=\"text-align: right;\">\n",
       "      <th></th>\n",
       "      <th>Name</th>\n",
       "      <th>Code</th>\n",
       "      <th>Type</th>\n",
       "      <th>Indicator Name</th>\n",
       "      <th>year</th>\n",
       "      <th>Valor</th>\n",
       "    </tr>\n",
       "  </thead>\n",
       "  <tbody>\n",
       "    <tr>\n",
       "      <th>0</th>\n",
       "      <td>World</td>\n",
       "      <td>WLD</td>\n",
       "      <td>Regions Clubbed Geographically</td>\n",
       "      <td>Military expenditure (current USD)</td>\n",
       "      <td>2018</td>\n",
       "      <td>178000000000000</td>\n",
       "    </tr>\n",
       "    <tr>\n",
       "      <th>1</th>\n",
       "      <td>World</td>\n",
       "      <td>WLD</td>\n",
       "      <td>Regions Clubbed Geographically</td>\n",
       "      <td>Military expenditure (current USD)</td>\n",
       "      <td>2012</td>\n",
       "      <td>174000000000000</td>\n",
       "    </tr>\n",
       "    <tr>\n",
       "      <th>2</th>\n",
       "      <td>World</td>\n",
       "      <td>WLD</td>\n",
       "      <td>Regions Clubbed Geographically</td>\n",
       "      <td>Military expenditure (current USD)</td>\n",
       "      <td>2013</td>\n",
       "      <td>174000000000000</td>\n",
       "    </tr>\n",
       "    <tr>\n",
       "      <th>3</th>\n",
       "      <td>World</td>\n",
       "      <td>WLD</td>\n",
       "      <td>Regions Clubbed Geographically</td>\n",
       "      <td>Military expenditure (current USD)</td>\n",
       "      <td>2014</td>\n",
       "      <td>174000000000000</td>\n",
       "    </tr>\n",
       "    <tr>\n",
       "      <th>4</th>\n",
       "      <td>World</td>\n",
       "      <td>WLD</td>\n",
       "      <td>Regions Clubbed Geographically</td>\n",
       "      <td>Military expenditure (current USD)</td>\n",
       "      <td>2011</td>\n",
       "      <td>173000000000000</td>\n",
       "    </tr>\n",
       "    <tr>\n",
       "      <th>...</th>\n",
       "      <td>...</td>\n",
       "      <td>...</td>\n",
       "      <td>...</td>\n",
       "      <td>...</td>\n",
       "      <td>...</td>\n",
       "      <td>...</td>\n",
       "    </tr>\n",
       "    <tr>\n",
       "      <th>9236</th>\n",
       "      <td>Panama</td>\n",
       "      <td>PAN</td>\n",
       "      <td>Country</td>\n",
       "      <td>Military expenditure (current USD)</td>\n",
       "      <td>2014</td>\n",
       "      <td>0</td>\n",
       "    </tr>\n",
       "    <tr>\n",
       "      <th>9237</th>\n",
       "      <td>Panama</td>\n",
       "      <td>PAN</td>\n",
       "      <td>Country</td>\n",
       "      <td>Military expenditure (current USD)</td>\n",
       "      <td>2015</td>\n",
       "      <td>0</td>\n",
       "    </tr>\n",
       "    <tr>\n",
       "      <th>9238</th>\n",
       "      <td>Panama</td>\n",
       "      <td>PAN</td>\n",
       "      <td>Country</td>\n",
       "      <td>Military expenditure (current USD)</td>\n",
       "      <td>2016</td>\n",
       "      <td>0</td>\n",
       "    </tr>\n",
       "    <tr>\n",
       "      <th>9239</th>\n",
       "      <td>Panama</td>\n",
       "      <td>PAN</td>\n",
       "      <td>Country</td>\n",
       "      <td>Military expenditure (current USD)</td>\n",
       "      <td>2017</td>\n",
       "      <td>0</td>\n",
       "    </tr>\n",
       "    <tr>\n",
       "      <th>9240</th>\n",
       "      <td>Panama</td>\n",
       "      <td>PAN</td>\n",
       "      <td>Country</td>\n",
       "      <td>Military expenditure (current USD)</td>\n",
       "      <td>2018</td>\n",
       "      <td>0</td>\n",
       "    </tr>\n",
       "  </tbody>\n",
       "</table>\n",
       "<p>9241 rows × 6 columns</p>\n",
       "</div>"
      ],
      "text/plain": [
       "        Name Code                            Type  \\\n",
       "0      World  WLD  Regions Clubbed Geographically   \n",
       "1      World  WLD  Regions Clubbed Geographically   \n",
       "2      World  WLD  Regions Clubbed Geographically   \n",
       "3      World  WLD  Regions Clubbed Geographically   \n",
       "4      World  WLD  Regions Clubbed Geographically   \n",
       "...      ...  ...                             ...   \n",
       "9236  Panama  PAN                         Country   \n",
       "9237  Panama  PAN                         Country   \n",
       "9238  Panama  PAN                         Country   \n",
       "9239  Panama  PAN                         Country   \n",
       "9240  Panama  PAN                         Country   \n",
       "\n",
       "                          Indicator Name  year            Valor  \n",
       "0     Military expenditure (current USD)  2018  178000000000000  \n",
       "1     Military expenditure (current USD)  2012  174000000000000  \n",
       "2     Military expenditure (current USD)  2013  174000000000000  \n",
       "3     Military expenditure (current USD)  2014  174000000000000  \n",
       "4     Military expenditure (current USD)  2011  173000000000000  \n",
       "...                                  ...   ...              ...  \n",
       "9236  Military expenditure (current USD)  2014                0  \n",
       "9237  Military expenditure (current USD)  2015                0  \n",
       "9238  Military expenditure (current USD)  2016                0  \n",
       "9239  Military expenditure (current USD)  2017                0  \n",
       "9240  Military expenditure (current USD)  2018                0  \n",
       "\n",
       "[9241 rows x 6 columns]"
      ]
     },
     "execution_count": 56,
     "metadata": {},
     "output_type": "execute_result"
    }
   ],
   "source": [
    "gastos"
   ]
  },
  {
   "cell_type": "code",
   "execution_count": 25,
   "metadata": {},
   "outputs": [],
   "source": [
    "testes = pd.read_csv('C:\\\\Data Engineer\\\\tests.csv', delimiter=',')"
   ]
  },
  {
   "cell_type": "code",
   "execution_count": 70,
   "metadata": {},
   "outputs": [
    {
     "data": {
      "text/html": [
       "<div>\n",
       "<style scoped>\n",
       "    .dataframe tbody tr th:only-of-type {\n",
       "        vertical-align: middle;\n",
       "    }\n",
       "\n",
       "    .dataframe tbody tr th {\n",
       "        vertical-align: top;\n",
       "    }\n",
       "\n",
       "    .dataframe thead th {\n",
       "        text-align: right;\n",
       "    }\n",
       "</style>\n",
       "<table border=\"1\" class=\"dataframe\">\n",
       "  <thead>\n",
       "    <tr style=\"text-align: right;\">\n",
       "      <th></th>\n",
       "      <th>country_name</th>\n",
       "      <th>year</th>\n",
       "      <th>nuclear_weapons_tests</th>\n",
       "    </tr>\n",
       "  </thead>\n",
       "  <tbody>\n",
       "    <tr>\n",
       "      <th>0</th>\n",
       "      <td>China</td>\n",
       "      <td>1945</td>\n",
       "      <td>0</td>\n",
       "    </tr>\n",
       "    <tr>\n",
       "      <th>1</th>\n",
       "      <td>China</td>\n",
       "      <td>1946</td>\n",
       "      <td>0</td>\n",
       "    </tr>\n",
       "    <tr>\n",
       "      <th>2</th>\n",
       "      <td>China</td>\n",
       "      <td>1947</td>\n",
       "      <td>0</td>\n",
       "    </tr>\n",
       "    <tr>\n",
       "      <th>3</th>\n",
       "      <td>China</td>\n",
       "      <td>1948</td>\n",
       "      <td>0</td>\n",
       "    </tr>\n",
       "    <tr>\n",
       "      <th>4</th>\n",
       "      <td>China</td>\n",
       "      <td>1949</td>\n",
       "      <td>0</td>\n",
       "    </tr>\n",
       "    <tr>\n",
       "      <th>...</th>\n",
       "      <td>...</td>\n",
       "      <td>...</td>\n",
       "      <td>...</td>\n",
       "    </tr>\n",
       "    <tr>\n",
       "      <th>595</th>\n",
       "      <td>United States</td>\n",
       "      <td>2015</td>\n",
       "      <td>0</td>\n",
       "    </tr>\n",
       "    <tr>\n",
       "      <th>596</th>\n",
       "      <td>United States</td>\n",
       "      <td>2016</td>\n",
       "      <td>0</td>\n",
       "    </tr>\n",
       "    <tr>\n",
       "      <th>597</th>\n",
       "      <td>United States</td>\n",
       "      <td>2017</td>\n",
       "      <td>0</td>\n",
       "    </tr>\n",
       "    <tr>\n",
       "      <th>598</th>\n",
       "      <td>United States</td>\n",
       "      <td>2018</td>\n",
       "      <td>0</td>\n",
       "    </tr>\n",
       "    <tr>\n",
       "      <th>599</th>\n",
       "      <td>United States</td>\n",
       "      <td>2019</td>\n",
       "      <td>0</td>\n",
       "    </tr>\n",
       "  </tbody>\n",
       "</table>\n",
       "<p>600 rows × 3 columns</p>\n",
       "</div>"
      ],
      "text/plain": [
       "      country_name  year  nuclear_weapons_tests\n",
       "0            China  1945                      0\n",
       "1            China  1946                      0\n",
       "2            China  1947                      0\n",
       "3            China  1948                      0\n",
       "4            China  1949                      0\n",
       "..             ...   ...                    ...\n",
       "595  United States  2015                      0\n",
       "596  United States  2016                      0\n",
       "597  United States  2017                      0\n",
       "598  United States  2018                      0\n",
       "599  United States  2019                      0\n",
       "\n",
       "[600 rows x 3 columns]"
      ]
     },
     "execution_count": 70,
     "metadata": {},
     "output_type": "execute_result"
    }
   ],
   "source": [
    "testes"
   ]
  },
  {
   "cell_type": "code",
   "execution_count": 74,
   "metadata": {},
   "outputs": [],
   "source": [
    "testes_decades = testes.groupby(testes['year'] // 10 * 10)['nuclear_weapons_tests'].sum()"
   ]
  },
  {
   "cell_type": "code",
   "execution_count": 75,
   "metadata": {},
   "outputs": [
    {
     "data": {
      "text/plain": [
       "year\n",
       "1940      7\n",
       "1950    291\n",
       "1960    706\n",
       "1970    550\n",
       "1980    439\n",
       "1990     57\n",
       "2000      2\n",
       "2010      7\n",
       "Name: nuclear_weapons_tests, dtype: int64"
      ]
     },
     "execution_count": 75,
     "metadata": {},
     "output_type": "execute_result"
    }
   ],
   "source": [
    "testes_decades"
   ]
  },
  {
   "cell_type": "code",
   "execution_count": 26,
   "metadata": {},
   "outputs": [],
   "source": [
    "estoque = pd.read_csv('C:\\\\Data Engineer\\\\stockpiles.csv', delimiter=',')"
   ]
  },
  {
   "cell_type": "code",
   "execution_count": 76,
   "metadata": {},
   "outputs": [],
   "source": [
    "stockpile_9 = estoque[estoque['year'] % 10 == 9]"
   ]
  },
  {
   "cell_type": "code",
   "execution_count": 77,
   "metadata": {},
   "outputs": [],
   "source": [
    "estoque_decades = stockpile_9.groupby(stockpile_9['year'] // 10 * 10)['nuclear_weapons_stockpile'].sum()"
   ]
  },
  {
   "cell_type": "code",
   "execution_count": 78,
   "metadata": {},
   "outputs": [
    {
     "data": {
      "text/plain": [
       "year\n",
       "1940      171\n",
       "1950    13424\n",
       "1960    38621\n",
       "1970    53355\n",
       "1980    58342\n",
       "1990    24881\n",
       "2000    11635\n",
       "2010     9325\n",
       "Name: nuclear_weapons_stockpile, dtype: int64"
      ]
     },
     "execution_count": 78,
     "metadata": {},
     "output_type": "execute_result"
    }
   ],
   "source": [
    "estoque_decades"
   ]
  },
  {
   "cell_type": "code",
   "execution_count": 62,
   "metadata": {},
   "outputs": [],
   "source": [
    "decades = range(1940, 2010, 10) "
   ]
  },
  {
   "cell_type": "code",
   "execution_count": 63,
   "metadata": {},
   "outputs": [
    {
     "name": "stdout",
     "output_type": "stream",
     "text": [
      "range(1940, 2010, 10)\n"
     ]
    }
   ],
   "source": [
    "print(decades)"
   ]
  },
  {
   "cell_type": "code",
   "execution_count": 57,
   "metadata": {},
   "outputs": [
    {
     "data": {
      "text/html": [
       "<div>\n",
       "<style scoped>\n",
       "    .dataframe tbody tr th:only-of-type {\n",
       "        vertical-align: middle;\n",
       "    }\n",
       "\n",
       "    .dataframe tbody tr th {\n",
       "        vertical-align: top;\n",
       "    }\n",
       "\n",
       "    .dataframe thead th {\n",
       "        text-align: right;\n",
       "    }\n",
       "</style>\n",
       "<table border=\"1\" class=\"dataframe\">\n",
       "  <thead>\n",
       "    <tr style=\"text-align: right;\">\n",
       "      <th></th>\n",
       "      <th>Name</th>\n",
       "      <th>Code</th>\n",
       "      <th>Type</th>\n",
       "      <th>Indicator Name</th>\n",
       "      <th>year</th>\n",
       "      <th>Valor</th>\n",
       "    </tr>\n",
       "  </thead>\n",
       "  <tbody>\n",
       "    <tr>\n",
       "      <th>0</th>\n",
       "      <td>World</td>\n",
       "      <td>WLD</td>\n",
       "      <td>Regions Clubbed Geographically</td>\n",
       "      <td>Military expenditure (current USD)</td>\n",
       "      <td>2018</td>\n",
       "      <td>178000000000000</td>\n",
       "    </tr>\n",
       "    <tr>\n",
       "      <th>1</th>\n",
       "      <td>World</td>\n",
       "      <td>WLD</td>\n",
       "      <td>Regions Clubbed Geographically</td>\n",
       "      <td>Military expenditure (current USD)</td>\n",
       "      <td>2012</td>\n",
       "      <td>174000000000000</td>\n",
       "    </tr>\n",
       "    <tr>\n",
       "      <th>2</th>\n",
       "      <td>World</td>\n",
       "      <td>WLD</td>\n",
       "      <td>Regions Clubbed Geographically</td>\n",
       "      <td>Military expenditure (current USD)</td>\n",
       "      <td>2013</td>\n",
       "      <td>174000000000000</td>\n",
       "    </tr>\n",
       "    <tr>\n",
       "      <th>3</th>\n",
       "      <td>World</td>\n",
       "      <td>WLD</td>\n",
       "      <td>Regions Clubbed Geographically</td>\n",
       "      <td>Military expenditure (current USD)</td>\n",
       "      <td>2014</td>\n",
       "      <td>174000000000000</td>\n",
       "    </tr>\n",
       "    <tr>\n",
       "      <th>4</th>\n",
       "      <td>World</td>\n",
       "      <td>WLD</td>\n",
       "      <td>Regions Clubbed Geographically</td>\n",
       "      <td>Military expenditure (current USD)</td>\n",
       "      <td>2011</td>\n",
       "      <td>173000000000000</td>\n",
       "    </tr>\n",
       "    <tr>\n",
       "      <th>...</th>\n",
       "      <td>...</td>\n",
       "      <td>...</td>\n",
       "      <td>...</td>\n",
       "      <td>...</td>\n",
       "      <td>...</td>\n",
       "      <td>...</td>\n",
       "    </tr>\n",
       "    <tr>\n",
       "      <th>9236</th>\n",
       "      <td>Panama</td>\n",
       "      <td>PAN</td>\n",
       "      <td>Country</td>\n",
       "      <td>Military expenditure (current USD)</td>\n",
       "      <td>2014</td>\n",
       "      <td>0</td>\n",
       "    </tr>\n",
       "    <tr>\n",
       "      <th>9237</th>\n",
       "      <td>Panama</td>\n",
       "      <td>PAN</td>\n",
       "      <td>Country</td>\n",
       "      <td>Military expenditure (current USD)</td>\n",
       "      <td>2015</td>\n",
       "      <td>0</td>\n",
       "    </tr>\n",
       "    <tr>\n",
       "      <th>9238</th>\n",
       "      <td>Panama</td>\n",
       "      <td>PAN</td>\n",
       "      <td>Country</td>\n",
       "      <td>Military expenditure (current USD)</td>\n",
       "      <td>2016</td>\n",
       "      <td>0</td>\n",
       "    </tr>\n",
       "    <tr>\n",
       "      <th>9239</th>\n",
       "      <td>Panama</td>\n",
       "      <td>PAN</td>\n",
       "      <td>Country</td>\n",
       "      <td>Military expenditure (current USD)</td>\n",
       "      <td>2017</td>\n",
       "      <td>0</td>\n",
       "    </tr>\n",
       "    <tr>\n",
       "      <th>9240</th>\n",
       "      <td>Panama</td>\n",
       "      <td>PAN</td>\n",
       "      <td>Country</td>\n",
       "      <td>Military expenditure (current USD)</td>\n",
       "      <td>2018</td>\n",
       "      <td>0</td>\n",
       "    </tr>\n",
       "  </tbody>\n",
       "</table>\n",
       "<p>9241 rows × 6 columns</p>\n",
       "</div>"
      ],
      "text/plain": [
       "        Name Code                            Type  \\\n",
       "0      World  WLD  Regions Clubbed Geographically   \n",
       "1      World  WLD  Regions Clubbed Geographically   \n",
       "2      World  WLD  Regions Clubbed Geographically   \n",
       "3      World  WLD  Regions Clubbed Geographically   \n",
       "4      World  WLD  Regions Clubbed Geographically   \n",
       "...      ...  ...                             ...   \n",
       "9236  Panama  PAN                         Country   \n",
       "9237  Panama  PAN                         Country   \n",
       "9238  Panama  PAN                         Country   \n",
       "9239  Panama  PAN                         Country   \n",
       "9240  Panama  PAN                         Country   \n",
       "\n",
       "                          Indicator Name  year            Valor  \n",
       "0     Military expenditure (current USD)  2018  178000000000000  \n",
       "1     Military expenditure (current USD)  2012  174000000000000  \n",
       "2     Military expenditure (current USD)  2013  174000000000000  \n",
       "3     Military expenditure (current USD)  2014  174000000000000  \n",
       "4     Military expenditure (current USD)  2011  173000000000000  \n",
       "...                                  ...   ...              ...  \n",
       "9236  Military expenditure (current USD)  2014                0  \n",
       "9237  Military expenditure (current USD)  2015                0  \n",
       "9238  Military expenditure (current USD)  2016                0  \n",
       "9239  Military expenditure (current USD)  2017                0  \n",
       "9240  Military expenditure (current USD)  2018                0  \n",
       "\n",
       "[9241 rows x 6 columns]"
      ]
     },
     "execution_count": 57,
     "metadata": {},
     "output_type": "execute_result"
    }
   ],
   "source": [
    "gastos"
   ]
  },
  {
   "cell_type": "code",
   "execution_count": 65,
   "metadata": {},
   "outputs": [],
   "source": [
    "gastos_filtered = gastos[gastos['Type'] == 'Country']"
   ]
  },
  {
   "cell_type": "code",
   "execution_count": 98,
   "metadata": {},
   "outputs": [
    {
     "data": {
      "text/plain": [
       "Series([], Name: Valor, dtype: float64)"
      ]
     },
     "execution_count": 98,
     "metadata": {},
     "output_type": "execute_result"
    }
   ],
   "source": [
    "gastos_decades = gastos_filtered.groupby(gastos_filtered['year'] // 10 * 10)['Valor'].sum()\n",
    "\n",
    "decades_pct_change = gastos_decades.pct_change() * 100\n",
    "\n",
    "# Shift results down by one (as the first decade has no prior reference)\n",
    "decades_pct_change = decades_pct_change.shift(periods=-1) \n",
    "\n",
    "# Display the results from the 1950s onwards (since the 1940s value won't have a comparison)\n",
    "decades_pct_change[1950:]"
   ]
  },
  {
   "cell_type": "code",
   "execution_count": 96,
   "metadata": {},
   "outputs": [
    {
     "data": {
      "text/plain": [
       "year\n",
       "1960      3013335553469\n",
       "1970     37286756177004\n",
       "1980    244026767858707\n",
       "1990    292590251281516\n",
       "2000    492699172214559\n",
       "2010    759749138479663\n",
       "Name: Valor, dtype: int64"
      ]
     },
     "execution_count": 96,
     "metadata": {},
     "output_type": "execute_result"
    }
   ],
   "source": [
    "gastos_decades"
   ]
  },
  {
   "cell_type": "code",
   "execution_count": 99,
   "metadata": {},
   "outputs": [
    {
     "data": {
      "text/plain": [
       "year\n",
       "1960    1137.391439\n",
       "1970     554.459634\n",
       "1980      19.900884\n",
       "1990      68.392204\n",
       "2000      54.201424\n",
       "2010            NaN\n",
       "Name: Valor, dtype: float64"
      ]
     },
     "execution_count": 99,
     "metadata": {},
     "output_type": "execute_result"
    }
   ],
   "source": [
    "decades_pct_change"
   ]
  },
  {
   "cell_type": "code",
   "execution_count": 72,
   "metadata": {},
   "outputs": [],
   "source": [
    "gastos_decades = decades"
   ]
  },
  {
   "cell_type": "code",
   "execution_count": 73,
   "metadata": {},
   "outputs": [
    {
     "data": {
      "text/plain": [
       "year\n",
       "1960      3013335553469\n",
       "1970     37286756177004\n",
       "1980    244026767858707\n",
       "1990    292590251281516\n",
       "2000    492699172214559\n",
       "2010    759749138479663\n",
       "Name: Valor, dtype: int64"
      ]
     },
     "execution_count": 73,
     "metadata": {},
     "output_type": "execute_result"
    }
   ],
   "source": [
    "gastos_decades"
   ]
  },
  {
   "cell_type": "code",
   "execution_count": 64,
   "metadata": {},
   "outputs": [
    {
     "name": "stdout",
     "output_type": "stream",
     "text": [
      "year\n",
      "196      108817132670699\n",
      "197      587078433444246\n",
      "198     2277002557303498\n",
      "199     3789958999101300\n",
      "200     6750869803136364\n",
      "201    10584125643553175\n",
      "Name: Valor, dtype: int64\n"
     ]
    }
   ],
   "source": [
    "decades = gastos.groupby(gastos['year'] // 10)['Valor'].sum()\n",
    "\n",
    "print(decades)"
   ]
  },
  {
   "cell_type": "code",
   "execution_count": 81,
   "metadata": {},
   "outputs": [
    {
     "data": {
      "text/plain": [
       "year\n",
       "1940      171\n",
       "1950    13424\n",
       "1960    38621\n",
       "1970    53355\n",
       "1980    58342\n",
       "1990    24881\n",
       "2000    11635\n",
       "2010     9325\n",
       "Name: nuclear_weapons_stockpile, dtype: int64"
      ]
     },
     "execution_count": 81,
     "metadata": {},
     "output_type": "execute_result"
    }
   ],
   "source": [
    "estoque_decades"
   ]
  },
  {
   "cell_type": "code",
   "execution_count": 80,
   "metadata": {},
   "outputs": [
    {
     "data": {
      "text/plain": [
       "year\n",
       "1940      7\n",
       "1950    291\n",
       "1960    706\n",
       "1970    550\n",
       "1980    439\n",
       "1990     57\n",
       "2000      2\n",
       "2010      7\n",
       "Name: nuclear_weapons_tests, dtype: int64"
      ]
     },
     "execution_count": 80,
     "metadata": {},
     "output_type": "execute_result"
    }
   ],
   "source": [
    "testes_decades"
   ]
  },
  {
   "cell_type": "code",
   "execution_count": 79,
   "metadata": {},
   "outputs": [
    {
     "data": {
      "text/plain": [
       "year\n",
       "1960      3013335553469\n",
       "1970     37286756177004\n",
       "1980    244026767858707\n",
       "1990    292590251281516\n",
       "2000    492699172214559\n",
       "2010    759749138479663\n",
       "Name: Valor, dtype: int64"
      ]
     },
     "execution_count": 79,
     "metadata": {},
     "output_type": "execute_result"
    }
   ],
   "source": [
    "gastos_decades"
   ]
  },
  {
   "cell_type": "code",
   "execution_count": 110,
   "metadata": {},
   "outputs": [
    {
     "data": {
      "image/png": "[encoded data removed]",
      "text/plain": [
       "<Figure size 640x480 with 2 Axes>"
      ]
     },
     "metadata": {},
     "output_type": "display_data"
    }
   ],
   "source": [
    "combined_data = pd.concat([decades_pct_change, testes_decades, estoque_decades], axis=1)\n",
    "combined_data.columns = ['spending_pct_change', 'tests', 'stockpile']\n",
    "\n",
    "\n",
    "\n",
    "\n",
    "fig, ax1 = plt.subplots()  \n",
    "\n",
    "\n",
    "ax1.bar(combined_data.index, combined_data['stockpile'], label='Stockpile')\n",
    "ax1.bar(combined_data.index, combined_data['tests'], label='Nuclear Tests')\n",
    "ax1.set_ylabel('Stockpile & Nuclear Tests') \n",
    "\n",
    " \n",
    "ax2 = ax1.twinx() \n",
    "ax2.plot(combined_data.index, combined_data['spending_pct_change'], color='red', label='Spending Change (%)')\n",
    "ax2.set_ylabel('Spending Change (%)')\n",
    "\n",
    " \n",
    "plt.xlabel('Decades')\n",
    "plt.title('Military Spending Change, Nuclear Tests, and Stockpiles by Decade')\n",
    "fig.legend()  \n",
    "\n",
    "plt.show()"
   ]
  },
  {
   "cell_type": "markdown",
   "metadata": {},
   "source": [
    "Nesse gráfico temos o cruzamento de 3 sets de dados:\n",
    "\n",
    "* Azul: somatória do estoque de ogivas nucleares do países ao final de cada década\n",
    "* Laranja: soma do número de testes com armas nucleares por década\n",
    "* Vermelho: % da diferença dos gastos totais em armamentos entre uma década e outra\n",
    "\n",
    "\n",
    "Conclusões e insights obtidos:\n",
    "* Após o descobrimento da fissão nuclear e a invenção da primeira bomba atômica (Projeto Manhattan - retratada no último ganhador de Oscar \"Oppenheimer\"), iniciou-se uma corrida armamentista para o desenvolvimento de novas e mais bombas nucleares;\n",
    "* Especialmente entre os anos 40 e 70, os investimentos no desenvolvimento, testes e produção de bombas nucleares foi desproporcionalmente alto em relação às decadas seguintes ;\n",
    "* Com o crescente avanço dos Arsenais nos anos 80, com a opinião pública e governos iniciando acordos de não proliferação (SALT), as grandes potências começaram a desmantelar seus arsenais nucleares;\n",
    "* Com a queda da União Soviética e assinatura do acordo START I em 1991, houve forte redução do estoque de armamentos nucleares no mundo à partir de então;\n",
    "* No entanto, os gastos com armamentos militares continuaram a aumentar ao redor do mundo nas décadas seguintes, com as potências nucleares mantendo estoques de bombas nucleares e investindo em novas tecnologias (desde tanques e aviões a misseis balísticos e de defesa anti-mísseis), os quais são caros;\n",
    "* Os dados mais recentes indicam aumento significativo dos gastos militares da Rússia e da China, o que colocou o mundo em alerta novamente, o que poderá acarretar uma nova corrida armamentista no futuro próximo;"
   ]
  }
 ],
 "metadata": {
  "kernelspec": {
   "display_name": "Python 3",
   "language": "python",
   "name": "python3"
  },
  "language_info": {
   "codemirror_mode": {
    "name": "ipython",
    "version": 3
   },
   "file_extension": ".py",
   "mimetype": "text/x-python",
   "name": "python",
   "nbconvert_exporter": "python",
   "pygments_lexer": "ipython3",
   "version": "3.12.1"
  }
 },
 "nbformat": 4,
 "nbformat_minor": 2
}
