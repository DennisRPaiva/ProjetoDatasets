{
 "cells": [
  {
   "cell_type": "code",
   "execution_count": 323,
   "metadata": {},
   "outputs": [],
   "source": [
    "#Pergunta:\n",
    "#-- Dos países que mais gastam em militar, quanto por cento do pib é?"
   ]
  },
  {
   "cell_type": "code",
   "execution_count": 3,
   "metadata": {},
   "outputs": [],
   "source": [
    "import pandas as pd\n",
    "\n",
    "import basedosdados as bd"
   ]
  },
  {
   "cell_type": "code",
   "execution_count": null,
   "metadata": {},
   "outputs": [],
   "source": [
    "# !pip install basedosdados\n",
    "# !pip install matplotlib\n",
    "# !pip install pandas"
   ]
  },
  {
   "cell_type": "code",
   "execution_count": 6,
   "metadata": {},
   "outputs": [],
   "source": [
    "militaryDf = pd.read_csv(\"military_expenditure/militaryexpenditure.csv\", sep = \";\")"
   ]
  },
  {
   "cell_type": "code",
   "execution_count": 9,
   "metadata": {},
   "outputs": [],
   "source": [
    "economyDf = pd.read_csv(\"global_economy_indicators.csv\")"
   ]
  },
  {
   "cell_type": "code",
   "execution_count": 129,
   "metadata": {},
   "outputs": [
    {
     "data": {
      "text/html": [
       "<div>\n",
       "<style scoped>\n",
       "    .dataframe tbody tr th:only-of-type {\n",
       "        vertical-align: middle;\n",
       "    }\n",
       "\n",
       "    .dataframe tbody tr th {\n",
       "        vertical-align: top;\n",
       "    }\n",
       "\n",
       "    .dataframe thead th {\n",
       "        text-align: right;\n",
       "    }\n",
       "</style>\n",
       "<table border=\"1\" class=\"dataframe\">\n",
       "  <thead>\n",
       "    <tr style=\"text-align: right;\">\n",
       "      <th></th>\n",
       "      <th>Name</th>\n",
       "      <th>Code</th>\n",
       "      <th>Type</th>\n",
       "      <th>Indicator Name</th>\n",
       "      <th>year</th>\n",
       "      <th>Valor</th>\n",
       "    </tr>\n",
       "  </thead>\n",
       "  <tbody>\n",
       "    <tr>\n",
       "      <th>88</th>\n",
       "      <td>United States</td>\n",
       "      <td>USA</td>\n",
       "      <td>Country</td>\n",
       "      <td>Military expenditure (current USD)</td>\n",
       "      <td>2018</td>\n",
       "      <td>64900000000000</td>\n",
       "    </tr>\n",
       "    <tr>\n",
       "      <th>337</th>\n",
       "      <td>China</td>\n",
       "      <td>CHN</td>\n",
       "      <td>Country</td>\n",
       "      <td>Military expenditure (current USD)</td>\n",
       "      <td>2018</td>\n",
       "      <td>25000000000000</td>\n",
       "    </tr>\n",
       "    <tr>\n",
       "      <th>789</th>\n",
       "      <td>Saudi Arabia</td>\n",
       "      <td>SAU</td>\n",
       "      <td>Country</td>\n",
       "      <td>Military expenditure (current USD)</td>\n",
       "      <td>2018</td>\n",
       "      <td>67554666667</td>\n",
       "    </tr>\n",
       "    <tr>\n",
       "      <th>797</th>\n",
       "      <td>India</td>\n",
       "      <td>IND</td>\n",
       "      <td>Country</td>\n",
       "      <td>Military expenditure (current USD)</td>\n",
       "      <td>2018</td>\n",
       "      <td>66510289108</td>\n",
       "    </tr>\n",
       "    <tr>\n",
       "      <th>821</th>\n",
       "      <td>France</td>\n",
       "      <td>FRA</td>\n",
       "      <td>Country</td>\n",
       "      <td>Military expenditure (current USD)</td>\n",
       "      <td>2018</td>\n",
       "      <td>63799676593</td>\n",
       "    </tr>\n",
       "    <tr>\n",
       "      <th>...</th>\n",
       "      <td>...</td>\n",
       "      <td>...</td>\n",
       "      <td>...</td>\n",
       "      <td>...</td>\n",
       "      <td>...</td>\n",
       "      <td>...</td>\n",
       "    </tr>\n",
       "    <tr>\n",
       "      <th>8988</th>\n",
       "      <td>Timor-Leste</td>\n",
       "      <td>TLS</td>\n",
       "      <td>Country</td>\n",
       "      <td>Military expenditure (current USD)</td>\n",
       "      <td>2018</td>\n",
       "      <td>20610000</td>\n",
       "    </tr>\n",
       "    <tr>\n",
       "      <th>9009</th>\n",
       "      <td>Liberia</td>\n",
       "      <td>LBR</td>\n",
       "      <td>Country</td>\n",
       "      <td>Military expenditure (current USD)</td>\n",
       "      <td>2018</td>\n",
       "      <td>15786500</td>\n",
       "    </tr>\n",
       "    <tr>\n",
       "      <th>9162</th>\n",
       "      <td>Costa Rica</td>\n",
       "      <td>CRI</td>\n",
       "      <td>Country</td>\n",
       "      <td>Military expenditure (current USD)</td>\n",
       "      <td>2018</td>\n",
       "      <td>0</td>\n",
       "    </tr>\n",
       "    <tr>\n",
       "      <th>9221</th>\n",
       "      <td>Iceland</td>\n",
       "      <td>ISL</td>\n",
       "      <td>Country</td>\n",
       "      <td>Military expenditure (current USD)</td>\n",
       "      <td>2018</td>\n",
       "      <td>0</td>\n",
       "    </tr>\n",
       "    <tr>\n",
       "      <th>9240</th>\n",
       "      <td>Panama</td>\n",
       "      <td>PAN</td>\n",
       "      <td>Country</td>\n",
       "      <td>Military expenditure (current USD)</td>\n",
       "      <td>2018</td>\n",
       "      <td>0</td>\n",
       "    </tr>\n",
       "  </tbody>\n",
       "</table>\n",
       "<p>151 rows × 6 columns</p>\n",
       "</div>"
      ],
      "text/plain": [
       "               Name Code     Type                      Indicator Name  year  \\\n",
       "88    United States  USA  Country  Military expenditure (current USD)  2018   \n",
       "337           China  CHN  Country  Military expenditure (current USD)  2018   \n",
       "789    Saudi Arabia  SAU  Country  Military expenditure (current USD)  2018   \n",
       "797           India  IND  Country  Military expenditure (current USD)  2018   \n",
       "821          France  FRA  Country  Military expenditure (current USD)  2018   \n",
       "...             ...  ...      ...                                 ...   ...   \n",
       "8988    Timor-Leste  TLS  Country  Military expenditure (current USD)  2018   \n",
       "9009        Liberia  LBR  Country  Military expenditure (current USD)  2018   \n",
       "9162     Costa Rica  CRI  Country  Military expenditure (current USD)  2018   \n",
       "9221        Iceland  ISL  Country  Military expenditure (current USD)  2018   \n",
       "9240         Panama  PAN  Country  Military expenditure (current USD)  2018   \n",
       "\n",
       "               Valor  \n",
       "88    64900000000000  \n",
       "337   25000000000000  \n",
       "789      67554666667  \n",
       "797      66510289108  \n",
       "821      63799676593  \n",
       "...              ...  \n",
       "8988        20610000  \n",
       "9009        15786500  \n",
       "9162               0  \n",
       "9221               0  \n",
       "9240               0  \n",
       "\n",
       "[151 rows x 6 columns]"
      ]
     },
     "execution_count": 129,
     "metadata": {},
     "output_type": "execute_result"
    }
   ],
   "source": [
    "militaryDf[(militaryDf[\"Type\"] == \"Country\") & (militaryDf[\"year\"] == 2018)]"
   ]
  },
  {
   "cell_type": "code",
   "execution_count": 178,
   "metadata": {},
   "outputs": [
    {
     "data": {
      "text/html": [
       "<div>\n",
       "<style scoped>\n",
       "    .dataframe tbody tr th:only-of-type {\n",
       "        vertical-align: middle;\n",
       "    }\n",
       "\n",
       "    .dataframe tbody tr th {\n",
       "        vertical-align: top;\n",
       "    }\n",
       "\n",
       "    .dataframe thead th {\n",
       "        text-align: right;\n",
       "    }\n",
       "</style>\n",
       "<table border=\"1\" class=\"dataframe\">\n",
       "  <thead>\n",
       "    <tr style=\"text-align: right;\">\n",
       "      <th></th>\n",
       "      <th>Name</th>\n",
       "      <th>Valor</th>\n",
       "    </tr>\n",
       "  </thead>\n",
       "  <tbody>\n",
       "    <tr>\n",
       "      <th>88</th>\n",
       "      <td>United States</td>\n",
       "      <td>64900000000000</td>\n",
       "    </tr>\n",
       "    <tr>\n",
       "      <th>337</th>\n",
       "      <td>China</td>\n",
       "      <td>25000000000000</td>\n",
       "    </tr>\n",
       "    <tr>\n",
       "      <th>789</th>\n",
       "      <td>Saudi Arabia</td>\n",
       "      <td>67554666667</td>\n",
       "    </tr>\n",
       "    <tr>\n",
       "      <th>797</th>\n",
       "      <td>India</td>\n",
       "      <td>66510289108</td>\n",
       "    </tr>\n",
       "    <tr>\n",
       "      <th>821</th>\n",
       "      <td>France</td>\n",
       "      <td>63799676593</td>\n",
       "    </tr>\n",
       "    <tr>\n",
       "      <th>...</th>\n",
       "      <td>...</td>\n",
       "      <td>...</td>\n",
       "    </tr>\n",
       "    <tr>\n",
       "      <th>8988</th>\n",
       "      <td>Timor-Leste</td>\n",
       "      <td>20610000</td>\n",
       "    </tr>\n",
       "    <tr>\n",
       "      <th>9009</th>\n",
       "      <td>Liberia</td>\n",
       "      <td>15786500</td>\n",
       "    </tr>\n",
       "    <tr>\n",
       "      <th>9162</th>\n",
       "      <td>Costa Rica</td>\n",
       "      <td>0</td>\n",
       "    </tr>\n",
       "    <tr>\n",
       "      <th>9221</th>\n",
       "      <td>Iceland</td>\n",
       "      <td>0</td>\n",
       "    </tr>\n",
       "    <tr>\n",
       "      <th>9240</th>\n",
       "      <td>Panama</td>\n",
       "      <td>0</td>\n",
       "    </tr>\n",
       "  </tbody>\n",
       "</table>\n",
       "<p>151 rows × 2 columns</p>\n",
       "</div>"
      ],
      "text/plain": [
       "               Name           Valor\n",
       "88    United States  64900000000000\n",
       "337           China  25000000000000\n",
       "789    Saudi Arabia     67554666667\n",
       "797           India     66510289108\n",
       "821          France     63799676593\n",
       "...             ...             ...\n",
       "8988    Timor-Leste        20610000\n",
       "9009        Liberia        15786500\n",
       "9162     Costa Rica               0\n",
       "9221        Iceland               0\n",
       "9240         Panama               0\n",
       "\n",
       "[151 rows x 2 columns]"
      ]
     },
     "execution_count": 178,
     "metadata": {},
     "output_type": "execute_result"
    }
   ],
   "source": [
    "militaryDf_2018 = militaryDf[(militaryDf[\"Type\"] == \"Country\") & (militaryDf[\"year\"] == 2018)]\n",
    "militaryDf_2018[[\"Name\", \"Valor\"]].sort_values(by='Valor',  ascending=False)"
   ]
  },
  {
   "cell_type": "code",
   "execution_count": 180,
   "metadata": {},
   "outputs": [
    {
     "data": {
      "text/html": [
       "<div>\n",
       "<style scoped>\n",
       "    .dataframe tbody tr th:only-of-type {\n",
       "        vertical-align: middle;\n",
       "    }\n",
       "\n",
       "    .dataframe tbody tr th {\n",
       "        vertical-align: top;\n",
       "    }\n",
       "\n",
       "    .dataframe thead th {\n",
       "        text-align: right;\n",
       "    }\n",
       "</style>\n",
       "<table border=\"1\" class=\"dataframe\">\n",
       "  <thead>\n",
       "    <tr style=\"text-align: right;\">\n",
       "      <th></th>\n",
       "      <th>Country</th>\n",
       "      <th>Gross Domestic Product (GDP)</th>\n",
       "    </tr>\n",
       "  </thead>\n",
       "  <tbody>\n",
       "    <tr>\n",
       "      <th>10141</th>\n",
       "      <td>United States</td>\n",
       "      <td>2.050000e+13</td>\n",
       "    </tr>\n",
       "    <tr>\n",
       "      <th>2004</th>\n",
       "      <td>China</td>\n",
       "      <td>1.390000e+13</td>\n",
       "    </tr>\n",
       "    <tr>\n",
       "      <th>4682</th>\n",
       "      <td>Japan</td>\n",
       "      <td>5.040000e+12</td>\n",
       "    </tr>\n",
       "    <tr>\n",
       "      <th>3484</th>\n",
       "      <td>Germany</td>\n",
       "      <td>3.970000e+12</td>\n",
       "    </tr>\n",
       "    <tr>\n",
       "      <th>10005</th>\n",
       "      <td>United Kingdom</td>\n",
       "      <td>2.880000e+12</td>\n",
       "    </tr>\n",
       "    <tr>\n",
       "      <th>...</th>\n",
       "      <td>...</td>\n",
       "      <td>...</td>\n",
       "    </tr>\n",
       "    <tr>\n",
       "      <th>7173</th>\n",
       "      <td>Marshall Islands</td>\n",
       "      <td>2.217942e+08</td>\n",
       "    </tr>\n",
       "    <tr>\n",
       "      <th>3589</th>\n",
       "      <td>Kiribati</td>\n",
       "      <td>1.962324e+08</td>\n",
       "    </tr>\n",
       "    <tr>\n",
       "      <th>6470</th>\n",
       "      <td>Nauru</td>\n",
       "      <td>1.382036e+08</td>\n",
       "    </tr>\n",
       "    <tr>\n",
       "      <th>6210</th>\n",
       "      <td>Montserrat</td>\n",
       "      <td>6.285556e+07</td>\n",
       "    </tr>\n",
       "    <tr>\n",
       "      <th>9764</th>\n",
       "      <td>Tuvalu</td>\n",
       "      <td>4.804200e+07</td>\n",
       "    </tr>\n",
       "  </tbody>\n",
       "</table>\n",
       "<p>212 rows × 2 columns</p>\n",
       "</div>"
      ],
      "text/plain": [
       "                  Country  Gross Domestic Product (GDP)\n",
       "10141      United States                   2.050000e+13\n",
       "2004               China                   1.390000e+13\n",
       "4682               Japan                   5.040000e+12\n",
       "3484             Germany                   3.970000e+12\n",
       "10005     United Kingdom                   2.880000e+12\n",
       "...                   ...                           ...\n",
       "7173    Marshall Islands                   2.217942e+08\n",
       "3589            Kiribati                   1.962324e+08\n",
       "6470               Nauru                   1.382036e+08\n",
       "6210          Montserrat                   6.285556e+07\n",
       "9764              Tuvalu                   4.804200e+07\n",
       "\n",
       "[212 rows x 2 columns]"
      ]
     },
     "execution_count": 180,
     "metadata": {},
     "output_type": "execute_result"
    }
   ],
   "source": [
    "economyDf_2018 = economyDf[economyDf[\"Year\"] == 2018]\n",
    "economyDf_2018[[\"Country\", \"Gross Domestic Product (GDP)\"]].sort_values(by='Gross Domestic Product (GDP)',  ascending=False)"
   ]
  },
  {
   "cell_type": "code",
   "execution_count": 223,
   "metadata": {},
   "outputs": [],
   "source": [
    "economyDf_2018_2 = economyDf_2018[[\"Country\", \"Gross Domestic Product (GDP)\"]].sort_values(by='Gross Domestic Product (GDP)',  ascending=False)"
   ]
  },
  {
   "cell_type": "code",
   "execution_count": 227,
   "metadata": {},
   "outputs": [
    {
     "data": {
      "text/html": [
       "<div>\n",
       "<style scoped>\n",
       "    .dataframe tbody tr th:only-of-type {\n",
       "        vertical-align: middle;\n",
       "    }\n",
       "\n",
       "    .dataframe tbody tr th {\n",
       "        vertical-align: top;\n",
       "    }\n",
       "\n",
       "    .dataframe thead th {\n",
       "        text-align: right;\n",
       "    }\n",
       "</style>\n",
       "<table border=\"1\" class=\"dataframe\">\n",
       "  <thead>\n",
       "    <tr style=\"text-align: right;\">\n",
       "      <th></th>\n",
       "      <th>Country</th>\n",
       "      <th>Gross Domestic Product (GDP)</th>\n",
       "    </tr>\n",
       "  </thead>\n",
       "  <tbody>\n",
       "    <tr>\n",
       "      <th>10141</th>\n",
       "      <td>United States</td>\n",
       "      <td>2.050000e+13</td>\n",
       "    </tr>\n",
       "    <tr>\n",
       "      <th>2004</th>\n",
       "      <td>China</td>\n",
       "      <td>1.390000e+13</td>\n",
       "    </tr>\n",
       "    <tr>\n",
       "      <th>4682</th>\n",
       "      <td>Japan</td>\n",
       "      <td>5.040000e+12</td>\n",
       "    </tr>\n",
       "    <tr>\n",
       "      <th>3484</th>\n",
       "      <td>Germany</td>\n",
       "      <td>3.970000e+12</td>\n",
       "    </tr>\n",
       "    <tr>\n",
       "      <th>10005</th>\n",
       "      <td>United Kingdom</td>\n",
       "      <td>2.880000e+12</td>\n",
       "    </tr>\n",
       "    <tr>\n",
       "      <th>...</th>\n",
       "      <td>...</td>\n",
       "      <td>...</td>\n",
       "    </tr>\n",
       "    <tr>\n",
       "      <th>7173</th>\n",
       "      <td>Marshall Islands</td>\n",
       "      <td>2.217942e+08</td>\n",
       "    </tr>\n",
       "    <tr>\n",
       "      <th>3589</th>\n",
       "      <td>Kiribati</td>\n",
       "      <td>1.962324e+08</td>\n",
       "    </tr>\n",
       "    <tr>\n",
       "      <th>6470</th>\n",
       "      <td>Nauru</td>\n",
       "      <td>1.382036e+08</td>\n",
       "    </tr>\n",
       "    <tr>\n",
       "      <th>6210</th>\n",
       "      <td>Montserrat</td>\n",
       "      <td>6.285556e+07</td>\n",
       "    </tr>\n",
       "    <tr>\n",
       "      <th>9764</th>\n",
       "      <td>Tuvalu</td>\n",
       "      <td>4.804200e+07</td>\n",
       "    </tr>\n",
       "  </tbody>\n",
       "</table>\n",
       "<p>212 rows × 2 columns</p>\n",
       "</div>"
      ],
      "text/plain": [
       "                Country  Gross Domestic Product (GDP)\n",
       "10141     United States                  2.050000e+13\n",
       "2004              China                  1.390000e+13\n",
       "4682              Japan                  5.040000e+12\n",
       "3484            Germany                  3.970000e+12\n",
       "10005    United Kingdom                  2.880000e+12\n",
       "...                 ...                           ...\n",
       "7173   Marshall Islands                  2.217942e+08\n",
       "3589           Kiribati                  1.962324e+08\n",
       "6470              Nauru                  1.382036e+08\n",
       "6210         Montserrat                  6.285556e+07\n",
       "9764             Tuvalu                  4.804200e+07\n",
       "\n",
       "[212 rows x 2 columns]"
      ]
     },
     "execution_count": 227,
     "metadata": {},
     "output_type": "execute_result"
    }
   ],
   "source": [
    "economyDf_2018_2[\"Country\"] = economyDf_2018_2[\"Country\"].str.strip()\n",
    "economyDf_2018_2"
   ]
  },
  {
   "cell_type": "code",
   "execution_count": 263,
   "metadata": {},
   "outputs": [
    {
     "data": {
      "text/plain": [
       "25000000000000"
      ]
     },
     "execution_count": 263,
     "metadata": {},
     "output_type": "execute_result"
    }
   ],
   "source": [
    "paises_com_maior_gasto_militar = []\n",
    "militaryDf_2018[militaryDf_2018['Name'] == \"China\"][\"Valor\"].astype(\"Int64\").values[0]"
   ]
  },
  {
   "cell_type": "code",
   "execution_count": 272,
   "metadata": {},
   "outputs": [],
   "source": [
    "gastoPais = militaryDf_2018[militaryDf_2018['Name'] == \"France\"][\"Valor\"].astype(\"Int64\").values[0]\n",
    "paises_com_maior_gasto_militar.append({'nome': \"France\", 'gasto': gastoPais})"
   ]
  },
  {
   "cell_type": "code",
   "execution_count": 274,
   "metadata": {},
   "outputs": [
    {
     "data": {
      "text/plain": [
       "[{'nome': 'Estados Unidos', 'gasto': 64900000000000},\n",
       " {'nome': 'China', 'gasto': 25000000000000},\n",
       " {'nome': 'Saudi Arabia', 'gasto': 67554666667},\n",
       " {'nome': 'India', 'gasto': 66510289108},\n",
       " {'nome': 'France', 'gasto': 63799676593}]"
      ]
     },
     "execution_count": 274,
     "metadata": {},
     "output_type": "execute_result"
    }
   ],
   "source": [
    "paises_com_maior_gasto_militar"
   ]
  },
  {
   "cell_type": "code",
   "execution_count": 283,
   "metadata": {},
   "outputs": [
    {
     "data": {
      "text/plain": [
       "20500000000000"
      ]
     },
     "execution_count": 283,
     "metadata": {},
     "output_type": "execute_result"
    }
   ],
   "source": [
    "paises_correlacionados = []\n",
    "economyDf_2018_2[economyDf_2018_2['Country'] == \"United States\"][\"Gross Domestic Product (GDP)\"].astype(\"Int64\").values[0]"
   ]
  },
  {
   "cell_type": "code",
   "execution_count": 294,
   "metadata": {},
   "outputs": [],
   "source": [
    "gdpPais = economyDf_2018_2[economyDf_2018_2['Country'] == \"France\"][\"Gross Domestic Product (GDP)\"].astype(\"Int64\").values[0]\n",
    "paises_correlacionados.append({'nome': \"France\", 'GDP': gdpPais})"
   ]
  },
  {
   "cell_type": "code",
   "execution_count": 295,
   "metadata": {},
   "outputs": [
    {
     "data": {
      "text/plain": [
       "[{'nome': 'Estados Unidos', 'GDP': 20500000000000},\n",
       " {'nome': 'China', 'GDP': 13900000000000},\n",
       " {'nome': 'Saudi Arabia', 'GDP': 817000000000},\n",
       " {'nome': 'India', 'GDP': 2760000000000},\n",
       " {'nome': 'France', 'GDP': 2790000000000}]"
      ]
     },
     "execution_count": 295,
     "metadata": {},
     "output_type": "execute_result"
    }
   ],
   "source": [
    "paises_correlacionados"
   ]
  },
  {
   "cell_type": "code",
   "execution_count": 320,
   "metadata": {},
   "outputs": [],
   "source": [
    "porcentagem_do_GDP_gasto = []"
   ]
  },
  {
   "cell_type": "code",
   "execution_count": 321,
   "metadata": {},
   "outputs": [
    {
     "name": "stdout",
     "output_type": "stream",
     "text": [
      "[3.1658536585365855, 1.7985611510791366, 0.08268625051040392, 0.024097930836231882, 0.022867267596057346]\n"
     ]
    }
   ],
   "source": [
    "\n",
    "def fazDivisao():\n",
    "    for i in range(5):\n",
    "        porcentagem_do_GDP_gasto.append(paises_com_maior_gasto_militar[i]['gasto']/paises_correlacionados[i]['GDP'])\n",
    "fazDivisao()\n",
    "print(porcentagem_do_GDP_gasto)"
   ]
  },
  {
   "cell_type": "code",
   "execution_count": 316,
   "metadata": {},
   "outputs": [
    {
     "data": {
      "text/plain": [
       "[0.31587057010785824,\n",
       " 0.556,\n",
       " 12.09390913032362,\n",
       " 41.49733878796238,\n",
       " 43.73062919736045]"
      ]
     },
     "execution_count": 316,
     "metadata": {},
     "output_type": "execute_result"
    }
   ],
   "source": [
    "#isso parece BEM errado! --------------------------------------------------------------------------------------------------------------\n",
    "porcentagem_do_GDP_gasto "
   ]
  },
  {
   "cell_type": "code",
   "execution_count": null,
   "metadata": {},
   "outputs": [
    {
     "data": {
      "text/html": [
       "<div>\n",
       "<style scoped>\n",
       "    .dataframe tbody tr th:only-of-type {\n",
       "        vertical-align: middle;\n",
       "    }\n",
       "\n",
       "    .dataframe tbody tr th {\n",
       "        vertical-align: top;\n",
       "    }\n",
       "\n",
       "    .dataframe thead th {\n",
       "        text-align: right;\n",
       "    }\n",
       "</style>\n",
       "<table border=\"1\" class=\"dataframe\">\n",
       "  <thead>\n",
       "    <tr style=\"text-align: right;\">\n",
       "      <th></th>\n",
       "      <th>Name</th>\n",
       "      <th>Valor</th>\n",
       "    </tr>\n",
       "  </thead>\n",
       "  <tbody>\n",
       "    <tr>\n",
       "      <th>88</th>\n",
       "      <td>United States</td>\n",
       "      <td>64900000000000</td>\n",
       "    </tr>\n",
       "    <tr>\n",
       "      <th>337</th>\n",
       "      <td>China</td>\n",
       "      <td>25000000000000</td>\n",
       "    </tr>\n",
       "    <tr>\n",
       "      <th>789</th>\n",
       "      <td>Saudi Arabia</td>\n",
       "      <td>67554666667</td>\n",
       "    </tr>\n",
       "    <tr>\n",
       "      <th>797</th>\n",
       "      <td>India</td>\n",
       "      <td>66510289108</td>\n",
       "    </tr>\n",
       "    <tr>\n",
       "      <th>821</th>\n",
       "      <td>France</td>\n",
       "      <td>63799676593</td>\n",
       "    </tr>\n",
       "    <tr>\n",
       "      <th>...</th>\n",
       "      <td>...</td>\n",
       "      <td>...</td>\n",
       "    </tr>\n",
       "    <tr>\n",
       "      <th>8988</th>\n",
       "      <td>Timor-Leste</td>\n",
       "      <td>20610000</td>\n",
       "    </tr>\n",
       "    <tr>\n",
       "      <th>9009</th>\n",
       "      <td>Liberia</td>\n",
       "      <td>15786500</td>\n",
       "    </tr>\n",
       "    <tr>\n",
       "      <th>9162</th>\n",
       "      <td>Costa Rica</td>\n",
       "      <td>0</td>\n",
       "    </tr>\n",
       "    <tr>\n",
       "      <th>9221</th>\n",
       "      <td>Iceland</td>\n",
       "      <td>0</td>\n",
       "    </tr>\n",
       "    <tr>\n",
       "      <th>9240</th>\n",
       "      <td>Panama</td>\n",
       "      <td>0</td>\n",
       "    </tr>\n",
       "  </tbody>\n",
       "</table>\n",
       "<p>151 rows × 2 columns</p>\n",
       "</div>"
      ],
      "text/plain": [
       "               Name           Valor\n",
       "88    United States  64900000000000\n",
       "337           China  25000000000000\n",
       "789    Saudi Arabia     67554666667\n",
       "797           India     66510289108\n",
       "821          France     63799676593\n",
       "...             ...             ...\n",
       "8988    Timor-Leste        20610000\n",
       "9009        Liberia        15786500\n",
       "9162     Costa Rica               0\n",
       "9221        Iceland               0\n",
       "9240         Panama               0\n",
       "\n",
       "[151 rows x 2 columns]"
      ]
     },
     "metadata": {},
     "output_type": "display_data"
    }
   ],
   "source": [
    "militaryDf_2018 = militaryDf[(militaryDf[\"Type\"] == \"Country\") & (militaryDf[\"year\"] == 2018)]\n",
    "militaryDf_2018[[\"Name\", \"Valor\"]].sort_values(by='Valor',  ascending=False)"
   ]
  },
  {
   "cell_type": "code",
   "execution_count": 248,
   "metadata": {},
   "outputs": [
    {
     "data": {
      "text/plain": [
       "2790000000000"
      ]
     },
     "execution_count": 248,
     "metadata": {},
     "output_type": "execute_result"
    }
   ],
   "source": [
    "#.astype(\"Int64\")\n",
    "#economyDf_2018_2[economyDf_2018_2['Country'] == \"United States\"][\"Gross Domestic Product (GDP)\"].astype(\"Int64\").values[0]\n",
    "economyDf_2018_2[economyDf_2018_2['Country'] == \"France\"][\"Gross Domestic Product (GDP)\"].astype(\"Int64\").values[0]"
   ]
  },
  {
   "cell_type": "code",
   "execution_count": 236,
   "metadata": {},
   "outputs": [
    {
     "data": {
      "text/html": [
       "<div>\n",
       "<style scoped>\n",
       "    .dataframe tbody tr th:only-of-type {\n",
       "        vertical-align: middle;\n",
       "    }\n",
       "\n",
       "    .dataframe tbody tr th {\n",
       "        vertical-align: top;\n",
       "    }\n",
       "\n",
       "    .dataframe thead th {\n",
       "        text-align: right;\n",
       "    }\n",
       "</style>\n",
       "<table border=\"1\" class=\"dataframe\">\n",
       "  <thead>\n",
       "    <tr style=\"text-align: right;\">\n",
       "      <th></th>\n",
       "      <th>Country</th>\n",
       "      <th>Gross Domestic Product (GDP)</th>\n",
       "    </tr>\n",
       "  </thead>\n",
       "  <tbody>\n",
       "    <tr>\n",
       "      <th>10141</th>\n",
       "      <td>United States</td>\n",
       "      <td>2.050000e+13</td>\n",
       "    </tr>\n",
       "  </tbody>\n",
       "</table>\n",
       "</div>"
      ],
      "text/plain": [
       "             Country  Gross Domestic Product (GDP)\n",
       "10141  United States                  2.050000e+13"
      ]
     },
     "execution_count": 236,
     "metadata": {},
     "output_type": "execute_result"
    }
   ],
   "source": [
    "paises_com_maior_gasto_militar = []\n",
    "economyDf_2018_2[economyDf_2018_2['Country'] == \"United States\"]"
   ]
  },
  {
   "cell_type": "code",
   "execution_count": 249,
   "metadata": {},
   "outputs": [
    {
     "name": "stdout",
     "output_type": "stream",
     "text": [
      "[20500000000000, 13900000000000, 817000000000, 2760000000000, 2790000000000]\n"
     ]
    }
   ],
   "source": [
    "paises_com_maior_gasto_militar.append(economyDf_2018_2[economyDf_2018_2['Country'] == \"France\"][\"Gross Domestic Product (GDP)\"].astype(\"Int64\").values[0])\n",
    "print(paises_com_maior_gasto_militar)"
   ]
  },
  {
   "cell_type": "code",
   "execution_count": 250,
   "metadata": {},
   "outputs": [
    {
     "data": {
      "text/plain": [
       "[20500000000000, 13900000000000, 817000000000, 2760000000000, 2790000000000]"
      ]
     },
     "execution_count": 250,
     "metadata": {},
     "output_type": "execute_result"
    }
   ],
   "source": [
    "paises_com_maior_gasto_militar"
   ]
  },
  {
   "cell_type": "code",
   "execution_count": null,
   "metadata": {},
   "outputs": [],
   "source": []
  },
  {
   "cell_type": "code",
   "execution_count": 181,
   "metadata": {},
   "outputs": [],
   "source": [
    "economyDf_2018_ordened = economyDf_2018[[\"Country\", \"Gross Domestic Product (GDP)\"]].sort_values(by='Gross Domestic Product (GDP)',  ascending=False)"
   ]
  },
  {
   "cell_type": "code",
   "execution_count": 182,
   "metadata": {},
   "outputs": [],
   "source": [
    "militaryDf_2018_ordened = militaryDf_2018[[\"Name\", \"Valor\"]].sort_values(by='Valor',  ascending=False)"
   ]
  },
  {
   "cell_type": "code",
   "execution_count": 192,
   "metadata": {},
   "outputs": [
    {
     "name": "stdout",
     "output_type": "stream",
     "text": [
      "[' United States ' ' China ' ' Japan ' ' Germany ' ' United Kingdom '\n",
      " ' France ' ' India ' ' Italy ' ' Brazil ' ' Canada '\n",
      " ' Republic of Korea ' ' Russian Federation ' ' Australia ' ' Spain '\n",
      " ' Mexico ' ' Indonesia ' ' Netherlands ' ' Saudi Arabia ' ' Türkiye '\n",
      " ' Switzerland ' ' Poland ' ' Sweden ' ' Belgium '\n",
      " ' Iran (Islamic Republic of) ' ' Argentina ' ' Thailand ' ' Austria '\n",
      " ' Norway ' ' Nigeria ' ' United Arab Emirates ' ' South Africa '\n",
      " ' Ireland ' ' Singapore ' ' Israel ' ' China, Hong Kong SAR '\n",
      " ' Malaysia ' ' Denmark ' ' Philippines ' ' Colombia ' ' Pakistan '\n",
      " ' Bangladesh ' ' Viet Nam ' ' Chile ' ' Finland ' ' Egypt ' ' Czechia '\n",
      " ' Romania ' ' Portugal ' ' Iraq ' ' Peru ' ' New Zealand ' ' Greece '\n",
      " ' Venezuela (Bolivarian Republic of) ' ' Qatar ' ' Kazakhstan '\n",
      " ' Algeria ' ' Hungary ' ' Kuwait ' ' Ukraine ' ' Morocco ' ' Ecuador '\n",
      " ' Slovakia ' ' Puerto Rico ' ' Angola ' ' Cuba ' ' Kenya ' ' Oman '\n",
      " ' Sri Lanka ' ' Dominican Republic ' ' Ethiopia ' ' Libya ' ' Myanmar '\n",
      " ' Guatemala ' ' Luxembourg ' ' Ghana ' ' Bulgaria ' ' Panama '\n",
      " ' Uruguay ' ' Costa Rica ' ' Croatia ' ' Belarus ' \" Côte d'Ivoire \"\n",
      " ' U.R. of Tanzania: Mainland ' ' China, Macao SAR ' ' Lebanon '\n",
      " ' Slovenia ' ' Lithuania ' ' Uzbekistan ' ' Serbia ' ' Sudan '\n",
      " ' D.R. of the Congo ' ' Azerbaijan ' ' Jordan ' ' Tunisia '\n",
      " ' Turkmenistan ' ' Bolivia (Plurinational State of) ' ' Paraguay '\n",
      " ' Cameroon ' ' Bahrain ' ' Latvia ' ' Uganda ' ' Nepal ' ' Estonia '\n",
      " ' Yemen ' ' Zambia ' ' Iceland ' ' El Salvador ' ' Cyprus ' ' Cambodia '\n",
      " ' Trinidad and Tobago ' ' Papua New Guinea ' ' Honduras ' ' Zimbabwe '\n",
      " ' Senegal ' ' Syrian Arab Republic ' ' Bosnia and Herzegovina '\n",
      " ' Afghanistan ' \" Lao People's DR \" ' Georgia ' ' D.P.R. of Korea '\n",
      " ' Mali ' ' Botswana ' ' Gabon ' ' State of Palestine ' ' Burkina Faso '\n",
      " ' Jamaica ' ' Haiti ' ' Chad ' ' Malta ' ' Albania ' ' Mozambique '\n",
      " ' Mauritius ' ' Benin ' ' Madagascar ' ' Namibia ' ' Congo '\n",
      " ' Brunei Darussalam ' ' Mongolia ' ' Equatorial Guinea ' ' Nicaragua '\n",
      " ' Niger ' ' Bahamas ' ' North Macedonia ' ' Armenia ' ' Guinea '\n",
      " ' Republic of Moldova ' ' New Caledonia ' ' Malawi ' ' Rwanda '\n",
      " ' Kyrgyzstan ' ' Kosovo ' ' Tajikistan ' ' Mauritania ' ' Bermuda '\n",
      " ' Monaco ' ' Togo ' ' Liechtenstein ' ' French Polynesia ' ' Somalia '\n",
      " ' Fiji ' ' Cayman Islands ' ' Montenegro ' ' Maldives ' ' Barbados '\n",
      " ' Guyana ' ' Eswatini ' ' Sierra Leone ' ' South Sudan ' ' Suriname '\n",
      " ' Burundi ' ' Andorra ' ' Aruba ' ' Greenland ' ' Curaçao ' ' Djibouti '\n",
      " ' Liberia ' ' Lesotho ' ' Bhutan ' ' Belize '\n",
      " ' Central African Republic ' ' Saint Lucia ' ' Eritrea ' ' Cabo Verde '\n",
      " ' Gambia ' ' San Marino ' ' Zanzibar ' ' Solomon Islands '\n",
      " ' Antigua and Barbuda ' ' Seychelles ' ' Timor-Leste ' ' Guinea-Bissau '\n",
      " ' British Virgin Islands ' ' Sint Maarten (Dutch part) ' ' Comoros '\n",
      " ' Grenada ' ' Turks and Caicos Islands ' ' Saint Kitts and Nevis '\n",
      " ' Vanuatu ' ' Samoa ' ' St. Vincent and the Grenadines ' ' Dominica '\n",
      " ' Tonga ' ' Sao Tome and Principe ' ' Micronesia (FS of) '\n",
      " ' Cook Islands ' ' Anguilla ' ' Palau ' ' Marshall Islands ' ' Kiribati '\n",
      " ' Nauru ' ' Montserrat ' ' Tuvalu ']\n"
     ]
    }
   ],
   "source": [
    "print(economyDf_2018_ordened['Country'].unique())"
   ]
  },
  {
   "cell_type": "code",
   "execution_count": 196,
   "metadata": {},
   "outputs": [
    {
     "name": "stdout",
     "output_type": "stream",
     "text": [
      "['United States' 'China' 'Saudi Arabia' 'India' 'France'\n",
      " 'Russian Federation' 'United Kingdom' 'Germany' 'Japan' 'South Korea'\n",
      " 'Italy' 'Brazil' 'Australia' 'Canada' 'Turkey' 'Spain' 'Israel' 'Iran'\n",
      " 'Poland' 'Pakistan' 'Netherlands' 'Singapore' 'Colombia' 'Mongolia'\n",
      " 'Algeria' 'Serbia' 'Benin' 'Croatia' 'Eswatini' 'Tunisia' 'Montenegro'\n",
      " 'Nicaragua' 'Haiti' 'Indonesia' 'Madagascar' 'Kuwait' 'Belarus' 'Norway'\n",
      " 'Malta' 'Thailand' 'Latvia' 'Tanzania' 'Oman' 'Mexico' 'Burundi' 'Kosovo'\n",
      " 'Iraq' 'Bolivia' 'Estonia' 'Armenia' \"Cote d'Ivoire\" 'Papua New Guinea'\n",
      " 'Malawi' 'Sweden' 'Chile' 'Vietnam' 'Cambodia' 'Slovenia' 'Greece'\n",
      " 'Lesotho' 'Ethiopia' 'Belgium' 'Fiji' 'Switzerland' 'Ukraine' 'Romania'\n",
      " 'Namibia' 'Cameroon' 'Portugal' 'Denmark' 'Luxembourg' 'Argentina'\n",
      " 'Honduras' 'Uganda' 'Nepal' 'Bangladesh' 'Paraguay' 'Finland' 'Cyprus'\n",
      " 'Philippines' 'Morocco' 'South Africa' 'Malaysia' 'Senegal' 'Austria'\n",
      " 'Georgia' 'Egypt' 'Central African Republic' 'Congo, Dem. Rep.'\n",
      " 'Congo, Rep.' 'Guatemala' 'Lebanon' 'Czech Republic' 'Peru' 'Gabon'\n",
      " 'Ecuador' 'Chad' 'Mauritius' 'Niger' 'Seychelles' 'New Zealand'\n",
      " 'Bosnia and Herzegovina' 'Ghana' 'Guinea' 'Jamaica' 'Nigeria' 'Myanmar'\n",
      " 'Angola' 'Afghanistan' 'Jordan' 'Albania' 'Azerbaijan'\n",
      " 'Trinidad and Tobago' 'Sri Lanka' 'Hungary' 'Kazakhstan' 'Mozambique'\n",
      " 'Bahrain' 'Slovak Republic' 'Kyrgyz Republic' 'Ireland' 'North Macedonia'\n",
      " 'Uruguay' 'Gambia' 'Kenya' 'Bulgaria' 'Cabo Verde' 'Sudan' 'Togo'\n",
      " 'Lithuania' 'Dominican Republic' 'Guyana' 'South Sudan' 'Botswana' 'Mali'\n",
      " 'Zimbabwe' 'Zambia' 'Brunei Darussalam' 'Moldova' 'Burkina Faso'\n",
      " 'Sierra Leone' 'El Salvador' 'Belize' 'Mauritania' 'Rwanda' 'Somalia'\n",
      " 'Timor-Leste' 'Liberia' 'Costa Rica' 'Iceland' 'Panama']\n"
     ]
    }
   ],
   "source": [
    "print(militaryDf_2018_ordened['Name'].unique())"
   ]
  },
  {
   "cell_type": "code",
   "execution_count": 190,
   "metadata": {},
   "outputs": [],
   "source": [
    "df_merged = pd.merge(economyDf_2018_ordened, militaryDf_2018_ordened, left_on='Country', right_on='Name', how='inner')"
   ]
  },
  {
   "cell_type": "code",
   "execution_count": 191,
   "metadata": {},
   "outputs": [
    {
     "name": "stdout",
     "output_type": "stream",
     "text": [
      "Empty DataFrame\n",
      "Columns: [Country, Gross Domestic Product (GDP), Name, Valor]\n",
      "Index: []\n"
     ]
    }
   ],
   "source": [
    "print(df_merged)"
   ]
  },
  {
   "cell_type": "code",
   "execution_count": 184,
   "metadata": {},
   "outputs": [
    {
     "name": "stdout",
     "output_type": "stream",
     "text": [
      "[0.31587057010785824, 0.556, 74.60624481864265, 59.69001267688791, 45.14129465533982, 45.44895727644858]\n"
     ]
    }
   ],
   "source": [
    "resposta = []\n",
    "def resposta1():\n",
    "    for i in range(6):\n",
    "        resposta.append(economyDf_2018_ordened[\"Gross Domestic Product (GDP)\"].astype(\"Int64\").iloc[i]/militaryDf_2018_ordened[\"Valor\"].astype(\"Int64\").iloc[i])\n",
    "resposta1()\n",
    "print(resposta)"
   ]
  },
  {
   "cell_type": "code",
   "execution_count": 171,
   "metadata": {},
   "outputs": [],
   "source": [
    "economyDf_2018_2 = economyDf_2018"
   ]
  },
  {
   "cell_type": "code",
   "execution_count": 162,
   "metadata": {},
   "outputs": [
    {
     "data": {
      "text/plain": [
       "18418848300"
      ]
     },
     "execution_count": 162,
     "metadata": {},
     "output_type": "execute_result"
    }
   ],
   "source": [
    "economyDf_2018_2[\"Gross Domestic Product (GDP)\"].astype(\"Int64\").iloc[0]"
   ]
  },
  {
   "cell_type": "code",
   "execution_count": null,
   "metadata": {},
   "outputs": [],
   "source": []
  },
  {
   "cell_type": "code",
   "execution_count": 7,
   "metadata": {},
   "outputs": [
    {
     "data": {
      "text/html": [
       "<div>\n",
       "<style scoped>\n",
       "    .dataframe tbody tr th:only-of-type {\n",
       "        vertical-align: middle;\n",
       "    }\n",
       "\n",
       "    .dataframe tbody tr th {\n",
       "        vertical-align: top;\n",
       "    }\n",
       "\n",
       "    .dataframe thead th {\n",
       "        text-align: right;\n",
       "    }\n",
       "</style>\n",
       "<table border=\"1\" class=\"dataframe\">\n",
       "  <thead>\n",
       "    <tr style=\"text-align: right;\">\n",
       "      <th></th>\n",
       "      <th>Name</th>\n",
       "      <th>Code</th>\n",
       "      <th>Type</th>\n",
       "      <th>Indicator Name</th>\n",
       "      <th>year</th>\n",
       "      <th>Valor</th>\n",
       "    </tr>\n",
       "  </thead>\n",
       "  <tbody>\n",
       "    <tr>\n",
       "      <th>0</th>\n",
       "      <td>World</td>\n",
       "      <td>WLD</td>\n",
       "      <td>Regions Clubbed Geographically</td>\n",
       "      <td>Military expenditure (current USD)</td>\n",
       "      <td>2018</td>\n",
       "      <td>178000000000000</td>\n",
       "    </tr>\n",
       "    <tr>\n",
       "      <th>1</th>\n",
       "      <td>World</td>\n",
       "      <td>WLD</td>\n",
       "      <td>Regions Clubbed Geographically</td>\n",
       "      <td>Military expenditure (current USD)</td>\n",
       "      <td>2012</td>\n",
       "      <td>174000000000000</td>\n",
       "    </tr>\n",
       "    <tr>\n",
       "      <th>2</th>\n",
       "      <td>World</td>\n",
       "      <td>WLD</td>\n",
       "      <td>Regions Clubbed Geographically</td>\n",
       "      <td>Military expenditure (current USD)</td>\n",
       "      <td>2013</td>\n",
       "      <td>174000000000000</td>\n",
       "    </tr>\n",
       "    <tr>\n",
       "      <th>3</th>\n",
       "      <td>World</td>\n",
       "      <td>WLD</td>\n",
       "      <td>Regions Clubbed Geographically</td>\n",
       "      <td>Military expenditure (current USD)</td>\n",
       "      <td>2014</td>\n",
       "      <td>174000000000000</td>\n",
       "    </tr>\n",
       "    <tr>\n",
       "      <th>4</th>\n",
       "      <td>World</td>\n",
       "      <td>WLD</td>\n",
       "      <td>Regions Clubbed Geographically</td>\n",
       "      <td>Military expenditure (current USD)</td>\n",
       "      <td>2011</td>\n",
       "      <td>173000000000000</td>\n",
       "    </tr>\n",
       "  </tbody>\n",
       "</table>\n",
       "</div>"
      ],
      "text/plain": [
       "    Name Code                            Type  \\\n",
       "0  World  WLD  Regions Clubbed Geographically   \n",
       "1  World  WLD  Regions Clubbed Geographically   \n",
       "2  World  WLD  Regions Clubbed Geographically   \n",
       "3  World  WLD  Regions Clubbed Geographically   \n",
       "4  World  WLD  Regions Clubbed Geographically   \n",
       "\n",
       "                       Indicator Name  year            Valor  \n",
       "0  Military expenditure (current USD)  2018  178000000000000  \n",
       "1  Military expenditure (current USD)  2012  174000000000000  \n",
       "2  Military expenditure (current USD)  2013  174000000000000  \n",
       "3  Military expenditure (current USD)  2014  174000000000000  \n",
       "4  Military expenditure (current USD)  2011  173000000000000  "
      ]
     },
     "execution_count": 7,
     "metadata": {},
     "output_type": "execute_result"
    }
   ],
   "source": [
    "militaryDf.head()"
   ]
  },
  {
   "cell_type": "code",
   "execution_count": 8,
   "metadata": {},
   "outputs": [
    {
     "data": {
      "text/html": [
       "<div>\n",
       "<style scoped>\n",
       "    .dataframe tbody tr th:only-of-type {\n",
       "        vertical-align: middle;\n",
       "    }\n",
       "\n",
       "    .dataframe tbody tr th {\n",
       "        vertical-align: top;\n",
       "    }\n",
       "\n",
       "    .dataframe thead th {\n",
       "        text-align: right;\n",
       "    }\n",
       "</style>\n",
       "<table border=\"1\" class=\"dataframe\">\n",
       "  <thead>\n",
       "    <tr style=\"text-align: right;\">\n",
       "      <th></th>\n",
       "      <th>Name</th>\n",
       "      <th>Code</th>\n",
       "      <th>Type</th>\n",
       "      <th>Indicator Name</th>\n",
       "      <th>year</th>\n",
       "      <th>Valor</th>\n",
       "    </tr>\n",
       "  </thead>\n",
       "  <tbody>\n",
       "    <tr>\n",
       "      <th>0</th>\n",
       "      <td>OECD members</td>\n",
       "      <td>OED</td>\n",
       "      <td>Regions Clubbed Economically</td>\n",
       "      <td>Military expenditure (current USD)</td>\n",
       "      <td>1960</td>\n",
       "      <td>67776988377</td>\n",
       "    </tr>\n",
       "    <tr>\n",
       "      <th>1</th>\n",
       "      <td>High income</td>\n",
       "      <td>HIC</td>\n",
       "      <td>Regions Clubbed Economically</td>\n",
       "      <td>Military expenditure (current USD)</td>\n",
       "      <td>1960</td>\n",
       "      <td>67365066350</td>\n",
       "    </tr>\n",
       "    <tr>\n",
       "      <th>2</th>\n",
       "      <td>Post-demographic dividend</td>\n",
       "      <td>PST</td>\n",
       "      <td>Regions Clubbed Economically</td>\n",
       "      <td>Military expenditure (current USD)</td>\n",
       "      <td>1960</td>\n",
       "      <td>63331308050</td>\n",
       "    </tr>\n",
       "    <tr>\n",
       "      <th>3</th>\n",
       "      <td>OECD members</td>\n",
       "      <td>OED</td>\n",
       "      <td>Regions Clubbed Economically</td>\n",
       "      <td>Military expenditure (current USD)</td>\n",
       "      <td>1961</td>\n",
       "      <td>71614957875</td>\n",
       "    </tr>\n",
       "    <tr>\n",
       "      <th>4</th>\n",
       "      <td>High income</td>\n",
       "      <td>HIC</td>\n",
       "      <td>Regions Clubbed Economically</td>\n",
       "      <td>Military expenditure (current USD)</td>\n",
       "      <td>1961</td>\n",
       "      <td>71298783053</td>\n",
       "    </tr>\n",
       "    <tr>\n",
       "      <th>...</th>\n",
       "      <td>...</td>\n",
       "      <td>...</td>\n",
       "      <td>...</td>\n",
       "      <td>...</td>\n",
       "      <td>...</td>\n",
       "      <td>...</td>\n",
       "    </tr>\n",
       "    <tr>\n",
       "      <th>172</th>\n",
       "      <td>High income</td>\n",
       "      <td>HIC</td>\n",
       "      <td>Regions Clubbed Economically</td>\n",
       "      <td>Military expenditure (current USD)</td>\n",
       "      <td>2017</td>\n",
       "      <td>113000000000000</td>\n",
       "    </tr>\n",
       "    <tr>\n",
       "      <th>173</th>\n",
       "      <td>OECD members</td>\n",
       "      <td>OED</td>\n",
       "      <td>Regions Clubbed Economically</td>\n",
       "      <td>Military expenditure (current USD)</td>\n",
       "      <td>2017</td>\n",
       "      <td>105000000000000</td>\n",
       "    </tr>\n",
       "    <tr>\n",
       "      <th>174</th>\n",
       "      <td>World</td>\n",
       "      <td>WLD</td>\n",
       "      <td>Regions Clubbed Geographically</td>\n",
       "      <td>Military expenditure (current USD)</td>\n",
       "      <td>2018</td>\n",
       "      <td>178000000000000</td>\n",
       "    </tr>\n",
       "    <tr>\n",
       "      <th>175</th>\n",
       "      <td>High income</td>\n",
       "      <td>HIC</td>\n",
       "      <td>Regions Clubbed Economically</td>\n",
       "      <td>Military expenditure (current USD)</td>\n",
       "      <td>2018</td>\n",
       "      <td>120000000000000</td>\n",
       "    </tr>\n",
       "    <tr>\n",
       "      <th>176</th>\n",
       "      <td>OECD members</td>\n",
       "      <td>OED</td>\n",
       "      <td>Regions Clubbed Economically</td>\n",
       "      <td>Military expenditure (current USD)</td>\n",
       "      <td>2018</td>\n",
       "      <td>112000000000000</td>\n",
       "    </tr>\n",
       "  </tbody>\n",
       "</table>\n",
       "<p>177 rows × 6 columns</p>\n",
       "</div>"
      ],
      "text/plain": [
       "                          Name Code                            Type  \\\n",
       "0                 OECD members  OED    Regions Clubbed Economically   \n",
       "1                  High income  HIC    Regions Clubbed Economically   \n",
       "2    Post-demographic dividend  PST    Regions Clubbed Economically   \n",
       "3                 OECD members  OED    Regions Clubbed Economically   \n",
       "4                  High income  HIC    Regions Clubbed Economically   \n",
       "..                         ...  ...                             ...   \n",
       "172                High income  HIC    Regions Clubbed Economically   \n",
       "173               OECD members  OED    Regions Clubbed Economically   \n",
       "174                      World  WLD  Regions Clubbed Geographically   \n",
       "175                High income  HIC    Regions Clubbed Economically   \n",
       "176               OECD members  OED    Regions Clubbed Economically   \n",
       "\n",
       "                         Indicator Name  year            Valor  \n",
       "0    Military expenditure (current USD)  1960      67776988377  \n",
       "1    Military expenditure (current USD)  1960      67365066350  \n",
       "2    Military expenditure (current USD)  1960      63331308050  \n",
       "3    Military expenditure (current USD)  1961      71614957875  \n",
       "4    Military expenditure (current USD)  1961      71298783053  \n",
       "..                                  ...   ...              ...  \n",
       "172  Military expenditure (current USD)  2017  113000000000000  \n",
       "173  Military expenditure (current USD)  2017  105000000000000  \n",
       "174  Military expenditure (current USD)  2018  178000000000000  \n",
       "175  Military expenditure (current USD)  2018  120000000000000  \n",
       "176  Military expenditure (current USD)  2018  112000000000000  \n",
       "\n",
       "[177 rows x 6 columns]"
      ]
     },
     "execution_count": 8,
     "metadata": {},
     "output_type": "execute_result"
    }
   ],
   "source": [
    "militaryDf.groupby('year').apply(lambda x: x.nlargest(3, 'Valor')).reset_index(drop=True)"
   ]
  },
  {
   "cell_type": "code",
   "execution_count": 23,
   "metadata": {},
   "outputs": [],
   "source": [
    "economyDf[\"PIB\"] = economyDf[\"Gross National Income(GNI) in USD\"]"
   ]
  },
  {
   "cell_type": "code",
   "execution_count": 24,
   "metadata": {},
   "outputs": [],
   "source": [
    "df_PIB = economyDf.groupby(\"Country\").agg({\"PIB\": \"sum\"})"
   ]
  },
  {
   "cell_type": "code",
   "execution_count": 25,
   "metadata": {},
   "outputs": [
    {
     "name": "stdout",
     "output_type": "stream",
     "text": [
      "                                      PIB\n",
      "Country                                  \n",
      " Afghanistan                 3.711837e+11\n",
      " Albania                     3.130572e+11\n",
      " Algeria                     4.203175e+12\n",
      " Andorra                     8.942919e+10\n",
      " Angola                      1.726338e+12\n",
      "...                                   ...\n",
      " Yemen Democratic (Former)   7.408355e+09\n",
      " Yugoslavia (Former)         1.234778e+12\n",
      " Zambia                      4.391854e+11\n",
      " Zanzibar                    2.278377e+10\n",
      " Zimbabwe                    5.472858e+11\n",
      "\n",
      "[220 rows x 1 columns]\n"
     ]
    }
   ],
   "source": [
    "#pega o PIB de cada pais\n",
    "print(df_PIB)"
   ]
  },
  {
   "cell_type": "code",
   "execution_count": 43,
   "metadata": {},
   "outputs": [
    {
     "data": {
      "text/html": [
       "<div>\n",
       "<style scoped>\n",
       "    .dataframe tbody tr th:only-of-type {\n",
       "        vertical-align: middle;\n",
       "    }\n",
       "\n",
       "    .dataframe tbody tr th {\n",
       "        vertical-align: top;\n",
       "    }\n",
       "\n",
       "    .dataframe thead th {\n",
       "        text-align: right;\n",
       "    }\n",
       "</style>\n",
       "<table border=\"1\" class=\"dataframe\">\n",
       "  <thead>\n",
       "    <tr style=\"text-align: right;\">\n",
       "      <th></th>\n",
       "      <th>PIB</th>\n",
       "    </tr>\n",
       "    <tr>\n",
       "      <th>Country</th>\n",
       "      <th></th>\n",
       "    </tr>\n",
       "  </thead>\n",
       "  <tbody>\n",
       "    <tr>\n",
       "      <th>Afghanistan</th>\n",
       "      <td>3.711837e+11</td>\n",
       "    </tr>\n",
       "    <tr>\n",
       "      <th>Albania</th>\n",
       "      <td>3.130572e+11</td>\n",
       "    </tr>\n",
       "    <tr>\n",
       "      <th>Algeria</th>\n",
       "      <td>4.203175e+12</td>\n",
       "    </tr>\n",
       "    <tr>\n",
       "      <th>Andorra</th>\n",
       "      <td>8.942919e+10</td>\n",
       "    </tr>\n",
       "    <tr>\n",
       "      <th>Angola</th>\n",
       "      <td>1.726338e+12</td>\n",
       "    </tr>\n",
       "    <tr>\n",
       "      <th>...</th>\n",
       "      <td>...</td>\n",
       "    </tr>\n",
       "    <tr>\n",
       "      <th>Yemen Democratic (Former)</th>\n",
       "      <td>7.408355e+09</td>\n",
       "    </tr>\n",
       "    <tr>\n",
       "      <th>Yugoslavia (Former)</th>\n",
       "      <td>1.234778e+12</td>\n",
       "    </tr>\n",
       "    <tr>\n",
       "      <th>Zambia</th>\n",
       "      <td>4.391854e+11</td>\n",
       "    </tr>\n",
       "    <tr>\n",
       "      <th>Zanzibar</th>\n",
       "      <td>2.278377e+10</td>\n",
       "    </tr>\n",
       "    <tr>\n",
       "      <th>Zimbabwe</th>\n",
       "      <td>5.472858e+11</td>\n",
       "    </tr>\n",
       "  </tbody>\n",
       "</table>\n",
       "<p>220 rows × 1 columns</p>\n",
       "</div>"
      ],
      "text/plain": [
       "                                      PIB\n",
       "Country                                  \n",
       " Afghanistan                 3.711837e+11\n",
       " Albania                     3.130572e+11\n",
       " Algeria                     4.203175e+12\n",
       " Andorra                     8.942919e+10\n",
       " Angola                      1.726338e+12\n",
       "...                                   ...\n",
       " Yemen Democratic (Former)   7.408355e+09\n",
       " Yugoslavia (Former)         1.234778e+12\n",
       " Zambia                      4.391854e+11\n",
       " Zanzibar                    2.278377e+10\n",
       " Zimbabwe                    5.472858e+11\n",
       "\n",
       "[220 rows x 1 columns]"
      ]
     },
     "execution_count": 43,
     "metadata": {},
     "output_type": "execute_result"
    }
   ],
   "source": [
    "economyDf.groupby(\"Country\").agg({\"PIB\": \"sum\"})"
   ]
  },
  {
   "cell_type": "code",
   "execution_count": 55,
   "metadata": {},
   "outputs": [],
   "source": [
    "#Quanto cada pais gastou em 2018 em militar.\n",
    "militaryDf[(militaryDf[\"Type\"] == \"Country\") & (militaryDf[\"year\"] == 2018)][[\"Name\", \"Valor\"]]\n",
    "military_2018_expand = militaryDf[(militaryDf[\"Type\"] == \"Country\") & (militaryDf[\"year\"] == 2018)][[\"Name\", \"Valor\"]]"
   ]
  },
  {
   "cell_type": "code",
   "execution_count": 56,
   "metadata": {},
   "outputs": [],
   "source": [
    "#O PIB (ou GDP) de cada pais em 2018\n",
    "economyDf[economyDf[\"Year\"] == 2018][[\"Country\", \"Gross Domestic Product (GDP)\"]]\n",
    "economy_2018_GDP = economyDf[economyDf[\"Year\"] == 2018][[\"Country\", \"Gross Domestic Product (GDP)\"]]"
   ]
  },
  {
   "cell_type": "code",
   "execution_count": 76,
   "metadata": {},
   "outputs": [],
   "source": [
    "#formata o numero para poder-se fazer o calculo\n",
    "#def formatar_numero(numero):\n",
    "#    return '{:.0f}'.format(numero)\n",
    "#economy_2018_GDP[\"Gross Domestic Product (GDP)\"] = economy_2018_GDP[\"Gross Domestic Product (GDP)\"].apply(formatar_numero)\n",
    "\n",
    "#a converção transforma os numeros em string, deve-se transformar para int64 agora\n",
    "#economy_2018_GDP[\"Gross Domestic Product (GDP)\"] = economy_2018_GDP[\"Gross Domestic Product (GDP)\"].astype('int64')"
   ]
  },
  {
   "cell_type": "code",
   "execution_count": 82,
   "metadata": {},
   "outputs": [
    {
     "data": {
      "text/html": [
       "<div>\n",
       "<style scoped>\n",
       "    .dataframe tbody tr th:only-of-type {\n",
       "        vertical-align: middle;\n",
       "    }\n",
       "\n",
       "    .dataframe tbody tr th {\n",
       "        vertical-align: top;\n",
       "    }\n",
       "\n",
       "    .dataframe thead th {\n",
       "        text-align: right;\n",
       "    }\n",
       "</style>\n",
       "<table border=\"1\" class=\"dataframe\">\n",
       "  <thead>\n",
       "    <tr style=\"text-align: right;\">\n",
       "      <th></th>\n",
       "      <th>Name</th>\n",
       "      <th>Valor</th>\n",
       "    </tr>\n",
       "  </thead>\n",
       "  <tbody>\n",
       "    <tr>\n",
       "      <th>6643</th>\n",
       "      <td>Afghanistan</td>\n",
       "      <td>1980862633</td>\n",
       "    </tr>\n",
       "    <tr>\n",
       "      <th>6854</th>\n",
       "      <td>Albania</td>\n",
       "      <td>1804887251</td>\n",
       "    </tr>\n",
       "    <tr>\n",
       "      <th>2093</th>\n",
       "      <td>Algeria</td>\n",
       "      <td>9583724288</td>\n",
       "    </tr>\n",
       "    <tr>\n",
       "      <th>6638</th>\n",
       "      <td>Angola</td>\n",
       "      <td>1983613748</td>\n",
       "    </tr>\n",
       "    <tr>\n",
       "      <th>4493</th>\n",
       "      <td>Argentina</td>\n",
       "      <td>4144991771</td>\n",
       "    </tr>\n",
       "    <tr>\n",
       "      <th>...</th>\n",
       "      <td>...</td>\n",
       "      <td>...</td>\n",
       "    </tr>\n",
       "    <tr>\n",
       "      <th>88</th>\n",
       "      <td>United States</td>\n",
       "      <td>64900000000000</td>\n",
       "    </tr>\n",
       "    <tr>\n",
       "      <th>7934</th>\n",
       "      <td>Uruguay</td>\n",
       "      <td>1168130814</td>\n",
       "    </tr>\n",
       "    <tr>\n",
       "      <th>3641</th>\n",
       "      <td>Vietnam</td>\n",
       "      <td>5500000000</td>\n",
       "    </tr>\n",
       "    <tr>\n",
       "      <th>8507</th>\n",
       "      <td>Zambia</td>\n",
       "      <td>378025431</td>\n",
       "    </tr>\n",
       "    <tr>\n",
       "      <th>8475</th>\n",
       "      <td>Zimbabwe</td>\n",
       "      <td>420364000</td>\n",
       "    </tr>\n",
       "  </tbody>\n",
       "</table>\n",
       "<p>151 rows × 2 columns</p>\n",
       "</div>"
      ],
      "text/plain": [
       "               Name           Valor\n",
       "6643    Afghanistan      1980862633\n",
       "6854        Albania      1804887251\n",
       "2093        Algeria      9583724288\n",
       "6638         Angola      1983613748\n",
       "4493      Argentina      4144991771\n",
       "...             ...             ...\n",
       "88    United States  64900000000000\n",
       "7934        Uruguay      1168130814\n",
       "3641        Vietnam      5500000000\n",
       "8507         Zambia       378025431\n",
       "8475       Zimbabwe       420364000\n",
       "\n",
       "[151 rows x 2 columns]"
      ]
     },
     "execution_count": 82,
     "metadata": {},
     "output_type": "execute_result"
    }
   ],
   "source": [
    "military_2018_expand.sort_values(by='Name')"
   ]
  },
  {
   "cell_type": "code",
   "execution_count": 81,
   "metadata": {},
   "outputs": [
    {
     "data": {
      "text/html": [
       "<div>\n",
       "<style scoped>\n",
       "    .dataframe tbody tr th:only-of-type {\n",
       "        vertical-align: middle;\n",
       "    }\n",
       "\n",
       "    .dataframe tbody tr th {\n",
       "        vertical-align: top;\n",
       "    }\n",
       "\n",
       "    .dataframe thead th {\n",
       "        text-align: right;\n",
       "    }\n",
       "</style>\n",
       "<table border=\"1\" class=\"dataframe\">\n",
       "  <thead>\n",
       "    <tr style=\"text-align: right;\">\n",
       "      <th></th>\n",
       "      <th>Country</th>\n",
       "      <th>Gross Domestic Product (GDP)</th>\n",
       "    </tr>\n",
       "  </thead>\n",
       "  <tbody>\n",
       "    <tr>\n",
       "      <th>48</th>\n",
       "      <td>Afghanistan</td>\n",
       "      <td>18418848300</td>\n",
       "    </tr>\n",
       "    <tr>\n",
       "      <th>100</th>\n",
       "      <td>Albania</td>\n",
       "      <td>15156439968</td>\n",
       "    </tr>\n",
       "    <tr>\n",
       "      <th>152</th>\n",
       "      <td>Algeria</td>\n",
       "      <td>175000000000</td>\n",
       "    </tr>\n",
       "    <tr>\n",
       "      <th>204</th>\n",
       "      <td>Andorra</td>\n",
       "      <td>3218419456</td>\n",
       "    </tr>\n",
       "    <tr>\n",
       "      <th>256</th>\n",
       "      <td>Angola</td>\n",
       "      <td>101000000000</td>\n",
       "    </tr>\n",
       "    <tr>\n",
       "      <th>...</th>\n",
       "      <td>...</td>\n",
       "      <td>...</td>\n",
       "    </tr>\n",
       "    <tr>\n",
       "      <th>10277</th>\n",
       "      <td>Uzbekistan</td>\n",
       "      <td>52633143570</td>\n",
       "    </tr>\n",
       "    <tr>\n",
       "      <th>10329</th>\n",
       "      <td>Venezuela (Bolivarian Republic of)</td>\n",
       "      <td>204000000000</td>\n",
       "    </tr>\n",
       "    <tr>\n",
       "      <th>10381</th>\n",
       "      <td>Samoa</td>\n",
       "      <td>894065272</td>\n",
       "    </tr>\n",
       "    <tr>\n",
       "      <th>10435</th>\n",
       "      <td>Yemen</td>\n",
       "      <td>26671579499</td>\n",
       "    </tr>\n",
       "    <tr>\n",
       "      <th>10508</th>\n",
       "      <td>Zambia</td>\n",
       "      <td>26311984736</td>\n",
       "    </tr>\n",
       "  </tbody>\n",
       "</table>\n",
       "<p>212 rows × 2 columns</p>\n",
       "</div>"
      ],
      "text/plain": [
       "                                    Country  Gross Domestic Product (GDP)\n",
       "48                             Afghanistan                    18418848300\n",
       "100                                Albania                    15156439968\n",
       "152                                Algeria                   175000000000\n",
       "204                                Andorra                     3218419456\n",
       "256                                 Angola                   101000000000\n",
       "...                                     ...                           ...\n",
       "10277                           Uzbekistan                    52633143570\n",
       "10329   Venezuela (Bolivarian Republic of)                   204000000000\n",
       "10381                                Samoa                      894065272\n",
       "10435                                Yemen                    26671579499\n",
       "10508                               Zambia                    26311984736\n",
       "\n",
       "[212 rows x 2 columns]"
      ]
     },
     "execution_count": 81,
     "metadata": {},
     "output_type": "execute_result"
    }
   ],
   "source": [
    "economy_2018_GDP"
   ]
  },
  {
   "cell_type": "code",
   "execution_count": 88,
   "metadata": {},
   "outputs": [
    {
     "data": {
      "text/html": [
       "<div>\n",
       "<style scoped>\n",
       "    .dataframe tbody tr th:only-of-type {\n",
       "        vertical-align: middle;\n",
       "    }\n",
       "\n",
       "    .dataframe tbody tr th {\n",
       "        vertical-align: top;\n",
       "    }\n",
       "\n",
       "    .dataframe thead th {\n",
       "        text-align: right;\n",
       "    }\n",
       "</style>\n",
       "<table border=\"1\" class=\"dataframe\">\n",
       "  <thead>\n",
       "    <tr style=\"text-align: right;\">\n",
       "      <th></th>\n",
       "      <th>Country</th>\n",
       "      <th>Gross National Income(GNI) in USD</th>\n",
       "    </tr>\n",
       "  </thead>\n",
       "  <tbody>\n",
       "    <tr>\n",
       "      <th>48</th>\n",
       "      <td>Afghanistan</td>\n",
       "      <td>1.861026e+10</td>\n",
       "    </tr>\n",
       "    <tr>\n",
       "      <th>100</th>\n",
       "      <td>Albania</td>\n",
       "      <td>1.513800e+10</td>\n",
       "    </tr>\n",
       "    <tr>\n",
       "      <th>152</th>\n",
       "      <td>Algeria</td>\n",
       "      <td>1.710000e+11</td>\n",
       "    </tr>\n",
       "    <tr>\n",
       "      <th>204</th>\n",
       "      <td>Andorra</td>\n",
       "      <td>3.218419e+09</td>\n",
       "    </tr>\n",
       "    <tr>\n",
       "      <th>256</th>\n",
       "      <td>Angola</td>\n",
       "      <td>9.307520e+10</td>\n",
       "    </tr>\n",
       "    <tr>\n",
       "      <th>...</th>\n",
       "      <td>...</td>\n",
       "      <td>...</td>\n",
       "    </tr>\n",
       "    <tr>\n",
       "      <th>10277</th>\n",
       "      <td>Uzbekistan</td>\n",
       "      <td>5.413970e+10</td>\n",
       "    </tr>\n",
       "    <tr>\n",
       "      <th>10329</th>\n",
       "      <td>Venezuela (Bolivarian Republic of)</td>\n",
       "      <td>1.730000e+11</td>\n",
       "    </tr>\n",
       "    <tr>\n",
       "      <th>10381</th>\n",
       "      <td>Samoa</td>\n",
       "      <td>8.575964e+08</td>\n",
       "    </tr>\n",
       "    <tr>\n",
       "      <th>10435</th>\n",
       "      <td>Yemen</td>\n",
       "      <td>2.658183e+10</td>\n",
       "    </tr>\n",
       "    <tr>\n",
       "      <th>10508</th>\n",
       "      <td>Zambia</td>\n",
       "      <td>2.588455e+10</td>\n",
       "    </tr>\n",
       "  </tbody>\n",
       "</table>\n",
       "<p>212 rows × 2 columns</p>\n",
       "</div>"
      ],
      "text/plain": [
       "                                    Country  Gross National Income(GNI) in USD\n",
       "48                             Afghanistan                        1.861026e+10\n",
       "100                                Albania                        1.513800e+10\n",
       "152                                Algeria                        1.710000e+11\n",
       "204                                Andorra                        3.218419e+09\n",
       "256                                 Angola                        9.307520e+10\n",
       "...                                     ...                                ...\n",
       "10277                           Uzbekistan                        5.413970e+10\n",
       "10329   Venezuela (Bolivarian Republic of)                        1.730000e+11\n",
       "10381                                Samoa                        8.575964e+08\n",
       "10435                                Yemen                        2.658183e+10\n",
       "10508                               Zambia                        2.588455e+10\n",
       "\n",
       "[212 rows x 2 columns]"
      ]
     },
     "execution_count": 88,
     "metadata": {},
     "output_type": "execute_result"
    }
   ],
   "source": [
    "economyDf2[economyDf2[\"Year\"] == 2018][[\"Country\",\"Gross National Income(GNI) in USD\"]]"
   ]
  },
  {
   "cell_type": "code",
   "execution_count": null,
   "metadata": {},
   "outputs": [],
   "source": []
  },
  {
   "cell_type": "code",
   "execution_count": null,
   "metadata": {},
   "outputs": [],
   "source": []
  },
  {
   "cell_type": "code",
   "execution_count": null,
   "metadata": {},
   "outputs": [],
   "source": []
  }
 ],
 "metadata": {
  "kernelspec": {
   "display_name": "Python 3 (ipykernel)",
   "language": "python",
   "name": "python3"
  },
  "language_info": {
   "codemirror_mode": {
    "name": "ipython",
    "version": 3
   },
   "file_extension": ".py",
   "mimetype": "text/x-python",
   "name": "python",
   "nbconvert_exporter": "python",
   "pygments_lexer": "ipython3",
   "version": "3.10.10"
  }
 },
 "nbformat": 4,
 "nbformat_minor": 4
}
