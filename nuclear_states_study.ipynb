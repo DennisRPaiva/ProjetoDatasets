{
 "cells": [
  {
   "cell_type": "markdown",
   "id": "1721762f-fd34-4d1d-93a4-826fc685408e",
   "metadata": {},
   "source": [
    "# Nuclear States Study\n",
    "By Ricardo Rocha"
   ]
  },
  {
   "cell_type": "code",
   "execution_count": 1,
   "id": "d1f6a992-50a0-49a5-96bf-93e42ce74542",
   "metadata": {},
   "outputs": [],
   "source": [
    "import pandas as pd\n",
    "import numpy as np\n",
    "import matplotlib.pyplot as plt\n",
    "import seaborn as sns"
   ]
  },
  {
   "cell_type": "code",
   "execution_count": 2,
   "id": "02dee4ec-303d-4d58-aff9-27e61673e024",
   "metadata": {},
   "outputs": [
    {
     "data": {
      "text/html": [
       "<div>\n",
       "<style scoped>\n",
       "    .dataframe tbody tr th:only-of-type {\n",
       "        vertical-align: middle;\n",
       "    }\n",
       "\n",
       "    .dataframe tbody tr th {\n",
       "        vertical-align: top;\n",
       "    }\n",
       "\n",
       "    .dataframe thead th {\n",
       "        text-align: right;\n",
       "    }\n",
       "</style>\n",
       "<table border=\"1\" class=\"dataframe\">\n",
       "  <thead>\n",
       "    <tr style=\"text-align: right;\">\n",
       "      <th></th>\n",
       "      <th>Date</th>\n",
       "      <th>Headline</th>\n",
       "      <th>Conflict Type</th>\n",
       "      <th>Country</th>\n",
       "      <th>Region</th>\n",
       "      <th>Description</th>\n",
       "      <th>Sources</th>\n",
       "    </tr>\n",
       "  </thead>\n",
       "  <tbody>\n",
       "    <tr>\n",
       "      <th>922</th>\n",
       "      <td>2019</td>\n",
       "      <td>One Israeli killed and two others injured at a...</td>\n",
       "      <td>Trigger</td>\n",
       "      <td>Palestine</td>\n",
       "      <td>Western Asia</td>\n",
       "      <td>A homemade bomb explodes at a spring, killing ...</td>\n",
       "      <td>Chronicle News Service 2019</td>\n",
       "    </tr>\n",
       "    <tr>\n",
       "      <th>923</th>\n",
       "      <td>2019</td>\n",
       "      <td>50,000 people flee their homes in central Mali...</td>\n",
       "      <td>Trigger</td>\n",
       "      <td>Mali</td>\n",
       "      <td>Sub-Saharan Africa</td>\n",
       "      <td>A series of massacres in central Mali, fueled ...</td>\n",
       "      <td>Webb 2019</td>\n",
       "    </tr>\n",
       "    <tr>\n",
       "      <th>924</th>\n",
       "      <td>2019</td>\n",
       "      <td>Violence in northwest Syria damages civilian i...</td>\n",
       "      <td>Casualty</td>\n",
       "      <td>Syria</td>\n",
       "      <td>Western Asia</td>\n",
       "      <td>From January through July 2019 violence in nor...</td>\n",
       "      <td>US Agency for International Development 2019</td>\n",
       "    </tr>\n",
       "    <tr>\n",
       "      <th>925</th>\n",
       "      <td>2019</td>\n",
       "      <td>Shrapnel damages a water pipeline, leaving mor...</td>\n",
       "      <td>Casualty</td>\n",
       "      <td>Ukraine</td>\n",
       "      <td>Eastern Europe</td>\n",
       "      <td>Shrapnel from an exploding shells damages a pi...</td>\n",
       "      <td>UNICEF 2019</td>\n",
       "    </tr>\n",
       "    <tr>\n",
       "      <th>926</th>\n",
       "      <td>2022</td>\n",
       "      <td>Conflict in Ukraine</td>\n",
       "      <td>Weapon</td>\n",
       "      <td>Keiv,Ukraine</td>\n",
       "      <td>Eastern Europe</td>\n",
       "      <td>The Russo-Ukrainian War is an ongoing war prim...</td>\n",
       "      <td>UNICEF 2020</td>\n",
       "    </tr>\n",
       "  </tbody>\n",
       "</table>\n",
       "</div>"
      ],
      "text/plain": [
       "     Date                                           Headline Conflict Type  \\\n",
       "922  2019  One Israeli killed and two others injured at a...       Trigger   \n",
       "923  2019  50,000 people flee their homes in central Mali...       Trigger   \n",
       "924  2019  Violence in northwest Syria damages civilian i...      Casualty   \n",
       "925  2019  Shrapnel damages a water pipeline, leaving mor...      Casualty   \n",
       "926  2022                                Conflict in Ukraine        Weapon   \n",
       "\n",
       "          Country              Region  \\\n",
       "922     Palestine        Western Asia   \n",
       "923          Mali  Sub-Saharan Africa   \n",
       "924         Syria        Western Asia   \n",
       "925       Ukraine      Eastern Europe   \n",
       "926  Keiv,Ukraine      Eastern Europe   \n",
       "\n",
       "                                           Description  \\\n",
       "922  A homemade bomb explodes at a spring, killing ...   \n",
       "923  A series of massacres in central Mali, fueled ...   \n",
       "924  From January through July 2019 violence in nor...   \n",
       "925  Shrapnel from an exploding shells damages a pi...   \n",
       "926  The Russo-Ukrainian War is an ongoing war prim...   \n",
       "\n",
       "                                          Sources  \n",
       "922                   Chronicle News Service 2019  \n",
       "923                                     Webb 2019  \n",
       "924  US Agency for International Development 2019  \n",
       "925                                   UNICEF 2019  \n",
       "926                                   UNICEF 2020  "
      ]
     },
     "metadata": {},
     "output_type": "display_data"
    },
    {
     "data": {
      "text/html": [
       "<div>\n",
       "<style scoped>\n",
       "    .dataframe tbody tr th:only-of-type {\n",
       "        vertical-align: middle;\n",
       "    }\n",
       "\n",
       "    .dataframe tbody tr th {\n",
       "        vertical-align: top;\n",
       "    }\n",
       "\n",
       "    .dataframe thead th {\n",
       "        text-align: right;\n",
       "    }\n",
       "</style>\n",
       "<table border=\"1\" class=\"dataframe\">\n",
       "  <thead>\n",
       "    <tr style=\"text-align: right;\">\n",
       "      <th></th>\n",
       "      <th>country_name</th>\n",
       "      <th>year</th>\n",
       "      <th>nuclear_weapons_stockpile</th>\n",
       "    </tr>\n",
       "  </thead>\n",
       "  <tbody>\n",
       "    <tr>\n",
       "      <th>775</th>\n",
       "      <td>United States</td>\n",
       "      <td>2018</td>\n",
       "      <td>3785</td>\n",
       "    </tr>\n",
       "    <tr>\n",
       "      <th>776</th>\n",
       "      <td>United States</td>\n",
       "      <td>2019</td>\n",
       "      <td>3805</td>\n",
       "    </tr>\n",
       "    <tr>\n",
       "      <th>777</th>\n",
       "      <td>United States</td>\n",
       "      <td>2020</td>\n",
       "      <td>3750</td>\n",
       "    </tr>\n",
       "    <tr>\n",
       "      <th>778</th>\n",
       "      <td>United States</td>\n",
       "      <td>2021</td>\n",
       "      <td>3708</td>\n",
       "    </tr>\n",
       "    <tr>\n",
       "      <th>779</th>\n",
       "      <td>United States</td>\n",
       "      <td>2022</td>\n",
       "      <td>3708</td>\n",
       "    </tr>\n",
       "  </tbody>\n",
       "</table>\n",
       "</div>"
      ],
      "text/plain": [
       "      country_name  year  nuclear_weapons_stockpile\n",
       "775  United States  2018                       3785\n",
       "776  United States  2019                       3805\n",
       "777  United States  2020                       3750\n",
       "778  United States  2021                       3708\n",
       "779  United States  2022                       3708"
      ]
     },
     "metadata": {},
     "output_type": "display_data"
    }
   ],
   "source": [
    "conflicts = pd.read_csv('conflicts_and_wars_202403110030.csv', delimiter=',')\n",
    "nuclear_stockpiles = pd.read_csv('nuclear_weapon/nuclear_weapons_stockpiles.csv', delimiter=',')\n",
    "display(conflicts.tail(),nuclear_stockpiles.tail())"
   ]
  },
  {
   "cell_type": "markdown",
   "id": "b61b7e4a-3ee1-435d-9525-514cab0db7d2",
   "metadata": {},
   "source": [
    "## Are regions that have historicaly been more violent  more likely to have nuclear powers?"
   ]
  },
  {
   "cell_type": "markdown",
   "id": "09d7e3cf-cb29-404a-ac9e-09e8fe4de849",
   "metadata": {},
   "source": [
    "To understand violence by region, it is necessary for the nuclear_stockpiles DataFrame to have a region indicating what region each country belongs to so it's possible to correlate with the already defined region in the conflicts DataFrame."
   ]
  },
  {
   "cell_type": "code",
   "execution_count": 3,
   "id": "441c7c92-518d-4879-af4e-65807afbafd7",
   "metadata": {},
   "outputs": [
    {
     "data": {
      "text/html": [
       "<div>\n",
       "<style scoped>\n",
       "    .dataframe tbody tr th:only-of-type {\n",
       "        vertical-align: middle;\n",
       "    }\n",
       "\n",
       "    .dataframe tbody tr th {\n",
       "        vertical-align: top;\n",
       "    }\n",
       "\n",
       "    .dataframe thead th {\n",
       "        text-align: right;\n",
       "    }\n",
       "</style>\n",
       "<table border=\"1\" class=\"dataframe\">\n",
       "  <thead>\n",
       "    <tr style=\"text-align: right;\">\n",
       "      <th></th>\n",
       "      <th>country_name</th>\n",
       "      <th>year</th>\n",
       "      <th>nuclear_weapons_stockpile</th>\n",
       "      <th>Region</th>\n",
       "    </tr>\n",
       "  </thead>\n",
       "  <tbody>\n",
       "    <tr>\n",
       "      <th>775</th>\n",
       "      <td>United States</td>\n",
       "      <td>2018</td>\n",
       "      <td>3785</td>\n",
       "      <td>North America</td>\n",
       "    </tr>\n",
       "    <tr>\n",
       "      <th>776</th>\n",
       "      <td>United States</td>\n",
       "      <td>2019</td>\n",
       "      <td>3805</td>\n",
       "      <td>North America</td>\n",
       "    </tr>\n",
       "    <tr>\n",
       "      <th>777</th>\n",
       "      <td>United States</td>\n",
       "      <td>2020</td>\n",
       "      <td>3750</td>\n",
       "      <td>North America</td>\n",
       "    </tr>\n",
       "    <tr>\n",
       "      <th>778</th>\n",
       "      <td>United States</td>\n",
       "      <td>2021</td>\n",
       "      <td>3708</td>\n",
       "      <td>North America</td>\n",
       "    </tr>\n",
       "    <tr>\n",
       "      <th>779</th>\n",
       "      <td>United States</td>\n",
       "      <td>2022</td>\n",
       "      <td>3708</td>\n",
       "      <td>North America</td>\n",
       "    </tr>\n",
       "  </tbody>\n",
       "</table>\n",
       "</div>"
      ],
      "text/plain": [
       "      country_name  year  nuclear_weapons_stockpile         Region\n",
       "775  United States  2018                       3785  North America\n",
       "776  United States  2019                       3805  North America\n",
       "777  United States  2020                       3750  North America\n",
       "778  United States  2021                       3708  North America\n",
       "779  United States  2022                       3708  North America"
      ]
     },
     "execution_count": 3,
     "metadata": {},
     "output_type": "execute_result"
    }
   ],
   "source": [
    "country_to_region = dict(zip(conflicts['Country'], conflicts['Region']))\n",
    "\n",
    "nuclear_stockpiles['Region'] = nuclear_stockpiles['country_name'].map(country_to_region)\n",
    "nuclear_stockpiles.tail()"
   ]
  },
  {
   "cell_type": "markdown",
   "id": "88fbfc0f-9cfe-438a-83a3-99ae84251362",
   "metadata": {},
   "source": [
    "Histogram: X = Violence, Y = number of nuclear states"
   ]
  },
  {
   "cell_type": "code",
   "execution_count": 4,
   "id": "9a914353-9199-4f8d-9849-45c6b23d7223",
   "metadata": {
    "scrolled": true
   },
   "outputs": [
    {
     "data": {
      "text/plain": [
       "Region\n",
       "*Western Asia                                                                                                        1\n",
       "Australia and New Zealand                                                                                            2\n",
       "Central Asia                                                                                                        15\n",
       "Eastern Asia                                                                                                        27\n",
       "Eastern China                                                                                                        1\n",
       "Eastern Europe                                                                                                      28\n",
       "Hundreds of residents and municipal union members protest the lack of free water in their town in South Africa.      1\n",
       "Latin America & the Caribbean                                                                                        2\n",
       "Latin America and the Ca                                                                                            36\n",
       "Latin America and the Caribbean                                                                                     27\n",
       "Melanesia                                                                                                            1\n",
       "North America                                                                                                       53\n",
       "Northern Africa                                                                                                     60\n",
       "Northern Asia                                                                                                        1\n",
       "Northern Europe                                                                                                      3\n",
       "South-eastern Asia                                                                                                   5\n",
       "Southeast Asia                                                                                                      15\n",
       "Southern Asia                                                                                                      124\n",
       "Southern Europe                                                                                                     27\n",
       "Sub-Saharan Africa                                                                                                 174\n",
       "Western Asia                                                                                                       305\n",
       "Western Europe                                                                                                      19\n",
       "Name: Region, dtype: int64"
      ]
     },
     "execution_count": 4,
     "metadata": {},
     "output_type": "execute_result"
    }
   ],
   "source": [
    "violence_region_series = conflicts.groupby('Region')['Region'].count()\n",
    "violence_region_series"
   ]
  },
  {
   "cell_type": "code",
   "execution_count": 5,
   "id": "e000603e-28ba-403d-a096-2360076ec124",
   "metadata": {},
   "outputs": [],
   "source": [
    "nuclear_states_dict = dict(nuclear_stockpiles.groupby('Region')['country_name'].nunique())"
   ]
  },
  {
   "cell_type": "code",
   "execution_count": 6,
   "id": "f370f75b-6c2f-41ed-bd4f-e20262a7abd3",
   "metadata": {},
   "outputs": [],
   "source": [
    "del violence_region_series['*Western Asia']\n",
    "del violence_region_series['Latin America and the Ca']\n",
    "violence_region_series['Latin American and the Caribbean'] = 27+36\n",
    "del nuclear_states_dict['Sub-Saharan Africa']\n",
    "nuclear_states_dict['Western Europe'] = 2\n",
    "nuclear_states_series = pd.Series(nuclear_states_dict)"
   ]
  },
  {
   "cell_type": "code",
   "execution_count": 7,
   "id": "eae344f6-a795-462f-925d-5111017fa57b",
   "metadata": {
    "scrolled": true
   },
   "outputs": [
    {
     "data": {
      "text/plain": [
       "Eastern Asia                                                                                                       2\n",
       "Eastern Europe                                                                                                     1\n",
       "North America                                                                                                      1\n",
       "Southern Asia                                                                                                      2\n",
       "Western Asia                                                                                                       1\n",
       "Western Europe                                                                                                     2\n",
       "Australia and New Zealand                                                                                          0\n",
       "Central Asia                                                                                                       0\n",
       "Eastern China                                                                                                      0\n",
       "Hundreds of residents and municipal union members protest the lack of free water in their town in South Africa.    0\n",
       "Latin America & the Caribbean                                                                                      0\n",
       "Latin America and the Caribbean                                                                                    0\n",
       "Melanesia                                                                                                          0\n",
       "Northern Africa                                                                                                    0\n",
       "Northern Asia                                                                                                      0\n",
       "Northern Europe                                                                                                    0\n",
       "South-eastern Asia                                                                                                 0\n",
       "Southeast Asia                                                                                                     0\n",
       "Sub-Saharan Africa                                                                                                 0\n",
       "Southwest Asia                                                                                                     0\n",
       "dtype: int64"
      ]
     },
     "metadata": {},
     "output_type": "display_data"
    },
    {
     "data": {
      "text/plain": [
       "Region\n",
       "Australia and New Zealand                                                                                            2\n",
       "Central Asia                                                                                                        15\n",
       "Eastern Asia                                                                                                        27\n",
       "Eastern China                                                                                                        1\n",
       "Eastern Europe                                                                                                      28\n",
       "Hundreds of residents and municipal union members protest the lack of free water in their town in South Africa.      1\n",
       "Latin America & the Caribbean                                                                                        2\n",
       "Latin America and the Caribbean                                                                                     27\n",
       "Melanesia                                                                                                            1\n",
       "North America                                                                                                       53\n",
       "Northern Africa                                                                                                     60\n",
       "Northern Asia                                                                                                        1\n",
       "Northern Europe                                                                                                      3\n",
       "South-eastern Asia                                                                                                   5\n",
       "Southeast Asia                                                                                                      15\n",
       "Southern Asia                                                                                                      124\n",
       "Southern Europe                                                                                                     27\n",
       "Sub-Saharan Africa                                                                                                 174\n",
       "Western Asia                                                                                                       305\n",
       "Western Europe                                                                                                      19\n",
       "Latin American and the Caribbean                                                                                    63\n",
       "Name: Region, dtype: int64"
      ]
     },
     "metadata": {},
     "output_type": "display_data"
    }
   ],
   "source": [
    "extra_region_list = ['Australia and New Zealand','Central Asia','Eastern China','Hundreds of residents and municipal union members protest the lack of free water in their town in South Africa.','Latin America & the Caribbean','Latin America and the Caribbean','Melanesia','Northern Africa','Northern Asia','Northern Europe','South-eastern Asia','Southeast Asia','Sub-Saharan Africa','Western Asia','Southwest Asia']\n",
    "for region in extra_region_list:\n",
    "    if region not in nuclear_states_series:\n",
    "        nuclear_states_series[region] = 0\n",
    "display(nuclear_states_series, violence_region_series)"
   ]
  },
  {
   "cell_type": "code",
   "execution_count": 8,
   "id": "89d43116-a63e-46de-833b-194e4e39af71",
   "metadata": {},
   "outputs": [
    {
     "data": {
      "text/plain": [
       "[]"
      ]
     },
     "execution_count": 8,
     "metadata": {},
     "output_type": "execute_result"
    },
    {
     "data": {
      "image/png": "[encoded data removed]",
      "text/plain": [
       "<Figure size 640x480 with 1 Axes>"
      ]
     },
     "metadata": {},
     "output_type": "display_data"
    }
   ],
   "source": [
    "violence_region_list = list(violence_region_series)\n",
    "violence_region_list = list(nuclear_states_series)\n",
    "\n",
    "sns.scatterplot(x=violence_region_series, y=nuclear_states_series)\n",
    "plt.title('Number of nuclear States per amount of conflicts in region')\n",
    "plt.xlabel('Number of conflicts')\n",
    "plt.ylabel('Number of nuclear States')\n",
    "plt.plot()"
   ]
  },
  {
   "cell_type": "markdown",
   "id": "56839487-5728-42d1-8762-f59e43d16d81",
   "metadata": {},
   "source": [
    "Question: Are regions that have historicaly been more violent  more likely to have nuclear powers?\n",
    "Apparent answer: It appears regions with more violence have a slight tendency to develop more nuclear powers. This can possibly be explained by ongoing conflicts some countries in those regions may have. The best example of this is Southern Asia, which have 2 nuclear powers at odds with each other, India and Pakistan. The nuclear development of those nations are intrinsecally connected due to a great sense of animosity between them."
   ]
  },
  {
   "cell_type": "markdown",
   "id": "cebd29f7-f77e-4262-bef8-6706ed1a9f7b",
   "metadata": {},
   "source": [
    "## Are nuclear States more likely to go to war with non-nuclear States?"
   ]
  },
  {
   "cell_type": "code",
   "execution_count": 9,
   "id": "374e8877-01ba-405c-9b95-cd504c91f35a",
   "metadata": {},
   "outputs": [
    {
     "data": {
      "text/plain": [
       "['China',\n",
       " 'France',\n",
       " 'India',\n",
       " 'Israel',\n",
       " 'North Korea',\n",
       " 'Pakistan',\n",
       " 'Russia',\n",
       " 'United Kingdom',\n",
       " 'United States']"
      ]
     },
     "execution_count": 9,
     "metadata": {},
     "output_type": "execute_result"
    }
   ],
   "source": [
    "nuclear_nations = [nation for nation in nuclear_stockpiles.country_name.unique() if 'South Africa' not in nation]\n",
    "nuclear_nations"
   ]
  },
  {
   "cell_type": "code",
   "execution_count": 10,
   "id": "31e385f8-9703-4760-adf5-1ea2c86b20ff",
   "metadata": {
    "scrolled": true
   },
   "outputs": [
    {
     "data": {
      "text/plain": [
       "['China',\n",
       " 'China, Japan',\n",
       " 'India',\n",
       " 'China',\n",
       " 'China',\n",
       " 'United States',\n",
       " 'United States',\n",
       " 'United States',\n",
       " 'United States',\n",
       " 'United States',\n",
       " 'United States',\n",
       " 'United States',\n",
       " 'United States',\n",
       " 'United States',\n",
       " 'United States',\n",
       " 'United States',\n",
       " 'United States',\n",
       " 'United States',\n",
       " 'China, Japan',\n",
       " 'China, Japan',\n",
       " 'France',\n",
       " 'France, Germany',\n",
       " 'India, Pakistan',\n",
       " 'North Korea',\n",
       " 'North Korea',\n",
       " 'Israel, Jordan, Syria',\n",
       " 'North Korea',\n",
       " 'Israel, Jordan, Syria',\n",
       " 'Israel, Syria',\n",
       " 'Israel, Syria',\n",
       " 'Israel, Palestine',\n",
       " 'Israel, Jordan, Syria',\n",
       " 'United States',\n",
       " 'Israel, Jordan',\n",
       " 'United States',\n",
       " 'Israel, Jordan',\n",
       " 'United States',\n",
       " 'China',\n",
       " 'United States',\n",
       " 'United States',\n",
       " 'United States',\n",
       " 'United States',\n",
       " 'United States',\n",
       " 'United States',\n",
       " 'China',\n",
       " 'United States',\n",
       " 'United States',\n",
       " 'United States',\n",
       " 'Israel',\n",
       " 'United States',\n",
       " 'United States',\n",
       " 'United States',\n",
       " 'North Korea, South Korea',\n",
       " 'Pakistan',\n",
       " 'United States',\n",
       " 'Israel',\n",
       " 'China',\n",
       " 'India',\n",
       " 'China',\n",
       " 'China',\n",
       " 'United States',\n",
       " 'Israel',\n",
       " 'China',\n",
       " 'India',\n",
       " 'France',\n",
       " 'France',\n",
       " 'France',\n",
       " 'United States',\n",
       " 'France',\n",
       " 'United States',\n",
       " 'China',\n",
       " 'France',\n",
       " 'United States',\n",
       " 'Israel, Palestine',\n",
       " 'Pakistan',\n",
       " 'China',\n",
       " 'Russia',\n",
       " 'India',\n",
       " 'United States',\n",
       " 'India',\n",
       " 'United States',\n",
       " 'India',\n",
       " 'Pakistan',\n",
       " 'France',\n",
       " 'Russia',\n",
       " 'United States',\n",
       " 'United States',\n",
       " 'India',\n",
       " 'China',\n",
       " 'Pakistan',\n",
       " 'India',\n",
       " 'China',\n",
       " 'China',\n",
       " 'India',\n",
       " 'Pakistan',\n",
       " 'Israel',\n",
       " 'China',\n",
       " 'Israel, Lebanon',\n",
       " 'Pakistan',\n",
       " 'Pakistan',\n",
       " 'Pakistan',\n",
       " 'India',\n",
       " 'India',\n",
       " 'Pakistan',\n",
       " 'Pakistan',\n",
       " 'Israel',\n",
       " 'Pakistan',\n",
       " 'India',\n",
       " 'Pakistan',\n",
       " 'China',\n",
       " 'Pakistan',\n",
       " 'Pakistan',\n",
       " 'India',\n",
       " 'India',\n",
       " 'North Korea, South Korea',\n",
       " 'Pakistan',\n",
       " 'Pakistan',\n",
       " 'Pakistan',\n",
       " 'India',\n",
       " 'India',\n",
       " 'Pakistan',\n",
       " 'Pakistan',\n",
       " 'India',\n",
       " 'Pakistan',\n",
       " 'United States',\n",
       " 'India',\n",
       " 'Pakistan',\n",
       " 'Pakistan',\n",
       " 'India',\n",
       " 'India',\n",
       " 'India, Pakistan',\n",
       " 'China',\n",
       " 'India, Pakistan',\n",
       " 'India',\n",
       " 'Pakistan',\n",
       " 'Pakistan',\n",
       " 'Pakistan',\n",
       " 'Pakistan',\n",
       " 'Pakistan',\n",
       " 'India',\n",
       " 'China',\n",
       " 'India, Pakistan',\n",
       " 'India',\n",
       " 'Pakistan',\n",
       " 'United States',\n",
       " 'India',\n",
       " 'India',\n",
       " 'United States',\n",
       " 'Pakistan',\n",
       " 'India',\n",
       " 'Pakistan',\n",
       " 'India',\n",
       " 'India',\n",
       " 'India',\n",
       " 'India',\n",
       " 'India',\n",
       " 'United States',\n",
       " 'United States',\n",
       " 'India',\n",
       " 'Pakistan',\n",
       " 'India',\n",
       " 'United States',\n",
       " 'India',\n",
       " 'India',\n",
       " 'United States',\n",
       " 'India',\n",
       " 'India',\n",
       " 'India',\n",
       " 'India',\n",
       " 'India',\n",
       " 'United States',\n",
       " 'India',\n",
       " 'India',\n",
       " 'Pakistan']"
      ]
     },
     "execution_count": 10,
     "metadata": {},
     "output_type": "execute_result"
    }
   ],
   "source": [
    "conflicts_with_nuclear_nations = [nation for nation in conflicts.Country if nation.split(', ')[0] in nuclear_nations]\n",
    "conflicts_with_nuclear_nations"
   ]
  },
  {
   "cell_type": "markdown",
   "id": "dd4d6274-74ff-4de6-9753-9acc79c954b7",
   "metadata": {},
   "source": [
    "Question: Are nuclear States more likely to go to war with non-nuclear States?\n",
    "Apparent answer: All wars that involved nuclear nations were with non-nuclear countries, with the only exceptions being conflicts between India and Pakistan. This can be easily understood as nuclear powers since WW2 have adopted a policy of MAD (Mutual Assured Destruction) and have therefore chosen to deescalate to avoid devastation."
   ]
  },
  {
   "cell_type": "markdown",
   "id": "d032bd30-51a8-420d-9653-69bde6aab0f0",
   "metadata": {},
   "source": [
    "## Are countries with nuclear weapons involved in more or less conflicts? "
   ]
  },
  {
   "cell_type": "code",
   "execution_count": 11,
   "id": "03acf7a5-7adc-4ea0-b486-7217cb8f3570",
   "metadata": {},
   "outputs": [
    {
     "data": {
      "text/plain": [
       "Country\n",
       "Afghanistan         21\n",
       "Albania              3\n",
       "Algeria             18\n",
       "Angola               4\n",
       "Angola, Namibia      1\n",
       "                  ... \n",
       "Venezuela            3\n",
       "Vietnam              2\n",
       "Yemen              136\n",
       "Yugoslavia           6\n",
       "Zambia               5\n",
       "Name: Country, Length: 159, dtype: int64"
      ]
     },
     "metadata": {},
     "output_type": "display_data"
    },
    {
     "data": {
      "text/plain": [
       "['China',\n",
       " 'France',\n",
       " 'India',\n",
       " 'Israel',\n",
       " 'North Korea',\n",
       " 'Pakistan',\n",
       " 'Russia',\n",
       " 'United Kingdom',\n",
       " 'United States']"
      ]
     },
     "metadata": {},
     "output_type": "display_data"
    }
   ],
   "source": [
    "violence_country_series = conflicts.groupby('Country')['Country'].count()\n",
    "display(violence_country_series, nuclear_nations)"
   ]
  },
  {
   "cell_type": "code",
   "execution_count": 12,
   "id": "cc4f8e0e-e2d4-4a08-98d1-d9a94d199aad",
   "metadata": {},
   "outputs": [
    {
     "data": {
      "text/plain": [
       "Text(0.5, 1.0, 'Number of conflicts per country')"
      ]
     },
     "execution_count": 12,
     "metadata": {},
     "output_type": "execute_result"
    },
    {
     "data": {
      "image/png": "[encoded data removed]",
      "text/plain": [
       "<Figure size 640x480 with 1 Axes>"
      ]
     },
     "metadata": {},
     "output_type": "display_data"
    }
   ],
   "source": [
    "sns.histplot(data=violence_country_series, stat='count')\n",
    "plt.ylabel('Conflict Count')\n",
    "plt.xlabel('Countries')\n",
    "plt.title('Number of conflicts per country')"
   ]
  },
  {
   "cell_type": "code",
   "execution_count": 13,
   "id": "2eec1e78-566d-4c8a-973b-3294a6e4e6db",
   "metadata": {},
   "outputs": [
    {
     "name": "stdout",
     "output_type": "stream",
     "text": [
      "Average number of conflicts: \n",
      "5.83\n",
      "\n",
      "Median number of conflicts:\n",
      "2.0\n"
     ]
    }
   ],
   "source": [
    "avg_conflict = round(violence_country_series.mean(), 2)\n",
    "median_conflict = round(violence_country_series.median(), 2)\n",
    "\n",
    "print(f'Average number of conflicts: \\n{avg_conflict}\\n\\nMedian number of conflicts:\\n{median_conflict}')"
   ]
  },
  {
   "cell_type": "code",
   "execution_count": 14,
   "id": "53d8eb0f-7ba7-4c76-a8e2-60246228650e",
   "metadata": {},
   "outputs": [],
   "source": [
    "conflicts_nuclear_dict = {'China': len([country for country in conflicts_with_nuclear_nations if country == 'China']),\n",
    "'France': len([country for country in conflicts_with_nuclear_nations if country == 'France']),\n",
    "'India': len([country for country in conflicts_with_nuclear_nations if country == 'India']),\n",
    "'Israel': len([country for country in conflicts_with_nuclear_nations if country == 'Israel']),\n",
    "'North Korea': len([country for country in conflicts_with_nuclear_nations if country == 'North Korea']),\n",
    "'Pakistan': len([country for country in conflicts_with_nuclear_nations if country == 'Pakistan']),\n",
    "'Russia': len([country for country in conflicts_with_nuclear_nations if country == 'Russia']),\n",
    "'United Kingdom': len([country for country in conflicts_with_nuclear_nations if country == 'United Kingdom']),\n",
    "'United States': len([country for country in conflicts_with_nuclear_nations if country == 'United States'])}"
   ]
  },
  {
   "cell_type": "code",
   "execution_count": 15,
   "id": "44503e03-0d31-49fd-85ec-afc7c1535d0d",
   "metadata": {},
   "outputs": [
    {
     "data": {
      "text/plain": [
       "{'China': True,\n",
       " 'France': True,\n",
       " 'India': True,\n",
       " 'Israel': False,\n",
       " 'North Korea': False,\n",
       " 'Pakistan': True,\n",
       " 'Russia': False,\n",
       " 'United Kingdom': False,\n",
       " 'United States': True}"
      ]
     },
     "execution_count": 15,
     "metadata": {},
     "output_type": "execute_result"
    }
   ],
   "source": [
    "comparison_nuclear_average_dict = {country:conflict>avg_conflict for (country,conflict) in conflicts_nuclear_dict.items()}\n",
    "comparison_nuclear_average_dict"
   ]
  },
  {
   "cell_type": "code",
   "execution_count": 16,
   "id": "7cc38393-9456-4df0-aef9-9baf63e4a0da",
   "metadata": {},
   "outputs": [
    {
     "data": {
      "text/plain": [
       "{'China': True,\n",
       " 'France': True,\n",
       " 'India': True,\n",
       " 'Israel': True,\n",
       " 'North Korea': True,\n",
       " 'Pakistan': True,\n",
       " 'Russia': False,\n",
       " 'United Kingdom': False,\n",
       " 'United States': True}"
      ]
     },
     "execution_count": 16,
     "metadata": {},
     "output_type": "execute_result"
    }
   ],
   "source": [
    "comparison_nuclear_median_dict = {country:conflict>median_conflict for (country,conflict) in conflicts_nuclear_dict.items()}\n",
    "comparison_nuclear_median_dict"
   ]
  },
  {
   "cell_type": "markdown",
   "id": "dab24f28-ef5e-48f8-8446-6e5698168d9f",
   "metadata": {},
   "source": [
    "Question: Are countries with nuclear weapons involved in more or less conflicts? \n",
    "Apparent answer: About half of the nuclear powers have been in more conflicts than the average nation but all except Russia and the United Kingdom have been in more than the median. It is however necessary to consider the following aspects: 1) The USSR (Russia), the USA, the UK and France have been involved in many proxy wars during the Cold War, which ends up not counting to their score of conflicts. 2) Russia, especially, has been involved in many conflicts utilizing the Wagner Group or army battalions under the blag flag to attack enemy States, mostly in the Middle East. 3) After WW2, many regions in the world have experienced a relative peace and that greatly reduced the average and median conflicts per country."
   ]
  }
 ],
 "metadata": {
  "kernelspec": {
   "display_name": "Python 3 (ipykernel)",
   "language": "python",
   "name": "python3"
  },
  "language_info": {
   "codemirror_mode": {
    "name": "ipython",
    "version": 3
   },
   "file_extension": ".py",
   "mimetype": "text/x-python",
   "name": "python",
   "nbconvert_exporter": "python",
   "pygments_lexer": "ipython3",
   "version": "3.11.5"
  }
 },
 "nbformat": 4,
 "nbformat_minor": 5
}
