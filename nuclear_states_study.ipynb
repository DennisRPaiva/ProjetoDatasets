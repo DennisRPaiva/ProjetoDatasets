{
 "cells": [
  {
   "cell_type": "code",
   "execution_count": 1,
   "id": "d1f6a992-50a0-49a5-96bf-93e42ce74542",
   "metadata": {},
   "outputs": [],
   "source": [
    "import pandas as pd\n",
    "import numpy as np\n",
    "import matplotlib.pyplot as plt\n",
    "import seaborn as sns"
   ]
  },
  {
   "cell_type": "code",
   "execution_count": 2,
   "id": "02dee4ec-303d-4d58-aff9-27e61673e024",
   "metadata": {},
   "outputs": [
    {
     "data": {
      "text/html": [
       "<div>\n",
       "<style scoped>\n",
       "    .dataframe tbody tr th:only-of-type {\n",
       "        vertical-align: middle;\n",
       "    }\n",
       "\n",
       "    .dataframe tbody tr th {\n",
       "        vertical-align: top;\n",
       "    }\n",
       "\n",
       "    .dataframe thead th {\n",
       "        text-align: right;\n",
       "    }\n",
       "</style>\n",
       "<table border=\"1\" class=\"dataframe\">\n",
       "  <thead>\n",
       "    <tr style=\"text-align: right;\">\n",
       "      <th></th>\n",
       "      <th>Date</th>\n",
       "      <th>Headline</th>\n",
       "      <th>Conflict Type</th>\n",
       "      <th>Country</th>\n",
       "      <th>Region</th>\n",
       "      <th>Description</th>\n",
       "      <th>Sources</th>\n",
       "    </tr>\n",
       "  </thead>\n",
       "  <tbody>\n",
       "    <tr>\n",
       "      <th>922</th>\n",
       "      <td>2019</td>\n",
       "      <td>One Israeli killed and two others injured at a...</td>\n",
       "      <td>Trigger</td>\n",
       "      <td>Palestine</td>\n",
       "      <td>Western Asia</td>\n",
       "      <td>A homemade bomb explodes at a spring, killing ...</td>\n",
       "      <td>Chronicle News Service 2019</td>\n",
       "    </tr>\n",
       "    <tr>\n",
       "      <th>923</th>\n",
       "      <td>2019</td>\n",
       "      <td>50,000 people flee their homes in central Mali...</td>\n",
       "      <td>Trigger</td>\n",
       "      <td>Mali</td>\n",
       "      <td>Sub-Saharan Africa</td>\n",
       "      <td>A series of massacres in central Mali, fueled ...</td>\n",
       "      <td>Webb 2019</td>\n",
       "    </tr>\n",
       "    <tr>\n",
       "      <th>924</th>\n",
       "      <td>2019</td>\n",
       "      <td>Violence in northwest Syria damages civilian i...</td>\n",
       "      <td>Casualty</td>\n",
       "      <td>Syria</td>\n",
       "      <td>Western Asia</td>\n",
       "      <td>From January through July 2019 violence in nor...</td>\n",
       "      <td>US Agency for International Development 2019</td>\n",
       "    </tr>\n",
       "    <tr>\n",
       "      <th>925</th>\n",
       "      <td>2019</td>\n",
       "      <td>Shrapnel damages a water pipeline, leaving mor...</td>\n",
       "      <td>Casualty</td>\n",
       "      <td>Ukraine</td>\n",
       "      <td>Eastern Europe</td>\n",
       "      <td>Shrapnel from an exploding shells damages a pi...</td>\n",
       "      <td>UNICEF 2019</td>\n",
       "    </tr>\n",
       "    <tr>\n",
       "      <th>926</th>\n",
       "      <td>2022</td>\n",
       "      <td>Conflict in Ukraine</td>\n",
       "      <td>Weapon</td>\n",
       "      <td>Keiv,Ukraine</td>\n",
       "      <td>Eastern Europe</td>\n",
       "      <td>The Russo-Ukrainian War is an ongoing war prim...</td>\n",
       "      <td>UNICEF 2020</td>\n",
       "    </tr>\n",
       "  </tbody>\n",
       "</table>\n",
       "</div>"
      ],
      "text/plain": [
       "     Date                                           Headline Conflict Type  \\\n",
       "922  2019  One Israeli killed and two others injured at a...       Trigger   \n",
       "923  2019  50,000 people flee their homes in central Mali...       Trigger   \n",
       "924  2019  Violence in northwest Syria damages civilian i...      Casualty   \n",
       "925  2019  Shrapnel damages a water pipeline, leaving mor...      Casualty   \n",
       "926  2022                                Conflict in Ukraine        Weapon   \n",
       "\n",
       "          Country              Region  \\\n",
       "922     Palestine        Western Asia   \n",
       "923          Mali  Sub-Saharan Africa   \n",
       "924         Syria        Western Asia   \n",
       "925       Ukraine      Eastern Europe   \n",
       "926  Keiv,Ukraine      Eastern Europe   \n",
       "\n",
       "                                           Description  \\\n",
       "922  A homemade bomb explodes at a spring, killing ...   \n",
       "923  A series of massacres in central Mali, fueled ...   \n",
       "924  From January through July 2019 violence in nor...   \n",
       "925  Shrapnel from an exploding shells damages a pi...   \n",
       "926  The Russo-Ukrainian War is an ongoing war prim...   \n",
       "\n",
       "                                          Sources  \n",
       "922                   Chronicle News Service 2019  \n",
       "923                                     Webb 2019  \n",
       "924  US Agency for International Development 2019  \n",
       "925                                   UNICEF 2019  \n",
       "926                                   UNICEF 2020  "
      ]
     },
     "metadata": {},
     "output_type": "display_data"
    },
    {
     "data": {
      "text/html": [
       "<div>\n",
       "<style scoped>\n",
       "    .dataframe tbody tr th:only-of-type {\n",
       "        vertical-align: middle;\n",
       "    }\n",
       "\n",
       "    .dataframe tbody tr th {\n",
       "        vertical-align: top;\n",
       "    }\n",
       "\n",
       "    .dataframe thead th {\n",
       "        text-align: right;\n",
       "    }\n",
       "</style>\n",
       "<table border=\"1\" class=\"dataframe\">\n",
       "  <thead>\n",
       "    <tr style=\"text-align: right;\">\n",
       "      <th></th>\n",
       "      <th>country_name</th>\n",
       "      <th>year</th>\n",
       "      <th>nuclear_weapons_stockpile</th>\n",
       "    </tr>\n",
       "  </thead>\n",
       "  <tbody>\n",
       "    <tr>\n",
       "      <th>775</th>\n",
       "      <td>United States</td>\n",
       "      <td>2018</td>\n",
       "      <td>3785</td>\n",
       "    </tr>\n",
       "    <tr>\n",
       "      <th>776</th>\n",
       "      <td>United States</td>\n",
       "      <td>2019</td>\n",
       "      <td>3805</td>\n",
       "    </tr>\n",
       "    <tr>\n",
       "      <th>777</th>\n",
       "      <td>United States</td>\n",
       "      <td>2020</td>\n",
       "      <td>3750</td>\n",
       "    </tr>\n",
       "    <tr>\n",
       "      <th>778</th>\n",
       "      <td>United States</td>\n",
       "      <td>2021</td>\n",
       "      <td>3708</td>\n",
       "    </tr>\n",
       "    <tr>\n",
       "      <th>779</th>\n",
       "      <td>United States</td>\n",
       "      <td>2022</td>\n",
       "      <td>3708</td>\n",
       "    </tr>\n",
       "  </tbody>\n",
       "</table>\n",
       "</div>"
      ],
      "text/plain": [
       "      country_name  year  nuclear_weapons_stockpile\n",
       "775  United States  2018                       3785\n",
       "776  United States  2019                       3805\n",
       "777  United States  2020                       3750\n",
       "778  United States  2021                       3708\n",
       "779  United States  2022                       3708"
      ]
     },
     "metadata": {},
     "output_type": "display_data"
    }
   ],
   "source": [
    "conflicts = pd.read_csv('conflicts_and_wars_202403110030.csv', delimiter=',')\n",
    "nuclear_stockpiles = pd.read_csv('nuclear_weapon/nuclear_weapons_stockpiles.csv', delimiter=',')\n",
    "display(conflicts.tail(),nuclear_stockpiles.tail())"
   ]
  },
  {
   "cell_type": "code",
   "execution_count": 3,
   "id": "53a6db9f-304c-4293-8727-c1c6fe063f44",
   "metadata": {},
   "outputs": [],
   "source": [
    "## Are regions that have historicaly been more violent  more likely to have nuclear powers?"
   ]
  },
  {
   "cell_type": "markdown",
   "id": "09d7e3cf-cb29-404a-ac9e-09e8fe4de849",
   "metadata": {},
   "source": [
    "To understand violence by region, it is necessary for the nuclear_stockpiles DataFrame to have a region indicating what region each country belongs to so it's possible to correlate with the already defined region in the conflicts DataFrame."
   ]
  },
  {
   "cell_type": "code",
   "execution_count": 4,
   "id": "441c7c92-518d-4879-af4e-65807afbafd7",
   "metadata": {},
   "outputs": [
    {
     "data": {
      "text/html": [
       "<div>\n",
       "<style scoped>\n",
       "    .dataframe tbody tr th:only-of-type {\n",
       "        vertical-align: middle;\n",
       "    }\n",
       "\n",
       "    .dataframe tbody tr th {\n",
       "        vertical-align: top;\n",
       "    }\n",
       "\n",
       "    .dataframe thead th {\n",
       "        text-align: right;\n",
       "    }\n",
       "</style>\n",
       "<table border=\"1\" class=\"dataframe\">\n",
       "  <thead>\n",
       "    <tr style=\"text-align: right;\">\n",
       "      <th></th>\n",
       "      <th>country_name</th>\n",
       "      <th>year</th>\n",
       "      <th>nuclear_weapons_stockpile</th>\n",
       "      <th>Region</th>\n",
       "    </tr>\n",
       "  </thead>\n",
       "  <tbody>\n",
       "    <tr>\n",
       "      <th>775</th>\n",
       "      <td>United States</td>\n",
       "      <td>2018</td>\n",
       "      <td>3785</td>\n",
       "      <td>North America</td>\n",
       "    </tr>\n",
       "    <tr>\n",
       "      <th>776</th>\n",
       "      <td>United States</td>\n",
       "      <td>2019</td>\n",
       "      <td>3805</td>\n",
       "      <td>North America</td>\n",
       "    </tr>\n",
       "    <tr>\n",
       "      <th>777</th>\n",
       "      <td>United States</td>\n",
       "      <td>2020</td>\n",
       "      <td>3750</td>\n",
       "      <td>North America</td>\n",
       "    </tr>\n",
       "    <tr>\n",
       "      <th>778</th>\n",
       "      <td>United States</td>\n",
       "      <td>2021</td>\n",
       "      <td>3708</td>\n",
       "      <td>North America</td>\n",
       "    </tr>\n",
       "    <tr>\n",
       "      <th>779</th>\n",
       "      <td>United States</td>\n",
       "      <td>2022</td>\n",
       "      <td>3708</td>\n",
       "      <td>North America</td>\n",
       "    </tr>\n",
       "  </tbody>\n",
       "</table>\n",
       "</div>"
      ],
      "text/plain": [
       "      country_name  year  nuclear_weapons_stockpile         Region\n",
       "775  United States  2018                       3785  North America\n",
       "776  United States  2019                       3805  North America\n",
       "777  United States  2020                       3750  North America\n",
       "778  United States  2021                       3708  North America\n",
       "779  United States  2022                       3708  North America"
      ]
     },
     "execution_count": 4,
     "metadata": {},
     "output_type": "execute_result"
    }
   ],
   "source": [
    "country_to_region = dict(zip(conflicts['Country'], conflicts['Region']))\n",
    "\n",
    "nuclear_stockpiles['Region'] = nuclear_stockpiles['country_name'].map(country_to_region)\n",
    "nuclear_stockpiles.tail()"
   ]
  },
  {
   "cell_type": "markdown",
   "id": "88fbfc0f-9cfe-438a-83a3-99ae84251362",
   "metadata": {},
   "source": [
    "Histogram: X = Violence, Y = number of nuclear states"
   ]
  },
  {
   "cell_type": "code",
   "execution_count": 5,
   "id": "9a914353-9199-4f8d-9849-45c6b23d7223",
   "metadata": {
    "scrolled": true
   },
   "outputs": [
    {
     "data": {
      "text/plain": [
       "Region\n",
       "*Western Asia                                                                                                        1\n",
       "Australia and New Zealand                                                                                            2\n",
       "Central Asia                                                                                                        15\n",
       "Eastern Asia                                                                                                        27\n",
       "Eastern China                                                                                                        1\n",
       "Eastern Europe                                                                                                      28\n",
       "Hundreds of residents and municipal union members protest the lack of free water in their town in South Africa.      1\n",
       "Latin America & the Caribbean                                                                                        2\n",
       "Latin America and the Ca                                                                                            36\n",
       "Latin America and the Caribbean                                                                                     27\n",
       "Melanesia                                                                                                            1\n",
       "North America                                                                                                       53\n",
       "Northern Africa                                                                                                     60\n",
       "Northern Asia                                                                                                        1\n",
       "Northern Europe                                                                                                      3\n",
       "South-eastern Asia                                                                                                   5\n",
       "Southeast Asia                                                                                                      15\n",
       "Southern Asia                                                                                                      124\n",
       "Southern Europe                                                                                                     27\n",
       "Sub-Saharan Africa                                                                                                 174\n",
       "Western Asia                                                                                                       305\n",
       "Western Europe                                                                                                      19\n",
       "Name: Region, dtype: int64"
      ]
     },
     "execution_count": 5,
     "metadata": {},
     "output_type": "execute_result"
    }
   ],
   "source": [
    "violence_region_series = conflicts.groupby('Region')['Region'].count()\n",
    "violence_region_series"
   ]
  },
  {
   "cell_type": "code",
   "execution_count": 6,
   "id": "e000603e-28ba-403d-a096-2360076ec124",
   "metadata": {},
   "outputs": [],
   "source": [
    "nuclear_states_dict = dict(nuclear_stockpiles.groupby('Region')['country_name'].nunique())"
   ]
  },
  {
   "cell_type": "code",
   "execution_count": 7,
   "id": "f370f75b-6c2f-41ed-bd4f-e20262a7abd3",
   "metadata": {},
   "outputs": [
    {
     "data": {
      "text/plain": [
       "Eastern Asia      2\n",
       "Eastern Europe    1\n",
       "North America     1\n",
       "Southern Asia     2\n",
       "Western Asia      1\n",
       "Western Europe    2\n",
       "dtype: int64"
      ]
     },
     "execution_count": 7,
     "metadata": {},
     "output_type": "execute_result"
    }
   ],
   "source": [
    "del violence_region_series['*Western Asia']\n",
    "del violence_region_series['Latin America and the Ca']\n",
    "violence_region_series['Latin American and the Caribbean'] = 27+36\n",
    "del nuclear_states_dict['Sub-Saharan Africa']\n",
    "nuclear_states_dict['Western Europe'] = 2\n",
    "nuclear_states_series = pd.Series(nuclear_states_dict)\n",
    "nuclear_states_series"
   ]
  },
  {
   "cell_type": "code",
   "execution_count": 8,
   "id": "eae344f6-a795-462f-925d-5111017fa57b",
   "metadata": {},
   "outputs": [],
   "source": [
    "extra_region_list = ['Australia and New Zealand','Central Asia','Eastern China','Hundreds of residents and municipal union members protest the lack of free water in their town in South Africa.','Latin America & the Caribbean','Latin America and the Caribbean','Melanesia','Northern Africa','Northern Asia','Northern Europe','South-eastern Asia','Southeast Asia','Southern Europe','Sub-Saharan Africa','Western Asia','Southwest Asia']\n",
    "for region in extra_region_list:\n",
    "    if region not in nuclear_states_series:\n",
    "        nuclear_states_series[region] = 0"
   ]
  },
  {
   "cell_type": "code",
   "execution_count": 9,
   "id": "89d43116-a63e-46de-833b-194e4e39af71",
   "metadata": {},
   "outputs": [
    {
     "data": {
      "text/plain": [
       "[]"
      ]
     },
     "execution_count": 9,
     "metadata": {},
     "output_type": "execute_result"
    },
    {
     "data": {
      "image/png": "[encoded data removed]",
      "text/plain": [
       "<Figure size 640x480 with 1 Axes>"
      ]
     },
     "metadata": {},
     "output_type": "display_data"
    }
   ],
   "source": [
    "plt.bar(violence_region_series, nuclear_states_series, width = 10, align = 'center')\n",
    "plt.title('Number of nuclear States per amount of conflicts in region')\n",
    "plt.xlabel('Number of conflicts')\n",
    "plt.ylabel('Number of nuclear States')\n",
    "plt.plot()"
   ]
  },
  {
   "cell_type": "markdown",
   "id": "56839487-5728-42d1-8762-f59e43d16d81",
   "metadata": {},
   "source": [
    "Question: Are regions that have historicaly been more violent  more likely to have nuclear powers?\n",
    "Apparent answer: Although it appears hard to directly correlate violence in a region to existence of nations possessing nuclear power, it appears that the opposite happened, regions with less war have spawned a larger number of nuclear powers. It is however important to take a few things into consideration: Firstly, the nuclear power of North America has experienced relatively few conflicts due to it's short existence, being freed in 1776, secondly the unique social structure of China, which emphasized isolationism and thirdly the division of Europe into many smaller regions, making so that conflicts that involved many nations in the continent appear to involve only a small region."
   ]
  },
  {
   "cell_type": "markdown",
   "id": "cebd29f7-f77e-4262-bef8-6706ed1a9f7b",
   "metadata": {},
   "source": [
    "## Are nuclear States more likely to go to war with non-nuclear States?"
   ]
  },
  {
   "cell_type": "code",
   "execution_count": 48,
   "id": "374e8877-01ba-405c-9b95-cd504c91f35a",
   "metadata": {},
   "outputs": [],
   "source": [
    "nuclear_nations = [nation for nation in nuclear_stockpiles.country_name.unique() if 'South Africa' not in nation]"
   ]
  },
  {
   "cell_type": "code",
   "execution_count": 49,
   "id": "5e042e1b-9ac2-4a46-a85a-9e1fa42ea404",
   "metadata": {},
   "outputs": [
    {
     "data": {
      "text/plain": [
       "['China',\n",
       " 'France',\n",
       " 'India',\n",
       " 'Israel',\n",
       " 'North Korea',\n",
       " 'Pakistan',\n",
       " 'Russia',\n",
       " 'United Kingdom',\n",
       " 'United States']"
      ]
     },
     "execution_count": 49,
     "metadata": {},
     "output_type": "execute_result"
    }
   ],
   "source": [
    "nuclear_nations"
   ]
  },
  {
   "cell_type": "code",
   "execution_count": 50,
   "id": "31e385f8-9703-4760-adf5-1ea2c86b20ff",
   "metadata": {},
   "outputs": [],
   "source": [
    "conflicts_with_nuclear_nations = [nation for nation in conflicts.Country if nation.split(', ')[0] in nuclear_nations]"
   ]
  },
  {
   "cell_type": "code",
   "execution_count": 51,
   "id": "bf6aec7c-19bd-457c-bf3e-c787870faf60",
   "metadata": {
    "scrolled": true
   },
   "outputs": [
    {
     "data": {
      "text/plain": [
       "['China',\n",
       " 'China, Japan',\n",
       " 'India',\n",
       " 'China',\n",
       " 'China',\n",
       " 'United States',\n",
       " 'United States',\n",
       " 'United States',\n",
       " 'United States',\n",
       " 'United States',\n",
       " 'United States',\n",
       " 'United States',\n",
       " 'United States',\n",
       " 'United States',\n",
       " 'United States',\n",
       " 'United States',\n",
       " 'United States',\n",
       " 'United States',\n",
       " 'China, Japan',\n",
       " 'China, Japan',\n",
       " 'France',\n",
       " 'France, Germany',\n",
       " 'India, Pakistan',\n",
       " 'North Korea',\n",
       " 'North Korea',\n",
       " 'Israel, Jordan, Syria',\n",
       " 'North Korea',\n",
       " 'Israel, Jordan, Syria',\n",
       " 'Israel, Syria',\n",
       " 'Israel, Syria',\n",
       " 'Israel, Palestine',\n",
       " 'Israel, Jordan, Syria',\n",
       " 'United States',\n",
       " 'Israel, Jordan',\n",
       " 'United States',\n",
       " 'Israel, Jordan',\n",
       " 'United States',\n",
       " 'China',\n",
       " 'United States',\n",
       " 'United States',\n",
       " 'United States',\n",
       " 'United States',\n",
       " 'United States',\n",
       " 'United States',\n",
       " 'China',\n",
       " 'United States',\n",
       " 'United States',\n",
       " 'United States',\n",
       " 'Israel',\n",
       " 'United States',\n",
       " 'United States',\n",
       " 'United States',\n",
       " 'North Korea, South Korea',\n",
       " 'Pakistan',\n",
       " 'United States',\n",
       " 'Israel',\n",
       " 'China',\n",
       " 'India',\n",
       " 'China',\n",
       " 'China',\n",
       " 'United States',\n",
       " 'Israel',\n",
       " 'China',\n",
       " 'India',\n",
       " 'France',\n",
       " 'France',\n",
       " 'France',\n",
       " 'United States',\n",
       " 'France',\n",
       " 'United States',\n",
       " 'China',\n",
       " 'France',\n",
       " 'United States',\n",
       " 'Israel, Palestine',\n",
       " 'Pakistan',\n",
       " 'China',\n",
       " 'Russia',\n",
       " 'India',\n",
       " 'United States',\n",
       " 'India',\n",
       " 'United States',\n",
       " 'India',\n",
       " 'Pakistan',\n",
       " 'France',\n",
       " 'Russia',\n",
       " 'United States',\n",
       " 'United States',\n",
       " 'India',\n",
       " 'China',\n",
       " 'Pakistan',\n",
       " 'India',\n",
       " 'China',\n",
       " 'China',\n",
       " 'India',\n",
       " 'Pakistan',\n",
       " 'Israel',\n",
       " 'China',\n",
       " 'Israel, Lebanon',\n",
       " 'Pakistan',\n",
       " 'Pakistan',\n",
       " 'Pakistan',\n",
       " 'India',\n",
       " 'India',\n",
       " 'Pakistan',\n",
       " 'Pakistan',\n",
       " 'Israel',\n",
       " 'Pakistan',\n",
       " 'India',\n",
       " 'Pakistan',\n",
       " 'China',\n",
       " 'Pakistan',\n",
       " 'Pakistan',\n",
       " 'India',\n",
       " 'India',\n",
       " 'North Korea, South Korea',\n",
       " 'Pakistan',\n",
       " 'Pakistan',\n",
       " 'Pakistan',\n",
       " 'India',\n",
       " 'India',\n",
       " 'Pakistan',\n",
       " 'Pakistan',\n",
       " 'India',\n",
       " 'Pakistan',\n",
       " 'United States',\n",
       " 'India',\n",
       " 'Pakistan',\n",
       " 'Pakistan',\n",
       " 'India',\n",
       " 'India',\n",
       " 'India, Pakistan',\n",
       " 'China',\n",
       " 'India, Pakistan',\n",
       " 'India',\n",
       " 'Pakistan',\n",
       " 'Pakistan',\n",
       " 'Pakistan',\n",
       " 'Pakistan',\n",
       " 'Pakistan',\n",
       " 'India',\n",
       " 'China',\n",
       " 'India, Pakistan',\n",
       " 'India',\n",
       " 'Pakistan',\n",
       " 'United States',\n",
       " 'India',\n",
       " 'India',\n",
       " 'United States',\n",
       " 'Pakistan',\n",
       " 'India',\n",
       " 'Pakistan',\n",
       " 'India',\n",
       " 'India',\n",
       " 'India',\n",
       " 'India',\n",
       " 'India',\n",
       " 'United States',\n",
       " 'United States',\n",
       " 'India',\n",
       " 'Pakistan',\n",
       " 'India',\n",
       " 'United States',\n",
       " 'India',\n",
       " 'India',\n",
       " 'United States',\n",
       " 'India',\n",
       " 'India',\n",
       " 'India',\n",
       " 'India',\n",
       " 'India',\n",
       " 'United States',\n",
       " 'India',\n",
       " 'India',\n",
       " 'Pakistan']"
      ]
     },
     "execution_count": 51,
     "metadata": {},
     "output_type": "execute_result"
    }
   ],
   "source": [
    "conflicts_with_nuclear_nations"
   ]
  },
  {
   "cell_type": "markdown",
   "id": "79b118b0-9d05-4e9f-8527-2267c87dbadd",
   "metadata": {},
   "source": [
    "Question: Are nuclear States more likely to go to war with non-nuclear States?\n",
    "Apparent answer: Although nuclear states appear to not go to war more often than non-nuclear states, all wars that involved nuclear nations were with non-nuclear countries. The only conflicts between nuclear countries happen between India and Pakistan."
   ]
  }
 ],
 "metadata": {
  "kernelspec": {
   "display_name": "Python 3 (ipykernel)",
   "language": "python",
   "name": "python3"
  },
  "language_info": {
   "codemirror_mode": {
    "name": "ipython",
    "version": 3
   },
   "file_extension": ".py",
   "mimetype": "text/x-python",
   "name": "python",
   "nbconvert_exporter": "python",
   "pygments_lexer": "ipython3",
   "version": "3.11.5"
  }
 },
 "nbformat": 4,
 "nbformat_minor": 5
}
